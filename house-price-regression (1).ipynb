{
 "cells": [
  {
   "cell_type": "code",
   "execution_count": 1,
   "id": "ad8ff177",
   "metadata": {
    "execution": {
     "iopub.execute_input": "2022-02-22T02:45:18.031949Z",
     "iopub.status.busy": "2022-02-22T02:45:18.030744Z",
     "iopub.status.idle": "2022-02-22T02:45:19.197075Z",
     "shell.execute_reply": "2022-02-22T02:45:19.196245Z",
     "shell.execute_reply.started": "2022-02-22T02:20:35.800752Z"
    },
    "papermill": {
     "duration": 1.211424,
     "end_time": "2022-02-22T02:45:19.197258",
     "exception": false,
     "start_time": "2022-02-22T02:45:17.985834",
     "status": "completed"
    },
    "tags": []
   },
   "outputs": [],
   "source": [
    "import numpy as np\n",
    "import pandas as pd\n",
    "import matplotlib.pyplot as plt\n",
    "import seaborn as sns"
   ]
  },
  {
   "cell_type": "code",
   "execution_count": 2,
   "id": "e91a92f5",
   "metadata": {
    "execution": {
     "iopub.execute_input": "2022-02-22T02:45:19.286464Z",
     "iopub.status.busy": "2022-02-22T02:45:19.285417Z",
     "iopub.status.idle": "2022-02-22T02:45:19.295058Z",
     "shell.execute_reply": "2022-02-22T02:45:19.295727Z",
     "shell.execute_reply.started": "2022-02-22T02:20:35.807942Z"
    },
    "papermill": {
     "duration": 0.056045,
     "end_time": "2022-02-22T02:45:19.295904",
     "exception": false,
     "start_time": "2022-02-22T02:45:19.239859",
     "status": "completed"
    },
    "tags": []
   },
   "outputs": [
    {
     "name": "stdout",
     "output_type": "stream",
     "text": [
      "/kaggle/input/house-prices-data/train.csv\n",
      "/kaggle/input/house-prices-data/test.csv\n"
     ]
    }
   ],
   "source": [
    "import os\n",
    "for dirname, _, filenames in os.walk('/kaggle/input'):\n",
    "    for filename in filenames:\n",
    "        print(os.path.join(dirname, filename))"
   ]
  },
  {
   "cell_type": "code",
   "execution_count": 3,
   "id": "3a122839",
   "metadata": {
    "execution": {
     "iopub.execute_input": "2022-02-22T02:45:19.387685Z",
     "iopub.status.busy": "2022-02-22T02:45:19.386857Z",
     "iopub.status.idle": "2022-02-22T02:45:19.428826Z",
     "shell.execute_reply": "2022-02-22T02:45:19.429368Z",
     "shell.execute_reply.started": "2022-02-22T02:20:35.825389Z"
    },
    "papermill": {
     "duration": 0.090709,
     "end_time": "2022-02-22T02:45:19.429540",
     "exception": false,
     "start_time": "2022-02-22T02:45:19.338831",
     "status": "completed"
    },
    "tags": []
   },
   "outputs": [],
   "source": [
    "df = pd.read_csv('/kaggle/input/house-prices-data/train.csv')\n",
    "#test_df = pd.read_csv('/kaggle/input/house-prices-data/test.csv')"
   ]
  },
  {
   "cell_type": "code",
   "execution_count": 4,
   "id": "585fb586",
   "metadata": {
    "execution": {
     "iopub.execute_input": "2022-02-22T02:45:19.514673Z",
     "iopub.status.busy": "2022-02-22T02:45:19.513973Z",
     "iopub.status.idle": "2022-02-22T02:45:19.550119Z",
     "shell.execute_reply": "2022-02-22T02:45:19.550681Z",
     "shell.execute_reply.started": "2022-02-22T02:20:35.862901Z"
    },
    "papermill": {
     "duration": 0.080982,
     "end_time": "2022-02-22T02:45:19.550867",
     "exception": false,
     "start_time": "2022-02-22T02:45:19.469885",
     "status": "completed"
    },
    "tags": []
   },
   "outputs": [
    {
     "data": {
      "text/html": [
       "<div>\n",
       "<style scoped>\n",
       "    .dataframe tbody tr th:only-of-type {\n",
       "        vertical-align: middle;\n",
       "    }\n",
       "\n",
       "    .dataframe tbody tr th {\n",
       "        vertical-align: top;\n",
       "    }\n",
       "\n",
       "    .dataframe thead th {\n",
       "        text-align: right;\n",
       "    }\n",
       "</style>\n",
       "<table border=\"1\" class=\"dataframe\">\n",
       "  <thead>\n",
       "    <tr style=\"text-align: right;\">\n",
       "      <th></th>\n",
       "      <th>Id</th>\n",
       "      <th>MSSubClass</th>\n",
       "      <th>MSZoning</th>\n",
       "      <th>LotFrontage</th>\n",
       "      <th>LotArea</th>\n",
       "      <th>Street</th>\n",
       "      <th>Alley</th>\n",
       "      <th>LotShape</th>\n",
       "      <th>LandContour</th>\n",
       "      <th>Utilities</th>\n",
       "      <th>...</th>\n",
       "      <th>PoolArea</th>\n",
       "      <th>PoolQC</th>\n",
       "      <th>Fence</th>\n",
       "      <th>MiscFeature</th>\n",
       "      <th>MiscVal</th>\n",
       "      <th>MoSold</th>\n",
       "      <th>YrSold</th>\n",
       "      <th>SaleType</th>\n",
       "      <th>SaleCondition</th>\n",
       "      <th>SalePrice</th>\n",
       "    </tr>\n",
       "  </thead>\n",
       "  <tbody>\n",
       "    <tr>\n",
       "      <th>0</th>\n",
       "      <td>1</td>\n",
       "      <td>60</td>\n",
       "      <td>RL</td>\n",
       "      <td>65.0</td>\n",
       "      <td>8450</td>\n",
       "      <td>Pave</td>\n",
       "      <td>NaN</td>\n",
       "      <td>Reg</td>\n",
       "      <td>Lvl</td>\n",
       "      <td>AllPub</td>\n",
       "      <td>...</td>\n",
       "      <td>0</td>\n",
       "      <td>NaN</td>\n",
       "      <td>NaN</td>\n",
       "      <td>NaN</td>\n",
       "      <td>0</td>\n",
       "      <td>2</td>\n",
       "      <td>2008</td>\n",
       "      <td>WD</td>\n",
       "      <td>Normal</td>\n",
       "      <td>208500</td>\n",
       "    </tr>\n",
       "    <tr>\n",
       "      <th>1</th>\n",
       "      <td>2</td>\n",
       "      <td>20</td>\n",
       "      <td>RL</td>\n",
       "      <td>80.0</td>\n",
       "      <td>9600</td>\n",
       "      <td>Pave</td>\n",
       "      <td>NaN</td>\n",
       "      <td>Reg</td>\n",
       "      <td>Lvl</td>\n",
       "      <td>AllPub</td>\n",
       "      <td>...</td>\n",
       "      <td>0</td>\n",
       "      <td>NaN</td>\n",
       "      <td>NaN</td>\n",
       "      <td>NaN</td>\n",
       "      <td>0</td>\n",
       "      <td>5</td>\n",
       "      <td>2007</td>\n",
       "      <td>WD</td>\n",
       "      <td>Normal</td>\n",
       "      <td>181500</td>\n",
       "    </tr>\n",
       "    <tr>\n",
       "      <th>2</th>\n",
       "      <td>3</td>\n",
       "      <td>60</td>\n",
       "      <td>RL</td>\n",
       "      <td>68.0</td>\n",
       "      <td>11250</td>\n",
       "      <td>Pave</td>\n",
       "      <td>NaN</td>\n",
       "      <td>IR1</td>\n",
       "      <td>Lvl</td>\n",
       "      <td>AllPub</td>\n",
       "      <td>...</td>\n",
       "      <td>0</td>\n",
       "      <td>NaN</td>\n",
       "      <td>NaN</td>\n",
       "      <td>NaN</td>\n",
       "      <td>0</td>\n",
       "      <td>9</td>\n",
       "      <td>2008</td>\n",
       "      <td>WD</td>\n",
       "      <td>Normal</td>\n",
       "      <td>223500</td>\n",
       "    </tr>\n",
       "    <tr>\n",
       "      <th>3</th>\n",
       "      <td>4</td>\n",
       "      <td>70</td>\n",
       "      <td>RL</td>\n",
       "      <td>60.0</td>\n",
       "      <td>9550</td>\n",
       "      <td>Pave</td>\n",
       "      <td>NaN</td>\n",
       "      <td>IR1</td>\n",
       "      <td>Lvl</td>\n",
       "      <td>AllPub</td>\n",
       "      <td>...</td>\n",
       "      <td>0</td>\n",
       "      <td>NaN</td>\n",
       "      <td>NaN</td>\n",
       "      <td>NaN</td>\n",
       "      <td>0</td>\n",
       "      <td>2</td>\n",
       "      <td>2006</td>\n",
       "      <td>WD</td>\n",
       "      <td>Abnorml</td>\n",
       "      <td>140000</td>\n",
       "    </tr>\n",
       "    <tr>\n",
       "      <th>4</th>\n",
       "      <td>5</td>\n",
       "      <td>60</td>\n",
       "      <td>RL</td>\n",
       "      <td>84.0</td>\n",
       "      <td>14260</td>\n",
       "      <td>Pave</td>\n",
       "      <td>NaN</td>\n",
       "      <td>IR1</td>\n",
       "      <td>Lvl</td>\n",
       "      <td>AllPub</td>\n",
       "      <td>...</td>\n",
       "      <td>0</td>\n",
       "      <td>NaN</td>\n",
       "      <td>NaN</td>\n",
       "      <td>NaN</td>\n",
       "      <td>0</td>\n",
       "      <td>12</td>\n",
       "      <td>2008</td>\n",
       "      <td>WD</td>\n",
       "      <td>Normal</td>\n",
       "      <td>250000</td>\n",
       "    </tr>\n",
       "  </tbody>\n",
       "</table>\n",
       "<p>5 rows × 81 columns</p>\n",
       "</div>"
      ],
      "text/plain": [
       "   Id  MSSubClass MSZoning  LotFrontage  LotArea Street Alley LotShape  \\\n",
       "0   1          60       RL         65.0     8450   Pave   NaN      Reg   \n",
       "1   2          20       RL         80.0     9600   Pave   NaN      Reg   \n",
       "2   3          60       RL         68.0    11250   Pave   NaN      IR1   \n",
       "3   4          70       RL         60.0     9550   Pave   NaN      IR1   \n",
       "4   5          60       RL         84.0    14260   Pave   NaN      IR1   \n",
       "\n",
       "  LandContour Utilities  ... PoolArea PoolQC Fence MiscFeature MiscVal MoSold  \\\n",
       "0         Lvl    AllPub  ...        0    NaN   NaN         NaN       0      2   \n",
       "1         Lvl    AllPub  ...        0    NaN   NaN         NaN       0      5   \n",
       "2         Lvl    AllPub  ...        0    NaN   NaN         NaN       0      9   \n",
       "3         Lvl    AllPub  ...        0    NaN   NaN         NaN       0      2   \n",
       "4         Lvl    AllPub  ...        0    NaN   NaN         NaN       0     12   \n",
       "\n",
       "  YrSold  SaleType  SaleCondition  SalePrice  \n",
       "0   2008        WD         Normal     208500  \n",
       "1   2007        WD         Normal     181500  \n",
       "2   2008        WD         Normal     223500  \n",
       "3   2006        WD        Abnorml     140000  \n",
       "4   2008        WD         Normal     250000  \n",
       "\n",
       "[5 rows x 81 columns]"
      ]
     },
     "execution_count": 4,
     "metadata": {},
     "output_type": "execute_result"
    }
   ],
   "source": [
    "df.head()"
   ]
  },
  {
   "cell_type": "code",
   "execution_count": 5,
   "id": "81bad6e2",
   "metadata": {
    "execution": {
     "iopub.execute_input": "2022-02-22T02:45:19.641415Z",
     "iopub.status.busy": "2022-02-22T02:45:19.640405Z",
     "iopub.status.idle": "2022-02-22T02:45:19.653991Z",
     "shell.execute_reply": "2022-02-22T02:45:19.654557Z",
     "shell.execute_reply.started": "2022-02-22T02:20:35.894519Z"
    },
    "papermill": {
     "duration": 0.058899,
     "end_time": "2022-02-22T02:45:19.654751",
     "exception": false,
     "start_time": "2022-02-22T02:45:19.595852",
     "status": "completed"
    },
    "tags": []
   },
   "outputs": [
    {
     "data": {
      "text/plain": [
       "Index(['MSZoning', 'Street', 'Alley', 'LotShape', 'LandContour', 'Utilities',\n",
       "       'LotConfig', 'LandSlope', 'Neighborhood', 'Condition1', 'Condition2',\n",
       "       'BldgType', 'HouseStyle', 'RoofStyle', 'RoofMatl', 'Exterior1st',\n",
       "       'Exterior2nd', 'MasVnrType', 'ExterQual', 'ExterCond', 'Foundation',\n",
       "       'BsmtQual', 'BsmtCond', 'BsmtExposure', 'BsmtFinType1', 'BsmtFinType2',\n",
       "       'Heating', 'HeatingQC', 'CentralAir', 'Electrical', 'KitchenQual',\n",
       "       'Functional', 'FireplaceQu', 'GarageType', 'GarageFinish', 'GarageQual',\n",
       "       'GarageCond', 'PavedDrive', 'PoolQC', 'Fence', 'MiscFeature',\n",
       "       'SaleType', 'SaleCondition'],\n",
       "      dtype='object')"
      ]
     },
     "execution_count": 5,
     "metadata": {},
     "output_type": "execute_result"
    }
   ],
   "source": [
    "df.select_dtypes(include=['object']).columns"
   ]
  },
  {
   "cell_type": "code",
   "execution_count": 6,
   "id": "105b8cdb",
   "metadata": {
    "execution": {
     "iopub.execute_input": "2022-02-22T02:45:19.743166Z",
     "iopub.status.busy": "2022-02-22T02:45:19.742092Z",
     "iopub.status.idle": "2022-02-22T02:45:19.751285Z",
     "shell.execute_reply": "2022-02-22T02:45:19.751864Z",
     "shell.execute_reply.started": "2022-02-22T02:20:35.910060Z"
    },
    "papermill": {
     "duration": 0.05468,
     "end_time": "2022-02-22T02:45:19.752042",
     "exception": false,
     "start_time": "2022-02-22T02:45:19.697362",
     "status": "completed"
    },
    "tags": []
   },
   "outputs": [
    {
     "data": {
      "text/plain": [
       "Index(['Id', 'MSSubClass', 'LotFrontage', 'LotArea', 'OverallQual',\n",
       "       'OverallCond', 'YearBuilt', 'YearRemodAdd', 'MasVnrArea', 'BsmtFinSF1',\n",
       "       'BsmtFinSF2', 'BsmtUnfSF', 'TotalBsmtSF', '1stFlrSF', '2ndFlrSF',\n",
       "       'LowQualFinSF', 'GrLivArea', 'BsmtFullBath', 'BsmtHalfBath', 'FullBath',\n",
       "       'HalfBath', 'BedroomAbvGr', 'KitchenAbvGr', 'TotRmsAbvGrd',\n",
       "       'Fireplaces', 'GarageYrBlt', 'GarageCars', 'GarageArea', 'WoodDeckSF',\n",
       "       'OpenPorchSF', 'EnclosedPorch', '3SsnPorch', 'ScreenPorch', 'PoolArea',\n",
       "       'MiscVal', 'MoSold', 'YrSold', 'SalePrice'],\n",
       "      dtype='object')"
      ]
     },
     "execution_count": 6,
     "metadata": {},
     "output_type": "execute_result"
    }
   ],
   "source": [
    "df.select_dtypes(include=['int','float']).columns"
   ]
  },
  {
   "cell_type": "code",
   "execution_count": 7,
   "id": "4b748d11",
   "metadata": {
    "execution": {
     "iopub.execute_input": "2022-02-22T02:45:19.841221Z",
     "iopub.status.busy": "2022-02-22T02:45:19.840198Z",
     "iopub.status.idle": "2022-02-22T02:45:19.843699Z",
     "shell.execute_reply": "2022-02-22T02:45:19.844405Z",
     "shell.execute_reply.started": "2022-02-22T02:20:35.925073Z"
    },
    "papermill": {
     "duration": 0.049762,
     "end_time": "2022-02-22T02:45:19.844622",
     "exception": false,
     "start_time": "2022-02-22T02:45:19.794860",
     "status": "completed"
    },
    "tags": []
   },
   "outputs": [],
   "source": [
    "#pd.set_option('display.max_columns', None)  \n",
    "#pd.set_option('display.max_rows', None)"
   ]
  },
  {
   "cell_type": "code",
   "execution_count": 8,
   "id": "9250cb9d",
   "metadata": {
    "execution": {
     "iopub.execute_input": "2022-02-22T02:45:19.939658Z",
     "iopub.status.busy": "2022-02-22T02:45:19.938566Z",
     "iopub.status.idle": "2022-02-22T02:45:19.967094Z",
     "shell.execute_reply": "2022-02-22T02:45:19.968286Z",
     "shell.execute_reply.started": "2022-02-22T02:20:35.933094Z"
    },
    "papermill": {
     "duration": 0.080131,
     "end_time": "2022-02-22T02:45:19.968579",
     "exception": false,
     "start_time": "2022-02-22T02:45:19.888448",
     "status": "completed"
    },
    "tags": []
   },
   "outputs": [
    {
     "data": {
      "text/plain": [
       "PoolQC          99.520548\n",
       "MiscFeature     96.301370\n",
       "Alley           93.767123\n",
       "Fence           80.753425\n",
       "FireplaceQu     47.260274\n",
       "LotFrontage     17.739726\n",
       "GarageYrBlt      5.547945\n",
       "GarageCond       5.547945\n",
       "GarageType       5.547945\n",
       "GarageFinish     5.547945\n",
       "GarageQual       5.547945\n",
       "BsmtFinType2     2.602740\n",
       "BsmtExposure     2.602740\n",
       "BsmtQual         2.534247\n",
       "BsmtCond         2.534247\n",
       "BsmtFinType1     2.534247\n",
       "MasVnrArea       0.547945\n",
       "MasVnrType       0.547945\n",
       "Electrical       0.068493\n",
       "Id               0.000000\n",
       "Functional       0.000000\n",
       "Fireplaces       0.000000\n",
       "KitchenQual      0.000000\n",
       "KitchenAbvGr     0.000000\n",
       "BedroomAbvGr     0.000000\n",
       "dtype: float64"
      ]
     },
     "execution_count": 8,
     "metadata": {},
     "output_type": "execute_result"
    }
   ],
   "source": [
    "#checking missing percentage\n",
    "#(df.isnull().sum()/df.isnull().count() * 100).sort_values(ascending= False).head(25)\n",
    "(df.isna().sum()/df.isna().count() * 100).sort_values(ascending= False).head(25)"
   ]
  },
  {
   "cell_type": "code",
   "execution_count": 9,
   "id": "db110718",
   "metadata": {
    "execution": {
     "iopub.execute_input": "2022-02-22T02:45:20.061331Z",
     "iopub.status.busy": "2022-02-22T02:45:20.060646Z",
     "iopub.status.idle": "2022-02-22T02:45:20.069442Z",
     "shell.execute_reply": "2022-02-22T02:45:20.068735Z",
     "shell.execute_reply.started": "2022-02-22T02:20:35.970712Z"
    },
    "papermill": {
     "duration": 0.056554,
     "end_time": "2022-02-22T02:45:20.069619",
     "exception": false,
     "start_time": "2022-02-22T02:45:20.013065",
     "status": "completed"
    },
    "tags": []
   },
   "outputs": [],
   "source": [
    "#drop columns with missing value, above 30%\n",
    "df.drop(['PoolQC', 'MiscFeature', 'Alley', 'Fence', 'FireplaceQu'], axis=1, inplace=True)"
   ]
  },
  {
   "cell_type": "code",
   "execution_count": 10,
   "id": "07142c8a",
   "metadata": {
    "execution": {
     "iopub.execute_input": "2022-02-22T02:45:20.169935Z",
     "iopub.status.busy": "2022-02-22T02:45:20.168795Z",
     "iopub.status.idle": "2022-02-22T02:45:20.171308Z",
     "shell.execute_reply": "2022-02-22T02:45:20.171788Z",
     "shell.execute_reply.started": "2022-02-22T02:20:35.983079Z"
    },
    "papermill": {
     "duration": 0.059765,
     "end_time": "2022-02-22T02:45:20.171968",
     "exception": false,
     "start_time": "2022-02-22T02:45:20.112203",
     "status": "completed"
    },
    "tags": []
   },
   "outputs": [],
   "source": [
    "df['OverallQual']=df['OverallQual'].replace(\n",
    "    { 10:'Very Excellent',\n",
    "       9:'Excellent',\n",
    "       8:'Very Good',\n",
    "       7:'Good',\n",
    "       6:'Above Average',\n",
    "       5:'Average',\n",
    "       4:'Below Average',\n",
    "       3:'Fair',\n",
    "       2:'Poor',\n",
    "       1:'Very Poor'}\n",
    ")"
   ]
  },
  {
   "cell_type": "code",
   "execution_count": 11,
   "id": "8e24c2f5",
   "metadata": {
    "execution": {
     "iopub.execute_input": "2022-02-22T02:45:20.266567Z",
     "iopub.status.busy": "2022-02-22T02:45:20.265821Z",
     "iopub.status.idle": "2022-02-22T02:45:20.269870Z",
     "shell.execute_reply": "2022-02-22T02:45:20.269263Z",
     "shell.execute_reply.started": "2022-02-22T02:20:36.001400Z"
    },
    "papermill": {
     "duration": 0.05466,
     "end_time": "2022-02-22T02:45:20.270034",
     "exception": false,
     "start_time": "2022-02-22T02:45:20.215374",
     "status": "completed"
    },
    "tags": []
   },
   "outputs": [],
   "source": [
    "df['OverallCond']=df['OverallCond'].replace(\n",
    "    { 10:'Very Excellent',\n",
    "       9:'Excellent',\n",
    "       8:'Very Good',\n",
    "       7:'Good',\n",
    "       6:'Above Average',\n",
    "       5:'Average',\n",
    "       4:'Below Average',\n",
    "       3:'Fair',\n",
    "       2:'Poor',\n",
    "       1:'Very Poor'}\n",
    ")"
   ]
  },
  {
   "cell_type": "code",
   "execution_count": 12,
   "id": "f508fc6d",
   "metadata": {
    "execution": {
     "iopub.execute_input": "2022-02-22T02:45:20.361092Z",
     "iopub.status.busy": "2022-02-22T02:45:20.360388Z",
     "iopub.status.idle": "2022-02-22T02:45:21.181381Z",
     "shell.execute_reply": "2022-02-22T02:45:21.181975Z",
     "shell.execute_reply.started": "2022-02-22T02:20:36.024017Z"
    },
    "papermill": {
     "duration": 0.869494,
     "end_time": "2022-02-22T02:45:21.182169",
     "exception": false,
     "start_time": "2022-02-22T02:45:20.312675",
     "status": "completed"
    },
    "tags": []
   },
   "outputs": [
    {
     "data": {
      "image/png": "[encoded data removed]",
      "text/plain": [
       "<Figure size 432x288 with 2 Axes>"
      ]
     },
     "metadata": {},
     "output_type": "display_data"
    }
   ],
   "source": [
    "corrmat = df.corr()\n",
    "k = 10 #number of variables for heatmap\n",
    "cols = corrmat.nlargest(k, 'SalePrice')['SalePrice'].index\n",
    "cm = np.corrcoef(df[cols].values.T)\n",
    "sns.set(font_scale=1.25)\n",
    "hm = sns.heatmap(cm, cbar=True, annot=True, square=True, fmt='.2f', annot_kws={'size': 10}, yticklabels=cols.values, xticklabels=cols.values)\n",
    "plt.show()"
   ]
  },
  {
   "cell_type": "markdown",
   "id": "87d1322b",
   "metadata": {
    "papermill": {
     "duration": 0.047148,
     "end_time": "2022-02-22T02:45:21.280161",
     "exception": false,
     "start_time": "2022-02-22T02:45:21.233013",
     "status": "completed"
    },
    "tags": []
   },
   "source": []
  },
  {
   "cell_type": "markdown",
   "id": "366d8f63",
   "metadata": {
    "papermill": {
     "duration": 0.049204,
     "end_time": "2022-02-22T02:45:21.376477",
     "exception": false,
     "start_time": "2022-02-22T02:45:21.327273",
     "status": "completed"
    },
    "tags": []
   },
   "source": [
    "Drop the correlated columns"
   ]
  },
  {
   "cell_type": "code",
   "execution_count": 13,
   "id": "1b757e53",
   "metadata": {
    "execution": {
     "iopub.execute_input": "2022-02-22T02:45:21.479919Z",
     "iopub.status.busy": "2022-02-22T02:45:21.479154Z",
     "iopub.status.idle": "2022-02-22T02:45:21.481100Z",
     "shell.execute_reply": "2022-02-22T02:45:21.481669Z",
     "shell.execute_reply.started": "2022-02-22T02:20:36.918091Z"
    },
    "papermill": {
     "duration": 0.056396,
     "end_time": "2022-02-22T02:45:21.481843",
     "exception": false,
     "start_time": "2022-02-22T02:45:21.425447",
     "status": "completed"
    },
    "tags": []
   },
   "outputs": [],
   "source": [
    "category_features = ['MSZoning', 'LotShape', 'LotConfig', 'Neighborhood',\n",
    "       'BldgType', 'HouseStyle', 'OverallQual', 'OverallCond', 'RoofStyle',\n",
    "       'Exterior1st', 'Exterior2nd',  'ExterQual', 'Foundation',\n",
    "       'HeatingQC', 'KitchenQual',\n",
    "         'SaleType', 'SaleCondition', 'GarageType', 'BsmtExposure', 'BsmtFinType1','GarageFinish','BsmtQual','MasVnrType']\n",
    "\n",
    "numeric_features = ['LotFrontage', 'LotArea',  'BsmtFinSF1',\n",
    "       'BsmtFinSF2', 'BsmtUnfSF', 'TotalBsmtSF', '1stFlrSF', '2ndFlrSF',\n",
    "       'LowQualFinSF', 'GrLivArea', 'BsmtFullBath', 'BsmtHalfBath', 'FullBath',\n",
    "       'HalfBath', 'BedroomAbvGr', 'KitchenAbvGr', 'TotRmsAbvGrd',\n",
    "       'Fireplaces',  'GarageCars', 'GarageArea', 'WoodDeckSF',\n",
    "       'OpenPorchSF', 'EnclosedPorch', '3SsnPorch', 'ScreenPorch', 'PoolArea',\n",
    "       'MiscVal', 'MoSold', 'YrSold', 'GarageYrBlt','MasVnrArea']\n",
    "\n",
    "target = ['SalePrice']"
   ]
  },
  {
   "cell_type": "code",
   "execution_count": 14,
   "id": "5a55ce7f",
   "metadata": {
    "execution": {
     "iopub.execute_input": "2022-02-22T02:45:21.579705Z",
     "iopub.status.busy": "2022-02-22T02:45:21.578951Z",
     "iopub.status.idle": "2022-02-22T02:45:21.584813Z",
     "shell.execute_reply": "2022-02-22T02:45:21.584255Z",
     "shell.execute_reply.started": "2022-02-22T02:20:36.927875Z"
    },
    "papermill": {
     "duration": 0.057397,
     "end_time": "2022-02-22T02:45:21.584955",
     "exception": false,
     "start_time": "2022-02-22T02:45:21.527558",
     "status": "completed"
    },
    "tags": []
   },
   "outputs": [
    {
     "name": "stdout",
     "output_type": "stream",
     "text": [
      "category feature number =  23\n",
      "numeric feature number =  31\n"
     ]
    }
   ],
   "source": [
    "print('category feature number = ', len(category_features))\n",
    "print('numeric feature number = ', len(numeric_features))"
   ]
  },
  {
   "cell_type": "code",
   "execution_count": 15,
   "id": "71a3c833",
   "metadata": {
    "execution": {
     "iopub.execute_input": "2022-02-22T02:45:21.679536Z",
     "iopub.status.busy": "2022-02-22T02:45:21.678827Z",
     "iopub.status.idle": "2022-02-22T02:45:21.895978Z",
     "shell.execute_reply": "2022-02-22T02:45:21.895344Z",
     "shell.execute_reply.started": "2022-02-22T02:20:36.942234Z"
    },
    "papermill": {
     "duration": 0.265769,
     "end_time": "2022-02-22T02:45:21.896131",
     "exception": false,
     "start_time": "2022-02-22T02:45:21.630362",
     "status": "completed"
    },
    "tags": []
   },
   "outputs": [],
   "source": [
    "from sklearn.model_selection import train_test_split"
   ]
  },
  {
   "cell_type": "code",
   "execution_count": 16,
   "id": "22ee4e2a",
   "metadata": {
    "execution": {
     "iopub.execute_input": "2022-02-22T02:45:21.994298Z",
     "iopub.status.busy": "2022-02-22T02:45:21.993577Z",
     "iopub.status.idle": "2022-02-22T02:45:22.004167Z",
     "shell.execute_reply": "2022-02-22T02:45:22.004714Z",
     "shell.execute_reply.started": "2022-02-22T02:20:37.147613Z"
    },
    "papermill": {
     "duration": 0.060476,
     "end_time": "2022-02-22T02:45:22.004890",
     "exception": false,
     "start_time": "2022-02-22T02:45:21.944414",
     "status": "completed"
    },
    "tags": []
   },
   "outputs": [],
   "source": [
    "X_train, X_test, y_train, y_test = train_test_split(df.drop(columns=target), df[target], test_size = 0.2, random_state= 14)"
   ]
  },
  {
   "cell_type": "code",
   "execution_count": 17,
   "id": "8ca842b6",
   "metadata": {
    "execution": {
     "iopub.execute_input": "2022-02-22T02:45:22.098166Z",
     "iopub.status.busy": "2022-02-22T02:45:22.097427Z",
     "iopub.status.idle": "2022-02-22T02:45:22.111297Z",
     "shell.execute_reply": "2022-02-22T02:45:22.111857Z",
     "shell.execute_reply.started": "2022-02-22T02:20:37.163477Z"
    },
    "papermill": {
     "duration": 0.062102,
     "end_time": "2022-02-22T02:45:22.112034",
     "exception": false,
     "start_time": "2022-02-22T02:45:22.049932",
     "status": "completed"
    },
    "tags": []
   },
   "outputs": [],
   "source": [
    "import sklearn\n",
    "from sklearn.base import TransformerMixin, BaseEstimator\n",
    "from sklearn.utils import check_array\n",
    "import numpy as np\n",
    "\n",
    "\n",
    "class RareLabelTransformer(TransformerMixin, BaseEstimator):\n",
    "    \"\"\"\n",
    "    Relabel rare values with a single label for categorical\n",
    "    features. We use a frequency threshold, so that for each\n",
    "     feature, the values occurring with a frequency below\n",
    "    that threshold are replaced with the given label.\n",
    "    Parameters\n",
    "    ----------\n",
    "    threshold : float, 0.01 by default\n",
    "        Sets the frequency threshold\n",
    "    label : str, 'rare' by default\n",
    "        The label to give to the replaced values\n",
    "    copy : bool, True by default\n",
    "        Whether to copy from data, inherits from the base classes\n",
    "\n",
    "    Attributes\n",
    "    ----------\n",
    "    rare_labels : list of lists with length [n_features]\n",
    "        Contains the rare labels for each feature\n",
    "    \"\"\"\n",
    "\n",
    "    def __init__(self, threshold=0.20, label='rare', copy=True):\n",
    "        self.threshold = threshold\n",
    "        self.label = label\n",
    "        self.copy = copy\n",
    "        self.rare_labels = []\n",
    "\n",
    "    def fit(self, x, y=None):\n",
    "        \"\"\"\n",
    "        Extracts the rare labels for replacement for each feature\n",
    "        Parameters\n",
    "        ----------\n",
    "        x : array-like of strings\n",
    "        ----------\n",
    "        \"\"\"\n",
    "        x = check_array(x, dtype='str', ensure_2d=True, copy=self.copy)\n",
    "        n = x.shape[0]\n",
    "        rare_labels = []\n",
    "        for i in range(x.shape[1]):\n",
    "            uniques, counts = np.unique(x[:, i], return_counts=True)\n",
    "            rare_labels.append(uniques[counts / n < self.threshold].tolist())\n",
    "        self.rare_labels = rare_labels\n",
    "        return self\n",
    "\n",
    "    def transform(self, x, copy=None):\n",
    "        \"\"\"\n",
    "        Applies the relabelling\n",
    "        Parameters\n",
    "        ----------\n",
    "        x : array-like of strings\n",
    "        copy : bool, True by default\n",
    "            Whether to copy from data, inherits from the base classes\n",
    "        ----------\n",
    "        \"\"\"\n",
    "        copy = copy if copy is not None else self.copy\n",
    "        x = check_array(x, dtype='str', ensure_2d=True, copy=copy)\n",
    "        for i in range(x.shape[1]):\n",
    "            x[:, i] = np.where(np.in1d(x[:, i], self.rare_labels[i]), self.label, x[:, i])\n",
    "        return x\n",
    "    \n",
    "    def fit_transform(self, x, y=None):\n",
    "        \"\"\"\n",
    "        Applies the relabelling\n",
    "        Parameters\n",
    "        ----------\n",
    "        x : array-like of strings\n",
    "     \n",
    "        ----------\n",
    "        \"\"\"\n",
    "        return self.fit(x, y).transform(x)\n"
   ]
  },
  {
   "cell_type": "code",
   "execution_count": 18,
   "id": "0b49d125",
   "metadata": {
    "execution": {
     "iopub.execute_input": "2022-02-22T02:45:22.209974Z",
     "iopub.status.busy": "2022-02-22T02:45:22.209272Z",
     "iopub.status.idle": "2022-02-22T02:45:22.413587Z",
     "shell.execute_reply": "2022-02-22T02:45:22.412860Z",
     "shell.execute_reply.started": "2022-02-22T02:20:37.180733Z"
    },
    "papermill": {
     "duration": 0.255058,
     "end_time": "2022-02-22T02:45:22.413793",
     "exception": false,
     "start_time": "2022-02-22T02:45:22.158735",
     "status": "completed"
    },
    "tags": []
   },
   "outputs": [],
   "source": [
    "from sklearn.pipeline import Pipeline\n",
    "from sklearn.impute import SimpleImputer\n",
    "from sklearn.preprocessing import StandardScaler, OneHotEncoder\n",
    "from sklearn.compose import ColumnTransformer"
   ]
  },
  {
   "cell_type": "code",
   "execution_count": 19,
   "id": "7aa25549",
   "metadata": {
    "execution": {
     "iopub.execute_input": "2022-02-22T02:45:22.515079Z",
     "iopub.status.busy": "2022-02-22T02:45:22.513847Z",
     "iopub.status.idle": "2022-02-22T02:45:22.516093Z",
     "shell.execute_reply": "2022-02-22T02:45:22.516673Z",
     "shell.execute_reply.started": "2022-02-22T02:20:37.373711Z"
    },
    "papermill": {
     "duration": 0.056062,
     "end_time": "2022-02-22T02:45:22.517000",
     "exception": false,
     "start_time": "2022-02-22T02:45:22.460938",
     "status": "completed"
    },
    "tags": []
   },
   "outputs": [],
   "source": [
    "numeric_transformer = Pipeline(steps =[('imputer_numeric', SimpleImputer(missing_values=np.nan, strategy='mean')),\n",
    "                                       ('scaler', StandardScaler())])"
   ]
  },
  {
   "cell_type": "code",
   "execution_count": 20,
   "id": "2e99a5f2",
   "metadata": {
    "execution": {
     "iopub.execute_input": "2022-02-22T02:45:22.616609Z",
     "iopub.status.busy": "2022-02-22T02:45:22.615884Z",
     "iopub.status.idle": "2022-02-22T02:45:22.622743Z",
     "shell.execute_reply": "2022-02-22T02:45:22.622168Z",
     "shell.execute_reply.started": "2022-02-22T02:20:37.382065Z"
    },
    "papermill": {
     "duration": 0.058024,
     "end_time": "2022-02-22T02:45:22.622900",
     "exception": false,
     "start_time": "2022-02-22T02:45:22.564876",
     "status": "completed"
    },
    "tags": []
   },
   "outputs": [],
   "source": [
    "category_transformer = Pipeline(steps=[('imputer_category', SimpleImputer(missing_values=np.nan, strategy='most_frequent')),\n",
    "                                       ('rare_labels', RareLabelTransformer(threshold=0.20, label='rare')),\n",
    "                                    ('onehot', OneHotEncoder(handle_unknown='ignore'))])"
   ]
  },
  {
   "cell_type": "code",
   "execution_count": 21,
   "id": "9b28a455",
   "metadata": {
    "execution": {
     "iopub.execute_input": "2022-02-22T02:45:22.725474Z",
     "iopub.status.busy": "2022-02-22T02:45:22.724478Z",
     "iopub.status.idle": "2022-02-22T02:45:22.729042Z",
     "shell.execute_reply": "2022-02-22T02:45:22.727863Z",
     "shell.execute_reply.started": "2022-02-22T02:20:37.394296Z"
    },
    "papermill": {
     "duration": 0.057514,
     "end_time": "2022-02-22T02:45:22.729261",
     "exception": false,
     "start_time": "2022-02-22T02:45:22.671747",
     "status": "completed"
    },
    "tags": []
   },
   "outputs": [],
   "source": [
    "preprocessor = ColumnTransformer(\n",
    "    transformers=[\n",
    "        ('category_transformer', category_transformer, category_features),\n",
    "        ('numeric_transfomer', numeric_transformer, numeric_features)\n",
    "    ], remainder='drop'\n",
    ")"
   ]
  },
  {
   "cell_type": "code",
   "execution_count": 22,
   "id": "1110f68a",
   "metadata": {
    "execution": {
     "iopub.execute_input": "2022-02-22T02:45:22.836972Z",
     "iopub.status.busy": "2022-02-22T02:45:22.836076Z",
     "iopub.status.idle": "2022-02-22T02:45:23.827028Z",
     "shell.execute_reply": "2022-02-22T02:45:23.826341Z",
     "shell.execute_reply.started": "2022-02-22T02:20:37.406919Z"
    },
    "papermill": {
     "duration": 1.05078,
     "end_time": "2022-02-22T02:45:23.827204",
     "exception": false,
     "start_time": "2022-02-22T02:45:22.776424",
     "status": "completed"
    },
    "tags": []
   },
   "outputs": [],
   "source": [
    "import optuna\n",
    "from sklearn import clone\n",
    "from sklearn.ensemble import RandomForestRegressor\n",
    "from sklearn.pipeline import make_pipeline\n",
    "from sklearn.model_selection import cross_val_score\n",
    "from sklearn.feature_selection import SelectKBest, f_regression\n",
    "from xgboost import XGBRegressor"
   ]
  },
  {
   "cell_type": "code",
   "execution_count": 23,
   "id": "ee59966a",
   "metadata": {
    "execution": {
     "iopub.execute_input": "2022-02-22T02:45:23.932098Z",
     "iopub.status.busy": "2022-02-22T02:45:23.931345Z",
     "iopub.status.idle": "2022-02-22T02:45:23.936675Z",
     "shell.execute_reply": "2022-02-22T02:45:23.937203Z",
     "shell.execute_reply.started": "2022-02-22T02:20:38.199787Z"
    },
    "papermill": {
     "duration": 0.059745,
     "end_time": "2022-02-22T02:45:23.937399",
     "exception": false,
     "start_time": "2022-02-22T02:45:23.877654",
     "status": "completed"
    },
    "tags": []
   },
   "outputs": [],
   "source": [
    "#pipeline_rf = make_pipeline(clone(preprocessor), SelectKBest(f_regression, k=25), RandomForestRegressor())\n",
    "pipeline_rf = make_pipeline(clone(preprocessor), RandomForestRegressor())\n",
    "#pipeline_rf = make_pipeline(clone(preprocessor), XGBRegressor())"
   ]
  },
  {
   "cell_type": "code",
   "execution_count": 24,
   "id": "64ca6658",
   "metadata": {
    "execution": {
     "iopub.execute_input": "2022-02-22T02:45:24.035397Z",
     "iopub.status.busy": "2022-02-22T02:45:24.034669Z",
     "iopub.status.idle": "2022-02-22T02:45:24.043507Z",
     "shell.execute_reply": "2022-02-22T02:45:24.044145Z",
     "shell.execute_reply.started": "2022-02-22T02:20:38.208685Z"
    },
    "papermill": {
     "duration": 0.061009,
     "end_time": "2022-02-22T02:45:24.044333",
     "exception": false,
     "start_time": "2022-02-22T02:45:23.983324",
     "status": "completed"
    },
    "tags": []
   },
   "outputs": [],
   "source": [
    "def objective(trail):\n",
    "#     parameter for the random forest regressor    \n",
    "    params = {\n",
    "        'randomforestregressor__n_estimators': trail.suggest_int('randomforestregressor__n_estimators', 10, 200, log=True),\n",
    "        'randomforestregressor__max_depth': trail.suggest_int(\"randomforestregressor__max_depth\", 3, 20, log=True) ,\n",
    "        'randomforestregressor__max_features': trail.suggest_categorical('randomforestregressor__max_features', ['auto', 'sqrt']),\n",
    "        'randomforestregressor__min_samples_split': trail.suggest_int(\"randomforestregressor__min_samples_split\", 2, 10, log=True) ,\n",
    "        'randomforestregressor__min_samples_leaf': trail.suggest_int(\"randomforestregressor__min_samples_leaf\", 1, 4, log=True),\n",
    "        'randomforestregressor__bootstrap': trail.suggest_categorical('randomforestregressor__bootstrap', [True, False])\n",
    "    }\n",
    "    \n",
    "    #parameter for the xgboost regressor\n",
    "#     params = {\n",
    "#         'xgbregressor__n_estimators': trail.suggest_int('xgbregressor__n_estimators', 10, 200, log=True),\n",
    "#         'xgbregressor__max_depth': trail.suggest_int(\"xgbregressor__max_depth\", 3, 20, log=True) ,\n",
    "#         'xgbregressor__eta': trail.suggest_float('xgbregressor__eta', 0.1, 0.3, log=True),\n",
    "#         'xgbregressor__subsample': trail.suggest_float(\"xgbregressor__subsample\", 0.4, 0.8, log=True) ,\n",
    "#         'xgbregressor__colsample_bytree': trail.suggest_float(\"xgbregressor__colsample_bytree\", 0.4, 0.8, log=True),\n",
    "#     }\n",
    "    \n",
    "    model = pipeline_rf.set_params(**params)\n",
    "    model.fit(X_train, y_train)\n",
    "    \n",
    "    \n",
    "    score = cross_val_score(model, X_train, y_train, scoring = 'r2', n_jobs = -1, cv = 3).mean()\n",
    "    \n",
    "    return score"
   ]
  },
  {
   "cell_type": "code",
   "execution_count": 25,
   "id": "a3063a11",
   "metadata": {
    "execution": {
     "iopub.execute_input": "2022-02-22T02:45:24.140957Z",
     "iopub.status.busy": "2022-02-22T02:45:24.140178Z",
     "iopub.status.idle": "2022-02-22T02:46:28.868710Z",
     "shell.execute_reply": "2022-02-22T02:46:28.869273Z",
     "shell.execute_reply.started": "2022-02-22T02:20:38.222659Z"
    },
    "papermill": {
     "duration": 64.778716,
     "end_time": "2022-02-22T02:46:28.869478",
     "exception": false,
     "start_time": "2022-02-22T02:45:24.090762",
     "status": "completed"
    },
    "tags": []
   },
   "outputs": [
    {
     "name": "stderr",
     "output_type": "stream",
     "text": [
      "\u001b[32m[I 2022-02-22 02:45:24,140]\u001b[0m A new study created in memory with name: no-name-f1f8bbe5-9fcd-41de-b79e-4ddcaa2ac345\u001b[0m\n",
      "/opt/conda/lib/python3.7/site-packages/sklearn/pipeline.py:335: DataConversionWarning: A column-vector y was passed when a 1d array was expected. Please change the shape of y to (n_samples,), for example using ravel().\n",
      "  self._final_estimator.fit(Xt, y, **fit_params_last_step)\n",
      "\u001b[32m[I 2022-02-22 02:45:27,559]\u001b[0m Trial 0 finished with value: 0.6838808428118566 and parameters: {'randomforestregressor__n_estimators': 18, 'randomforestregressor__max_depth': 12, 'randomforestregressor__max_features': 'auto', 'randomforestregressor__min_samples_split': 8, 'randomforestregressor__min_samples_leaf': 1, 'randomforestregressor__bootstrap': False}. Best is trial 0 with value: 0.6838808428118566.\u001b[0m\n",
      "/opt/conda/lib/python3.7/site-packages/sklearn/pipeline.py:335: DataConversionWarning: A column-vector y was passed when a 1d array was expected. Please change the shape of y to (n_samples,), for example using ravel().\n",
      "  self._final_estimator.fit(Xt, y, **fit_params_last_step)\n",
      "\u001b[32m[I 2022-02-22 02:45:30,198]\u001b[0m Trial 1 finished with value: 0.7049418927660488 and parameters: {'randomforestregressor__n_estimators': 45, 'randomforestregressor__max_depth': 7, 'randomforestregressor__max_features': 'auto', 'randomforestregressor__min_samples_split': 6, 'randomforestregressor__min_samples_leaf': 1, 'randomforestregressor__bootstrap': False}. Best is trial 1 with value: 0.7049418927660488.\u001b[0m\n",
      "/opt/conda/lib/python3.7/site-packages/sklearn/pipeline.py:335: DataConversionWarning: A column-vector y was passed when a 1d array was expected. Please change the shape of y to (n_samples,), for example using ravel().\n",
      "  self._final_estimator.fit(Xt, y, **fit_params_last_step)\n",
      "\u001b[32m[I 2022-02-22 02:45:30,559]\u001b[0m Trial 2 finished with value: 0.8064890117993847 and parameters: {'randomforestregressor__n_estimators': 16, 'randomforestregressor__max_depth': 6, 'randomforestregressor__max_features': 'sqrt', 'randomforestregressor__min_samples_split': 4, 'randomforestregressor__min_samples_leaf': 4, 'randomforestregressor__bootstrap': False}. Best is trial 2 with value: 0.8064890117993847.\u001b[0m\n",
      "/opt/conda/lib/python3.7/site-packages/sklearn/pipeline.py:335: DataConversionWarning: A column-vector y was passed when a 1d array was expected. Please change the shape of y to (n_samples,), for example using ravel().\n",
      "  self._final_estimator.fit(Xt, y, **fit_params_last_step)\n",
      "\u001b[32m[I 2022-02-22 02:45:31,108]\u001b[0m Trial 3 finished with value: 0.7970068005734561 and parameters: {'randomforestregressor__n_estimators': 58, 'randomforestregressor__max_depth': 5, 'randomforestregressor__max_features': 'sqrt', 'randomforestregressor__min_samples_split': 10, 'randomforestregressor__min_samples_leaf': 2, 'randomforestregressor__bootstrap': False}. Best is trial 2 with value: 0.8064890117993847.\u001b[0m\n",
      "/opt/conda/lib/python3.7/site-packages/sklearn/pipeline.py:335: DataConversionWarning: A column-vector y was passed when a 1d array was expected. Please change the shape of y to (n_samples,), for example using ravel().\n",
      "  self._final_estimator.fit(Xt, y, **fit_params_last_step)\n",
      "\u001b[32m[I 2022-02-22 02:45:31,477]\u001b[0m Trial 4 finished with value: 0.7203255119506474 and parameters: {'randomforestregressor__n_estimators': 27, 'randomforestregressor__max_depth': 3, 'randomforestregressor__max_features': 'sqrt', 'randomforestregressor__min_samples_split': 2, 'randomforestregressor__min_samples_leaf': 2, 'randomforestregressor__bootstrap': False}. Best is trial 2 with value: 0.8064890117993847.\u001b[0m\n",
      "/opt/conda/lib/python3.7/site-packages/sklearn/pipeline.py:335: DataConversionWarning: A column-vector y was passed when a 1d array was expected. Please change the shape of y to (n_samples,), for example using ravel().\n",
      "  self._final_estimator.fit(Xt, y, **fit_params_last_step)\n",
      "\u001b[32m[I 2022-02-22 02:45:39,385]\u001b[0m Trial 5 finished with value: 0.6910311894331741 and parameters: {'randomforestregressor__n_estimators': 139, 'randomforestregressor__max_depth': 16, 'randomforestregressor__max_features': 'auto', 'randomforestregressor__min_samples_split': 2, 'randomforestregressor__min_samples_leaf': 1, 'randomforestregressor__bootstrap': False}. Best is trial 2 with value: 0.8064890117993847.\u001b[0m\n",
      "/opt/conda/lib/python3.7/site-packages/sklearn/pipeline.py:335: DataConversionWarning: A column-vector y was passed when a 1d array was expected. Please change the shape of y to (n_samples,), for example using ravel().\n",
      "  self._final_estimator.fit(Xt, y, **fit_params_last_step)\n",
      "\u001b[32m[I 2022-02-22 02:45:40,467]\u001b[0m Trial 6 finished with value: 0.8358363733600918 and parameters: {'randomforestregressor__n_estimators': 83, 'randomforestregressor__max_depth': 15, 'randomforestregressor__max_features': 'sqrt', 'randomforestregressor__min_samples_split': 2, 'randomforestregressor__min_samples_leaf': 1, 'randomforestregressor__bootstrap': False}. Best is trial 6 with value: 0.8358363733600918.\u001b[0m\n",
      "/opt/conda/lib/python3.7/site-packages/sklearn/pipeline.py:335: DataConversionWarning: A column-vector y was passed when a 1d array was expected. Please change the shape of y to (n_samples,), for example using ravel().\n",
      "  self._final_estimator.fit(Xt, y, **fit_params_last_step)\n",
      "\u001b[32m[I 2022-02-22 02:45:40,940]\u001b[0m Trial 7 finished with value: 0.6447664591906718 and parameters: {'randomforestregressor__n_estimators': 14, 'randomforestregressor__max_depth': 3, 'randomforestregressor__max_features': 'auto', 'randomforestregressor__min_samples_split': 2, 'randomforestregressor__min_samples_leaf': 1, 'randomforestregressor__bootstrap': False}. Best is trial 6 with value: 0.8358363733600918.\u001b[0m\n",
      "/opt/conda/lib/python3.7/site-packages/sklearn/pipeline.py:335: DataConversionWarning: A column-vector y was passed when a 1d array was expected. Please change the shape of y to (n_samples,), for example using ravel().\n",
      "  self._final_estimator.fit(Xt, y, **fit_params_last_step)\n",
      "\u001b[32m[I 2022-02-22 02:45:45,494]\u001b[0m Trial 8 finished with value: 0.8397801886936724 and parameters: {'randomforestregressor__n_estimators': 185, 'randomforestregressor__max_depth': 9, 'randomforestregressor__max_features': 'auto', 'randomforestregressor__min_samples_split': 3, 'randomforestregressor__min_samples_leaf': 4, 'randomforestregressor__bootstrap': True}. Best is trial 8 with value: 0.8397801886936724.\u001b[0m\n",
      "/opt/conda/lib/python3.7/site-packages/sklearn/pipeline.py:335: DataConversionWarning: A column-vector y was passed when a 1d array was expected. Please change the shape of y to (n_samples,), for example using ravel().\n",
      "  self._final_estimator.fit(Xt, y, **fit_params_last_step)\n",
      "\u001b[32m[I 2022-02-22 02:45:47,594]\u001b[0m Trial 9 finished with value: 0.8391416949231175 and parameters: {'randomforestregressor__n_estimators': 66, 'randomforestregressor__max_depth': 18, 'randomforestregressor__max_features': 'auto', 'randomforestregressor__min_samples_split': 5, 'randomforestregressor__min_samples_leaf': 2, 'randomforestregressor__bootstrap': True}. Best is trial 8 with value: 0.8397801886936724.\u001b[0m\n",
      "/opt/conda/lib/python3.7/site-packages/sklearn/pipeline.py:335: DataConversionWarning: A column-vector y was passed when a 1d array was expected. Please change the shape of y to (n_samples,), for example using ravel().\n",
      "  self._final_estimator.fit(Xt, y, **fit_params_last_step)\n",
      "\u001b[32m[I 2022-02-22 02:45:52,661]\u001b[0m Trial 10 finished with value: 0.8436173082290802 and parameters: {'randomforestregressor__n_estimators': 198, 'randomforestregressor__max_depth': 10, 'randomforestregressor__max_features': 'auto', 'randomforestregressor__min_samples_split': 3, 'randomforestregressor__min_samples_leaf': 4, 'randomforestregressor__bootstrap': True}. Best is trial 10 with value: 0.8436173082290802.\u001b[0m\n",
      "/opt/conda/lib/python3.7/site-packages/sklearn/pipeline.py:335: DataConversionWarning: A column-vector y was passed when a 1d array was expected. Please change the shape of y to (n_samples,), for example using ravel().\n",
      "  self._final_estimator.fit(Xt, y, **fit_params_last_step)\n",
      "\u001b[32m[I 2022-02-22 02:45:57,641]\u001b[0m Trial 11 finished with value: 0.8402977774349732 and parameters: {'randomforestregressor__n_estimators': 200, 'randomforestregressor__max_depth': 10, 'randomforestregressor__max_features': 'auto', 'randomforestregressor__min_samples_split': 3, 'randomforestregressor__min_samples_leaf': 4, 'randomforestregressor__bootstrap': True}. Best is trial 10 with value: 0.8436173082290802.\u001b[0m\n",
      "/opt/conda/lib/python3.7/site-packages/sklearn/pipeline.py:335: DataConversionWarning: A column-vector y was passed when a 1d array was expected. Please change the shape of y to (n_samples,), for example using ravel().\n",
      "  self._final_estimator.fit(Xt, y, **fit_params_last_step)\n",
      "\u001b[32m[I 2022-02-22 02:46:00,779]\u001b[0m Trial 12 finished with value: 0.8402145167634947 and parameters: {'randomforestregressor__n_estimators': 114, 'randomforestregressor__max_depth': 10, 'randomforestregressor__max_features': 'auto', 'randomforestregressor__min_samples_split': 3, 'randomforestregressor__min_samples_leaf': 3, 'randomforestregressor__bootstrap': True}. Best is trial 10 with value: 0.8436173082290802.\u001b[0m\n",
      "/opt/conda/lib/python3.7/site-packages/sklearn/pipeline.py:335: DataConversionWarning: A column-vector y was passed when a 1d array was expected. Please change the shape of y to (n_samples,), for example using ravel().\n",
      "  self._final_estimator.fit(Xt, y, **fit_params_last_step)\n",
      "\u001b[32m[I 2022-02-22 02:46:05,875]\u001b[0m Trial 13 finished with value: 0.8414592186954549 and parameters: {'randomforestregressor__n_estimators': 199, 'randomforestregressor__max_depth': 9, 'randomforestregressor__max_features': 'auto', 'randomforestregressor__min_samples_split': 3, 'randomforestregressor__min_samples_leaf': 3, 'randomforestregressor__bootstrap': True}. Best is trial 10 with value: 0.8436173082290802.\u001b[0m\n",
      "/opt/conda/lib/python3.7/site-packages/sklearn/pipeline.py:335: DataConversionWarning: A column-vector y was passed when a 1d array was expected. Please change the shape of y to (n_samples,), for example using ravel().\n",
      "  self._final_estimator.fit(Xt, y, **fit_params_last_step)\n",
      "\u001b[32m[I 2022-02-22 02:46:08,098]\u001b[0m Trial 14 finished with value: 0.8252673777816578 and parameters: {'randomforestregressor__n_estimators': 120, 'randomforestregressor__max_depth': 5, 'randomforestregressor__max_features': 'auto', 'randomforestregressor__min_samples_split': 4, 'randomforestregressor__min_samples_leaf': 3, 'randomforestregressor__bootstrap': True}. Best is trial 10 with value: 0.8436173082290802.\u001b[0m\n",
      "/opt/conda/lib/python3.7/site-packages/sklearn/pipeline.py:335: DataConversionWarning: A column-vector y was passed when a 1d array was expected. Please change the shape of y to (n_samples,), for example using ravel().\n",
      "  self._final_estimator.fit(Xt, y, **fit_params_last_step)\n",
      "\u001b[32m[I 2022-02-22 02:46:09,140]\u001b[0m Trial 15 finished with value: 0.8361977963913376 and parameters: {'randomforestregressor__n_estimators': 30, 'randomforestregressor__max_depth': 12, 'randomforestregressor__max_features': 'auto', 'randomforestregressor__min_samples_split': 3, 'randomforestregressor__min_samples_leaf': 3, 'randomforestregressor__bootstrap': True}. Best is trial 10 with value: 0.8436173082290802.\u001b[0m\n",
      "/opt/conda/lib/python3.7/site-packages/sklearn/pipeline.py:335: DataConversionWarning: A column-vector y was passed when a 1d array was expected. Please change the shape of y to (n_samples,), for example using ravel().\n",
      "  self._final_estimator.fit(Xt, y, **fit_params_last_step)\n",
      "\u001b[32m[I 2022-02-22 02:46:11,545]\u001b[0m Trial 16 finished with value: 0.8393863973141257 and parameters: {'randomforestregressor__n_estimators': 94, 'randomforestregressor__max_depth': 8, 'randomforestregressor__max_features': 'auto', 'randomforestregressor__min_samples_split': 5, 'randomforestregressor__min_samples_leaf': 3, 'randomforestregressor__bootstrap': True}. Best is trial 10 with value: 0.8436173082290802.\u001b[0m\n",
      "/opt/conda/lib/python3.7/site-packages/sklearn/pipeline.py:335: DataConversionWarning: A column-vector y was passed when a 1d array was expected. Please change the shape of y to (n_samples,), for example using ravel().\n",
      "  self._final_estimator.fit(Xt, y, **fit_params_last_step)\n",
      "\u001b[32m[I 2022-02-22 02:46:14,054]\u001b[0m Trial 17 finished with value: 0.7910069672363504 and parameters: {'randomforestregressor__n_estimators': 151, 'randomforestregressor__max_depth': 4, 'randomforestregressor__max_features': 'auto', 'randomforestregressor__min_samples_split': 3, 'randomforestregressor__min_samples_leaf': 2, 'randomforestregressor__bootstrap': True}. Best is trial 10 with value: 0.8436173082290802.\u001b[0m\n",
      "/opt/conda/lib/python3.7/site-packages/sklearn/pipeline.py:335: DataConversionWarning: A column-vector y was passed when a 1d array was expected. Please change the shape of y to (n_samples,), for example using ravel().\n",
      "  self._final_estimator.fit(Xt, y, **fit_params_last_step)\n",
      "\u001b[32m[I 2022-02-22 02:46:15,662]\u001b[0m Trial 18 finished with value: 0.8254413394142056 and parameters: {'randomforestregressor__n_estimators': 199, 'randomforestregressor__max_depth': 13, 'randomforestregressor__max_features': 'sqrt', 'randomforestregressor__min_samples_split': 4, 'randomforestregressor__min_samples_leaf': 4, 'randomforestregressor__bootstrap': True}. Best is trial 10 with value: 0.8436173082290802.\u001b[0m\n",
      "/opt/conda/lib/python3.7/site-packages/sklearn/pipeline.py:335: DataConversionWarning: A column-vector y was passed when a 1d array was expected. Please change the shape of y to (n_samples,), for example using ravel().\n",
      "  self._final_estimator.fit(Xt, y, **fit_params_last_step)\n",
      "\u001b[32m[I 2022-02-22 02:46:18,069]\u001b[0m Trial 19 finished with value: 0.8448507889427347 and parameters: {'randomforestregressor__n_estimators': 82, 'randomforestregressor__max_depth': 20, 'randomforestregressor__max_features': 'auto', 'randomforestregressor__min_samples_split': 5, 'randomforestregressor__min_samples_leaf': 3, 'randomforestregressor__bootstrap': True}. Best is trial 19 with value: 0.8448507889427347.\u001b[0m\n",
      "/opt/conda/lib/python3.7/site-packages/sklearn/pipeline.py:335: DataConversionWarning: A column-vector y was passed when a 1d array was expected. Please change the shape of y to (n_samples,), for example using ravel().\n",
      "  self._final_estimator.fit(Xt, y, **fit_params_last_step)\n",
      "\u001b[32m[I 2022-02-22 02:46:20,408]\u001b[0m Trial 20 finished with value: 0.8348125653902576 and parameters: {'randomforestregressor__n_estimators': 76, 'randomforestregressor__max_depth': 19, 'randomforestregressor__max_features': 'auto', 'randomforestregressor__min_samples_split': 6, 'randomforestregressor__min_samples_leaf': 2, 'randomforestregressor__bootstrap': True}. Best is trial 19 with value: 0.8448507889427347.\u001b[0m\n",
      "/opt/conda/lib/python3.7/site-packages/sklearn/pipeline.py:335: DataConversionWarning: A column-vector y was passed when a 1d array was expected. Please change the shape of y to (n_samples,), for example using ravel().\n",
      "  self._final_estimator.fit(Xt, y, **fit_params_last_step)\n",
      "\u001b[32m[I 2022-02-22 02:46:23,660]\u001b[0m Trial 21 finished with value: 0.8421862331224345 and parameters: {'randomforestregressor__n_estimators': 108, 'randomforestregressor__max_depth': 20, 'randomforestregressor__max_features': 'auto', 'randomforestregressor__min_samples_split': 5, 'randomforestregressor__min_samples_leaf': 3, 'randomforestregressor__bootstrap': True}. Best is trial 19 with value: 0.8448507889427347.\u001b[0m\n",
      "/opt/conda/lib/python3.7/site-packages/sklearn/pipeline.py:335: DataConversionWarning: A column-vector y was passed when a 1d array was expected. Please change the shape of y to (n_samples,), for example using ravel().\n",
      "  self._final_estimator.fit(Xt, y, **fit_params_last_step)\n",
      "\u001b[32m[I 2022-02-22 02:46:26,754]\u001b[0m Trial 22 finished with value: 0.8378684285071044 and parameters: {'randomforestregressor__n_estimators': 106, 'randomforestregressor__max_depth': 19, 'randomforestregressor__max_features': 'auto', 'randomforestregressor__min_samples_split': 5, 'randomforestregressor__min_samples_leaf': 3, 'randomforestregressor__bootstrap': True}. Best is trial 19 with value: 0.8448507889427347.\u001b[0m\n",
      "/opt/conda/lib/python3.7/site-packages/sklearn/pipeline.py:335: DataConversionWarning: A column-vector y was passed when a 1d array was expected. Please change the shape of y to (n_samples,), for example using ravel().\n",
      "  self._final_estimator.fit(Xt, y, **fit_params_last_step)\n",
      "\u001b[32m[I 2022-02-22 02:46:27,263]\u001b[0m Trial 23 finished with value: 0.8321832917470823 and parameters: {'randomforestregressor__n_estimators': 10, 'randomforestregressor__max_depth': 15, 'randomforestregressor__max_features': 'auto', 'randomforestregressor__min_samples_split': 6, 'randomforestregressor__min_samples_leaf': 4, 'randomforestregressor__bootstrap': True}. Best is trial 19 with value: 0.8448507889427347.\u001b[0m\n",
      "/opt/conda/lib/python3.7/site-packages/sklearn/pipeline.py:335: DataConversionWarning: A column-vector y was passed when a 1d array was expected. Please change the shape of y to (n_samples,), for example using ravel().\n",
      "  self._final_estimator.fit(Xt, y, **fit_params_last_step)\n",
      "\u001b[32m[I 2022-02-22 02:46:28,798]\u001b[0m Trial 24 finished with value: 0.8372583651691938 and parameters: {'randomforestregressor__n_estimators': 50, 'randomforestregressor__max_depth': 20, 'randomforestregressor__max_features': 'auto', 'randomforestregressor__min_samples_split': 7, 'randomforestregressor__min_samples_leaf': 3, 'randomforestregressor__bootstrap': True}. Best is trial 19 with value: 0.8448507889427347.\u001b[0m\n"
     ]
    }
   ],
   "source": [
    "study_rfr = optuna.create_study(direction = \"maximize\")\n",
    "study_rfr.optimize(objective, n_trials = 25)\n"
   ]
  },
  {
   "cell_type": "raw",
   "id": "f3de8cc6",
   "metadata": {
    "papermill": {
     "duration": 0.065141,
     "end_time": "2022-02-22T02:46:29.002053",
     "exception": false,
     "start_time": "2022-02-22T02:46:28.936912",
     "status": "completed"
    },
    "tags": []
   },
   "source": []
  },
  {
   "cell_type": "code",
   "execution_count": 26,
   "id": "d6f1d058",
   "metadata": {
    "execution": {
     "iopub.execute_input": "2022-02-22T02:46:29.135163Z",
     "iopub.status.busy": "2022-02-22T02:46:29.134474Z",
     "iopub.status.idle": "2022-02-22T02:46:29.137633Z",
     "shell.execute_reply": "2022-02-22T02:46:29.138118Z",
     "shell.execute_reply.started": "2022-02-22T02:21:00.042399Z"
    },
    "papermill": {
     "duration": 0.072228,
     "end_time": "2022-02-22T02:46:29.138295",
     "exception": false,
     "start_time": "2022-02-22T02:46:29.066067",
     "status": "completed"
    },
    "tags": []
   },
   "outputs": [
    {
     "name": "stdout",
     "output_type": "stream",
     "text": [
      "FrozenTrial(number=19, values=[0.8448507889427347], datetime_start=datetime.datetime(2022, 2, 22, 2, 46, 15, 663880), datetime_complete=datetime.datetime(2022, 2, 22, 2, 46, 18, 69064), params={'randomforestregressor__n_estimators': 82, 'randomforestregressor__max_depth': 20, 'randomforestregressor__max_features': 'auto', 'randomforestregressor__min_samples_split': 5, 'randomforestregressor__min_samples_leaf': 3, 'randomforestregressor__bootstrap': True}, distributions={'randomforestregressor__n_estimators': IntLogUniformDistribution(high=200, low=10, step=1), 'randomforestregressor__max_depth': IntLogUniformDistribution(high=20, low=3, step=1), 'randomforestregressor__max_features': CategoricalDistribution(choices=('auto', 'sqrt')), 'randomforestregressor__min_samples_split': IntLogUniformDistribution(high=10, low=2, step=1), 'randomforestregressor__min_samples_leaf': IntLogUniformDistribution(high=4, low=1, step=1), 'randomforestregressor__bootstrap': CategoricalDistribution(choices=(True, False))}, user_attrs={}, system_attrs={}, intermediate_values={}, trial_id=19, state=TrialState.COMPLETE, value=None)\n"
     ]
    }
   ],
   "source": [
    "print(study_rfr.best_trial)"
   ]
  },
  {
   "cell_type": "code",
   "execution_count": 27,
   "id": "138ff18d",
   "metadata": {
    "execution": {
     "iopub.execute_input": "2022-02-22T02:46:29.274280Z",
     "iopub.status.busy": "2022-02-22T02:46:29.273375Z",
     "iopub.status.idle": "2022-02-22T02:46:29.276860Z",
     "shell.execute_reply": "2022-02-22T02:46:29.277384Z",
     "shell.execute_reply.started": "2022-02-22T02:21:00.050607Z"
    },
    "papermill": {
     "duration": 0.073271,
     "end_time": "2022-02-22T02:46:29.277556",
     "exception": false,
     "start_time": "2022-02-22T02:46:29.204285",
     "status": "completed"
    },
    "tags": []
   },
   "outputs": [
    {
     "name": "stdout",
     "output_type": "stream",
     "text": [
      "{'randomforestregressor__n_estimators': 82, 'randomforestregressor__max_depth': 20, 'randomforestregressor__max_features': 'auto', 'randomforestregressor__min_samples_split': 5, 'randomforestregressor__min_samples_leaf': 3, 'randomforestregressor__bootstrap': True}\n"
     ]
    }
   ],
   "source": [
    "print(study_rfr.best_params)"
   ]
  },
  {
   "cell_type": "code",
   "execution_count": 28,
   "id": "ed663cf3",
   "metadata": {
    "execution": {
     "iopub.execute_input": "2022-02-22T02:46:29.416241Z",
     "iopub.status.busy": "2022-02-22T02:46:29.415168Z",
     "iopub.status.idle": "2022-02-22T02:46:29.421330Z",
     "shell.execute_reply": "2022-02-22T02:46:29.422072Z",
     "shell.execute_reply.started": "2022-02-22T02:21:00.068349Z"
    },
    "papermill": {
     "duration": 0.075962,
     "end_time": "2022-02-22T02:46:29.422314",
     "exception": false,
     "start_time": "2022-02-22T02:46:29.346352",
     "status": "completed"
    },
    "tags": []
   },
   "outputs": [
    {
     "name": "stdout",
     "output_type": "stream",
     "text": [
      "0.8448507889427347\n"
     ]
    }
   ],
   "source": [
    "print(study_rfr.best_value)"
   ]
  },
  {
   "cell_type": "code",
   "execution_count": 29,
   "id": "79e7bca1",
   "metadata": {
    "execution": {
     "iopub.execute_input": "2022-02-22T02:46:29.559199Z",
     "iopub.status.busy": "2022-02-22T02:46:29.558479Z",
     "iopub.status.idle": "2022-02-22T02:46:29.700477Z",
     "shell.execute_reply": "2022-02-22T02:46:29.700975Z",
     "shell.execute_reply.started": "2022-02-22T02:21:00.077324Z"
    },
    "papermill": {
     "duration": 0.213188,
     "end_time": "2022-02-22T02:46:29.701166",
     "exception": false,
     "start_time": "2022-02-22T02:46:29.487978",
     "status": "completed"
    },
    "tags": []
   },
   "outputs": [
    {
     "data": {
      "text/plain": [
       "Pipeline(steps=[('columntransformer',\n",
       "                 ColumnTransformer(transformers=[('category_transformer',\n",
       "                                                  Pipeline(steps=[('imputer_category',\n",
       "                                                                   SimpleImputer(strategy='most_frequent')),\n",
       "                                                                  ('rare_labels',\n",
       "                                                                   RareLabelTransformer()),\n",
       "                                                                  ('onehot',\n",
       "                                                                   OneHotEncoder(handle_unknown='ignore'))]),\n",
       "                                                  ['MSZoning', 'LotShape',\n",
       "                                                   'LotConfig', 'Neighborhood',\n",
       "                                                   'BldgType', 'HouseStyle',\n",
       "                                                   'OverallQual', '...\n",
       "                                                   'BsmtHalfBath', 'FullBath',\n",
       "                                                   'HalfBath', 'BedroomAbvGr',\n",
       "                                                   'KitchenAbvGr',\n",
       "                                                   'TotRmsAbvGrd', 'Fireplaces',\n",
       "                                                   'GarageCars', 'GarageArea',\n",
       "                                                   'WoodDeckSF', 'OpenPorchSF',\n",
       "                                                   'EnclosedPorch', '3SsnPorch',\n",
       "                                                   'ScreenPorch', 'PoolArea',\n",
       "                                                   'MiscVal', 'MoSold',\n",
       "                                                   'YrSold', 'GarageYrBlt', ...])])),\n",
       "                ('randomforestregressor',\n",
       "                 RandomForestRegressor(max_depth=20, min_samples_leaf=3,\n",
       "                                       min_samples_split=5, n_estimators=82))])"
      ]
     },
     "execution_count": 29,
     "metadata": {},
     "output_type": "execute_result"
    }
   ],
   "source": [
    "pipeline_rf.set_params(**study_rfr.best_params)"
   ]
  },
  {
   "cell_type": "code",
   "execution_count": 30,
   "id": "27f332f8",
   "metadata": {
    "execution": {
     "iopub.execute_input": "2022-02-22T02:46:29.836867Z",
     "iopub.status.busy": "2022-02-22T02:46:29.836072Z",
     "iopub.status.idle": "2022-02-22T02:46:31.171235Z",
     "shell.execute_reply": "2022-02-22T02:46:31.171754Z",
     "shell.execute_reply.started": "2022-02-22T02:21:00.251121Z"
    },
    "papermill": {
     "duration": 1.404531,
     "end_time": "2022-02-22T02:46:31.171929",
     "exception": false,
     "start_time": "2022-02-22T02:46:29.767398",
     "status": "completed"
    },
    "tags": []
   },
   "outputs": [
    {
     "name": "stderr",
     "output_type": "stream",
     "text": [
      "/opt/conda/lib/python3.7/site-packages/sklearn/pipeline.py:335: DataConversionWarning: A column-vector y was passed when a 1d array was expected. Please change the shape of y to (n_samples,), for example using ravel().\n",
      "  self._final_estimator.fit(Xt, y, **fit_params_last_step)\n"
     ]
    },
    {
     "data": {
      "text/plain": [
       "Pipeline(steps=[('columntransformer',\n",
       "                 ColumnTransformer(transformers=[('category_transformer',\n",
       "                                                  Pipeline(steps=[('imputer_category',\n",
       "                                                                   SimpleImputer(strategy='most_frequent')),\n",
       "                                                                  ('rare_labels',\n",
       "                                                                   RareLabelTransformer()),\n",
       "                                                                  ('onehot',\n",
       "                                                                   OneHotEncoder(handle_unknown='ignore'))]),\n",
       "                                                  ['MSZoning', 'LotShape',\n",
       "                                                   'LotConfig', 'Neighborhood',\n",
       "                                                   'BldgType', 'HouseStyle',\n",
       "                                                   'OverallQual', '...\n",
       "                                                   'BsmtHalfBath', 'FullBath',\n",
       "                                                   'HalfBath', 'BedroomAbvGr',\n",
       "                                                   'KitchenAbvGr',\n",
       "                                                   'TotRmsAbvGrd', 'Fireplaces',\n",
       "                                                   'GarageCars', 'GarageArea',\n",
       "                                                   'WoodDeckSF', 'OpenPorchSF',\n",
       "                                                   'EnclosedPorch', '3SsnPorch',\n",
       "                                                   'ScreenPorch', 'PoolArea',\n",
       "                                                   'MiscVal', 'MoSold',\n",
       "                                                   'YrSold', 'GarageYrBlt', ...])])),\n",
       "                ('randomforestregressor',\n",
       "                 RandomForestRegressor(max_depth=20, min_samples_leaf=3,\n",
       "                                       min_samples_split=5, n_estimators=82))])"
      ]
     },
     "execution_count": 30,
     "metadata": {},
     "output_type": "execute_result"
    }
   ],
   "source": [
    "pipeline_rf.fit(X_train, y_train)"
   ]
  },
  {
   "cell_type": "code",
   "execution_count": 31,
   "id": "eb11f08c",
   "metadata": {
    "execution": {
     "iopub.execute_input": "2022-02-22T02:46:31.313523Z",
     "iopub.status.busy": "2022-02-22T02:46:31.312562Z",
     "iopub.status.idle": "2022-02-22T02:46:31.317535Z",
     "shell.execute_reply": "2022-02-22T02:46:31.317006Z",
     "shell.execute_reply.started": "2022-02-22T02:21:00.554340Z"
    },
    "papermill": {
     "duration": 0.075033,
     "end_time": "2022-02-22T02:46:31.317763",
     "exception": false,
     "start_time": "2022-02-22T02:46:31.242730",
     "status": "completed"
    },
    "tags": []
   },
   "outputs": [],
   "source": [
    "from sklearn.metrics import r2_score"
   ]
  },
  {
   "cell_type": "code",
   "execution_count": 32,
   "id": "1ca77511",
   "metadata": {
    "execution": {
     "iopub.execute_input": "2022-02-22T02:46:31.457008Z",
     "iopub.status.busy": "2022-02-22T02:46:31.456342Z",
     "iopub.status.idle": "2022-02-22T02:46:31.528493Z",
     "shell.execute_reply": "2022-02-22T02:46:31.527871Z",
     "shell.execute_reply.started": "2022-02-22T02:21:00.561066Z"
    },
    "papermill": {
     "duration": 0.143318,
     "end_time": "2022-02-22T02:46:31.528660",
     "exception": false,
     "start_time": "2022-02-22T02:46:31.385342",
     "status": "completed"
    },
    "tags": []
   },
   "outputs": [],
   "source": [
    "y_train_pred = pipeline_rf.predict(X_train)\n",
    "y_test_pred = pipeline_rf.predict(X_test)"
   ]
  },
  {
   "cell_type": "code",
   "execution_count": 33,
   "id": "fff230aa",
   "metadata": {
    "execution": {
     "iopub.execute_input": "2022-02-22T02:46:31.672922Z",
     "iopub.status.busy": "2022-02-22T02:46:31.672043Z",
     "iopub.status.idle": "2022-02-22T02:46:31.675007Z",
     "shell.execute_reply": "2022-02-22T02:46:31.675522Z",
     "shell.execute_reply.started": "2022-02-22T02:21:00.625229Z"
    },
    "papermill": {
     "duration": 0.080438,
     "end_time": "2022-02-22T02:46:31.675720",
     "exception": false,
     "start_time": "2022-02-22T02:46:31.595282",
     "status": "completed"
    },
    "tags": []
   },
   "outputs": [
    {
     "name": "stdout",
     "output_type": "stream",
     "text": [
      "0.9522883468291886\n",
      "0.8323042763711997\n"
     ]
    }
   ],
   "source": [
    "print(r2_score(y_train, y_train_pred))\n",
    "print(r2_score(y_test, y_test_pred))"
   ]
  },
  {
   "cell_type": "code",
   "execution_count": 34,
   "id": "15a5bc29",
   "metadata": {
    "execution": {
     "iopub.execute_input": "2022-02-22T02:46:31.814428Z",
     "iopub.status.busy": "2022-02-22T02:46:31.813527Z",
     "iopub.status.idle": "2022-02-22T02:46:32.126245Z",
     "shell.execute_reply": "2022-02-22T02:46:32.125581Z",
     "shell.execute_reply.started": "2022-02-22T02:21:00.637397Z"
    },
    "papermill": {
     "duration": 0.382313,
     "end_time": "2022-02-22T02:46:32.126383",
     "exception": false,
     "start_time": "2022-02-22T02:46:31.744070",
     "status": "completed"
    },
    "tags": []
   },
   "outputs": [
    {
     "data": {
      "text/html": [
       "<style>div.sk-top-container {color: black;background-color: white;}div.sk-toggleable {background-color: white;}label.sk-toggleable__label {cursor: pointer;display: block;width: 100%;margin-bottom: 0;padding: 0.2em 0.3em;box-sizing: border-box;text-align: center;}div.sk-toggleable__content {max-height: 0;max-width: 0;overflow: hidden;text-align: left;background-color: #f0f8ff;}div.sk-toggleable__content pre {margin: 0.2em;color: black;border-radius: 0.25em;background-color: #f0f8ff;}input.sk-toggleable__control:checked~div.sk-toggleable__content {max-height: 200px;max-width: 100%;overflow: auto;}div.sk-estimator input.sk-toggleable__control:checked~label.sk-toggleable__label {background-color: #d4ebff;}div.sk-label input.sk-toggleable__control:checked~label.sk-toggleable__label {background-color: #d4ebff;}input.sk-hidden--visually {border: 0;clip: rect(1px 1px 1px 1px);clip: rect(1px, 1px, 1px, 1px);height: 1px;margin: -1px;overflow: hidden;padding: 0;position: absolute;width: 1px;}div.sk-estimator {font-family: monospace;background-color: #f0f8ff;margin: 0.25em 0.25em;border: 1px dotted black;border-radius: 0.25em;box-sizing: border-box;}div.sk-estimator:hover {background-color: #d4ebff;}div.sk-parallel-item::after {content: \"\";width: 100%;border-bottom: 1px solid gray;flex-grow: 1;}div.sk-label:hover label.sk-toggleable__label {background-color: #d4ebff;}div.sk-serial::before {content: \"\";position: absolute;border-left: 1px solid gray;box-sizing: border-box;top: 2em;bottom: 0;left: 50%;}div.sk-serial {display: flex;flex-direction: column;align-items: center;background-color: white;}div.sk-item {z-index: 1;}div.sk-parallel {display: flex;align-items: stretch;justify-content: center;background-color: white;}div.sk-parallel-item {display: flex;flex-direction: column;position: relative;background-color: white;}div.sk-parallel-item:first-child::after {align-self: flex-end;width: 50%;}div.sk-parallel-item:last-child::after {align-self: flex-start;width: 50%;}div.sk-parallel-item:only-child::after {width: 0;}div.sk-dashed-wrapped {border: 1px dashed gray;margin: 0.2em;box-sizing: border-box;padding-bottom: 0.1em;background-color: white;position: relative;}div.sk-label label {font-family: monospace;font-weight: bold;background-color: white;display: inline-block;line-height: 1.2em;}div.sk-label-container {position: relative;z-index: 2;text-align: center;}div.sk-container {display: inline-block;position: relative;}</style><div class=\"sk-top-container\"><div class=\"sk-container\"><div class=\"sk-item sk-dashed-wrapped\"><div class=\"sk-label-container\"><div class=\"sk-label sk-toggleable\"><input class=\"sk-toggleable__control sk-hidden--visually\" id=\"af061d88-6ef5-424d-bc0b-de4dc92bb04c\" type=\"checkbox\" ><label class=\"sk-toggleable__label\" for=\"af061d88-6ef5-424d-bc0b-de4dc92bb04c\">Pipeline</label><div class=\"sk-toggleable__content\"><pre>Pipeline(steps=[('columntransformer',\n",
       "                 ColumnTransformer(transformers=[('category_transformer',\n",
       "                                                  Pipeline(steps=[('imputer_category',\n",
       "                                                                   SimpleImputer(strategy='most_frequent')),\n",
       "                                                                  ('rare_labels',\n",
       "                                                                   RareLabelTransformer()),\n",
       "                                                                  ('onehot',\n",
       "                                                                   OneHotEncoder(handle_unknown='ignore'))]),\n",
       "                                                  ['MSZoning', 'LotShape',\n",
       "                                                   'LotConfig', 'Neighborhood',\n",
       "                                                   'BldgType', 'HouseStyle',\n",
       "                                                   'OverallQual', '...\n",
       "                                                   'BsmtHalfBath', 'FullBath',\n",
       "                                                   'HalfBath', 'BedroomAbvGr',\n",
       "                                                   'KitchenAbvGr',\n",
       "                                                   'TotRmsAbvGrd', 'Fireplaces',\n",
       "                                                   'GarageCars', 'GarageArea',\n",
       "                                                   'WoodDeckSF', 'OpenPorchSF',\n",
       "                                                   'EnclosedPorch', '3SsnPorch',\n",
       "                                                   'ScreenPorch', 'PoolArea',\n",
       "                                                   'MiscVal', 'MoSold',\n",
       "                                                   'YrSold', 'GarageYrBlt', ...])])),\n",
       "                ('randomforestregressor',\n",
       "                 RandomForestRegressor(max_depth=20, min_samples_leaf=3,\n",
       "                                       min_samples_split=5, n_estimators=82))])</pre></div></div></div><div class=\"sk-serial\"><div class=\"sk-item sk-dashed-wrapped\"><div class=\"sk-label-container\"><div class=\"sk-label sk-toggleable\"><input class=\"sk-toggleable__control sk-hidden--visually\" id=\"cee1f231-2d8c-4730-ba24-3514c3f7efc0\" type=\"checkbox\" ><label class=\"sk-toggleable__label\" for=\"cee1f231-2d8c-4730-ba24-3514c3f7efc0\">columntransformer: ColumnTransformer</label><div class=\"sk-toggleable__content\"><pre>ColumnTransformer(transformers=[('category_transformer',\n",
       "                                 Pipeline(steps=[('imputer_category',\n",
       "                                                  SimpleImputer(strategy='most_frequent')),\n",
       "                                                 ('rare_labels',\n",
       "                                                  RareLabelTransformer()),\n",
       "                                                 ('onehot',\n",
       "                                                  OneHotEncoder(handle_unknown='ignore'))]),\n",
       "                                 ['MSZoning', 'LotShape', 'LotConfig',\n",
       "                                  'Neighborhood', 'BldgType', 'HouseStyle',\n",
       "                                  'OverallQual', 'OverallCond', 'RoofStyle',\n",
       "                                  'Exterior1st...\n",
       "                                  'BsmtFinSF2', 'BsmtUnfSF', 'TotalBsmtSF',\n",
       "                                  '1stFlrSF', '2ndFlrSF', 'LowQualFinSF',\n",
       "                                  'GrLivArea', 'BsmtFullBath', 'BsmtHalfBath',\n",
       "                                  'FullBath', 'HalfBath', 'BedroomAbvGr',\n",
       "                                  'KitchenAbvGr', 'TotRmsAbvGrd', 'Fireplaces',\n",
       "                                  'GarageCars', 'GarageArea', 'WoodDeckSF',\n",
       "                                  'OpenPorchSF', 'EnclosedPorch', '3SsnPorch',\n",
       "                                  'ScreenPorch', 'PoolArea', 'MiscVal',\n",
       "                                  'MoSold', 'YrSold', 'GarageYrBlt', ...])])</pre></div></div></div><div class=\"sk-parallel\"><div class=\"sk-parallel-item\"><div class=\"sk-item\"><div class=\"sk-label-container\"><div class=\"sk-label sk-toggleable\"><input class=\"sk-toggleable__control sk-hidden--visually\" id=\"805ad42f-0d03-4ad4-9ae7-7c83ff083222\" type=\"checkbox\" ><label class=\"sk-toggleable__label\" for=\"805ad42f-0d03-4ad4-9ae7-7c83ff083222\">category_transformer</label><div class=\"sk-toggleable__content\"><pre>['MSZoning', 'LotShape', 'LotConfig', 'Neighborhood', 'BldgType', 'HouseStyle', 'OverallQual', 'OverallCond', 'RoofStyle', 'Exterior1st', 'Exterior2nd', 'ExterQual', 'Foundation', 'HeatingQC', 'KitchenQual', 'SaleType', 'SaleCondition', 'GarageType', 'BsmtExposure', 'BsmtFinType1', 'GarageFinish', 'BsmtQual', 'MasVnrType']</pre></div></div></div><div class=\"sk-serial\"><div class=\"sk-item\"><div class=\"sk-serial\"><div class=\"sk-item\"><div class=\"sk-estimator sk-toggleable\"><input class=\"sk-toggleable__control sk-hidden--visually\" id=\"0862bb16-d999-4b2c-a451-a2dbebca34c2\" type=\"checkbox\" ><label class=\"sk-toggleable__label\" for=\"0862bb16-d999-4b2c-a451-a2dbebca34c2\">SimpleImputer</label><div class=\"sk-toggleable__content\"><pre>SimpleImputer(strategy='most_frequent')</pre></div></div></div><div class=\"sk-item\"><div class=\"sk-estimator sk-toggleable\"><input class=\"sk-toggleable__control sk-hidden--visually\" id=\"24054e99-9f5f-4978-8116-b8a7cd627372\" type=\"checkbox\" ><label class=\"sk-toggleable__label\" for=\"24054e99-9f5f-4978-8116-b8a7cd627372\">RareLabelTransformer</label><div class=\"sk-toggleable__content\"><pre>RareLabelTransformer()</pre></div></div></div><div class=\"sk-item\"><div class=\"sk-estimator sk-toggleable\"><input class=\"sk-toggleable__control sk-hidden--visually\" id=\"731cf078-d068-4836-9280-6432e6515242\" type=\"checkbox\" ><label class=\"sk-toggleable__label\" for=\"731cf078-d068-4836-9280-6432e6515242\">OneHotEncoder</label><div class=\"sk-toggleable__content\"><pre>OneHotEncoder(handle_unknown='ignore')</pre></div></div></div></div></div></div></div></div><div class=\"sk-parallel-item\"><div class=\"sk-item\"><div class=\"sk-label-container\"><div class=\"sk-label sk-toggleable\"><input class=\"sk-toggleable__control sk-hidden--visually\" id=\"481f24e6-5615-4022-ab66-cf256b237539\" type=\"checkbox\" ><label class=\"sk-toggleable__label\" for=\"481f24e6-5615-4022-ab66-cf256b237539\">numeric_transfomer</label><div class=\"sk-toggleable__content\"><pre>['LotFrontage', 'LotArea', 'BsmtFinSF1', 'BsmtFinSF2', 'BsmtUnfSF', 'TotalBsmtSF', '1stFlrSF', '2ndFlrSF', 'LowQualFinSF', 'GrLivArea', 'BsmtFullBath', 'BsmtHalfBath', 'FullBath', 'HalfBath', 'BedroomAbvGr', 'KitchenAbvGr', 'TotRmsAbvGrd', 'Fireplaces', 'GarageCars', 'GarageArea', 'WoodDeckSF', 'OpenPorchSF', 'EnclosedPorch', '3SsnPorch', 'ScreenPorch', 'PoolArea', 'MiscVal', 'MoSold', 'YrSold', 'GarageYrBlt', 'MasVnrArea']</pre></div></div></div><div class=\"sk-serial\"><div class=\"sk-item\"><div class=\"sk-serial\"><div class=\"sk-item\"><div class=\"sk-estimator sk-toggleable\"><input class=\"sk-toggleable__control sk-hidden--visually\" id=\"67d180b0-cf15-4a9a-a506-54561db9f989\" type=\"checkbox\" ><label class=\"sk-toggleable__label\" for=\"67d180b0-cf15-4a9a-a506-54561db9f989\">SimpleImputer</label><div class=\"sk-toggleable__content\"><pre>SimpleImputer()</pre></div></div></div><div class=\"sk-item\"><div class=\"sk-estimator sk-toggleable\"><input class=\"sk-toggleable__control sk-hidden--visually\" id=\"b46b42bb-01c6-414a-ba55-ecdc2ed056a6\" type=\"checkbox\" ><label class=\"sk-toggleable__label\" for=\"b46b42bb-01c6-414a-ba55-ecdc2ed056a6\">StandardScaler</label><div class=\"sk-toggleable__content\"><pre>StandardScaler()</pre></div></div></div></div></div></div></div></div></div></div><div class=\"sk-item\"><div class=\"sk-estimator sk-toggleable\"><input class=\"sk-toggleable__control sk-hidden--visually\" id=\"2f4df0c1-83dc-488b-a5d3-200511be44ed\" type=\"checkbox\" ><label class=\"sk-toggleable__label\" for=\"2f4df0c1-83dc-488b-a5d3-200511be44ed\">RandomForestRegressor</label><div class=\"sk-toggleable__content\"><pre>RandomForestRegressor(max_depth=20, min_samples_leaf=3, min_samples_split=5,\n",
       "                      n_estimators=82)</pre></div></div></div></div></div></div></div>"
      ],
      "text/plain": [
       "Pipeline(steps=[('columntransformer',\n",
       "                 ColumnTransformer(transformers=[('category_transformer',\n",
       "                                                  Pipeline(steps=[('imputer_category',\n",
       "                                                                   SimpleImputer(strategy='most_frequent')),\n",
       "                                                                  ('rare_labels',\n",
       "                                                                   RareLabelTransformer()),\n",
       "                                                                  ('onehot',\n",
       "                                                                   OneHotEncoder(handle_unknown='ignore'))]),\n",
       "                                                  ['MSZoning', 'LotShape',\n",
       "                                                   'LotConfig', 'Neighborhood',\n",
       "                                                   'BldgType', 'HouseStyle',\n",
       "                                                   'OverallQual', '...\n",
       "                                                   'BsmtHalfBath', 'FullBath',\n",
       "                                                   'HalfBath', 'BedroomAbvGr',\n",
       "                                                   'KitchenAbvGr',\n",
       "                                                   'TotRmsAbvGrd', 'Fireplaces',\n",
       "                                                   'GarageCars', 'GarageArea',\n",
       "                                                   'WoodDeckSF', 'OpenPorchSF',\n",
       "                                                   'EnclosedPorch', '3SsnPorch',\n",
       "                                                   'ScreenPorch', 'PoolArea',\n",
       "                                                   'MiscVal', 'MoSold',\n",
       "                                                   'YrSold', 'GarageYrBlt', ...])])),\n",
       "                ('randomforestregressor',\n",
       "                 RandomForestRegressor(max_depth=20, min_samples_leaf=3,\n",
       "                                       min_samples_split=5, n_estimators=82))])"
      ]
     },
     "execution_count": 34,
     "metadata": {},
     "output_type": "execute_result"
    }
   ],
   "source": [
    "from sklearn import set_config\n",
    "set_config(display=\"diagram\")\n",
    "pipeline_rf"
   ]
  },
  {
   "cell_type": "code",
   "execution_count": 35,
   "id": "92b2f01d",
   "metadata": {
    "execution": {
     "iopub.execute_input": "2022-02-22T02:46:32.312987Z",
     "iopub.status.busy": "2022-02-22T02:46:32.287037Z",
     "iopub.status.idle": "2022-02-22T02:46:32.347964Z",
     "shell.execute_reply": "2022-02-22T02:46:32.347232Z",
     "shell.execute_reply.started": "2022-02-22T02:21:00.987647Z"
    },
    "papermill": {
     "duration": 0.150463,
     "end_time": "2022-02-22T02:46:32.348121",
     "exception": false,
     "start_time": "2022-02-22T02:46:32.197658",
     "status": "completed"
    },
    "tags": []
   },
   "outputs": [
    {
     "data": {
      "text/plain": [
       "{'memory': None,\n",
       " 'steps': [('columntransformer',\n",
       "   ColumnTransformer(transformers=[('category_transformer',\n",
       "                                    Pipeline(steps=[('imputer_category',\n",
       "                                                     SimpleImputer(strategy='most_frequent')),\n",
       "                                                    ('rare_labels',\n",
       "                                                     RareLabelTransformer()),\n",
       "                                                    ('onehot',\n",
       "                                                     OneHotEncoder(handle_unknown='ignore'))]),\n",
       "                                    ['MSZoning', 'LotShape', 'LotConfig',\n",
       "                                     'Neighborhood', 'BldgType', 'HouseStyle',\n",
       "                                     'OverallQual', 'OverallCond', 'RoofStyle',\n",
       "                                     'Exterior1st...\n",
       "                                     'BsmtFinSF2', 'BsmtUnfSF', 'TotalBsmtSF',\n",
       "                                     '1stFlrSF', '2ndFlrSF', 'LowQualFinSF',\n",
       "                                     'GrLivArea', 'BsmtFullBath', 'BsmtHalfBath',\n",
       "                                     'FullBath', 'HalfBath', 'BedroomAbvGr',\n",
       "                                     'KitchenAbvGr', 'TotRmsAbvGrd', 'Fireplaces',\n",
       "                                     'GarageCars', 'GarageArea', 'WoodDeckSF',\n",
       "                                     'OpenPorchSF', 'EnclosedPorch', '3SsnPorch',\n",
       "                                     'ScreenPorch', 'PoolArea', 'MiscVal',\n",
       "                                     'MoSold', 'YrSold', 'GarageYrBlt', ...])])),\n",
       "  ('randomforestregressor',\n",
       "   RandomForestRegressor(max_depth=20, min_samples_leaf=3, min_samples_split=5,\n",
       "                         n_estimators=82))],\n",
       " 'verbose': False,\n",
       " 'columntransformer': ColumnTransformer(transformers=[('category_transformer',\n",
       "                                  Pipeline(steps=[('imputer_category',\n",
       "                                                   SimpleImputer(strategy='most_frequent')),\n",
       "                                                  ('rare_labels',\n",
       "                                                   RareLabelTransformer()),\n",
       "                                                  ('onehot',\n",
       "                                                   OneHotEncoder(handle_unknown='ignore'))]),\n",
       "                                  ['MSZoning', 'LotShape', 'LotConfig',\n",
       "                                   'Neighborhood', 'BldgType', 'HouseStyle',\n",
       "                                   'OverallQual', 'OverallCond', 'RoofStyle',\n",
       "                                   'Exterior1st...\n",
       "                                   'BsmtFinSF2', 'BsmtUnfSF', 'TotalBsmtSF',\n",
       "                                   '1stFlrSF', '2ndFlrSF', 'LowQualFinSF',\n",
       "                                   'GrLivArea', 'BsmtFullBath', 'BsmtHalfBath',\n",
       "                                   'FullBath', 'HalfBath', 'BedroomAbvGr',\n",
       "                                   'KitchenAbvGr', 'TotRmsAbvGrd', 'Fireplaces',\n",
       "                                   'GarageCars', 'GarageArea', 'WoodDeckSF',\n",
       "                                   'OpenPorchSF', 'EnclosedPorch', '3SsnPorch',\n",
       "                                   'ScreenPorch', 'PoolArea', 'MiscVal',\n",
       "                                   'MoSold', 'YrSold', 'GarageYrBlt', ...])]),\n",
       " 'randomforestregressor': RandomForestRegressor(max_depth=20, min_samples_leaf=3, min_samples_split=5,\n",
       "                       n_estimators=82),\n",
       " 'columntransformer__n_jobs': None,\n",
       " 'columntransformer__remainder': 'drop',\n",
       " 'columntransformer__sparse_threshold': 0.3,\n",
       " 'columntransformer__transformer_weights': None,\n",
       " 'columntransformer__transformers': [('category_transformer',\n",
       "   Pipeline(steps=[('imputer_category', SimpleImputer(strategy='most_frequent')),\n",
       "                   ('rare_labels', RareLabelTransformer()),\n",
       "                   ('onehot', OneHotEncoder(handle_unknown='ignore'))]),\n",
       "   ['MSZoning',\n",
       "    'LotShape',\n",
       "    'LotConfig',\n",
       "    'Neighborhood',\n",
       "    'BldgType',\n",
       "    'HouseStyle',\n",
       "    'OverallQual',\n",
       "    'OverallCond',\n",
       "    'RoofStyle',\n",
       "    'Exterior1st',\n",
       "    'Exterior2nd',\n",
       "    'ExterQual',\n",
       "    'Foundation',\n",
       "    'HeatingQC',\n",
       "    'KitchenQual',\n",
       "    'SaleType',\n",
       "    'SaleCondition',\n",
       "    'GarageType',\n",
       "    'BsmtExposure',\n",
       "    'BsmtFinType1',\n",
       "    'GarageFinish',\n",
       "    'BsmtQual',\n",
       "    'MasVnrType']),\n",
       "  ('numeric_transfomer',\n",
       "   Pipeline(steps=[('imputer_numeric', SimpleImputer()),\n",
       "                   ('scaler', StandardScaler())]),\n",
       "   ['LotFrontage',\n",
       "    'LotArea',\n",
       "    'BsmtFinSF1',\n",
       "    'BsmtFinSF2',\n",
       "    'BsmtUnfSF',\n",
       "    'TotalBsmtSF',\n",
       "    '1stFlrSF',\n",
       "    '2ndFlrSF',\n",
       "    'LowQualFinSF',\n",
       "    'GrLivArea',\n",
       "    'BsmtFullBath',\n",
       "    'BsmtHalfBath',\n",
       "    'FullBath',\n",
       "    'HalfBath',\n",
       "    'BedroomAbvGr',\n",
       "    'KitchenAbvGr',\n",
       "    'TotRmsAbvGrd',\n",
       "    'Fireplaces',\n",
       "    'GarageCars',\n",
       "    'GarageArea',\n",
       "    'WoodDeckSF',\n",
       "    'OpenPorchSF',\n",
       "    'EnclosedPorch',\n",
       "    '3SsnPorch',\n",
       "    'ScreenPorch',\n",
       "    'PoolArea',\n",
       "    'MiscVal',\n",
       "    'MoSold',\n",
       "    'YrSold',\n",
       "    'GarageYrBlt',\n",
       "    'MasVnrArea'])],\n",
       " 'columntransformer__verbose': False,\n",
       " 'columntransformer__category_transformer': Pipeline(steps=[('imputer_category', SimpleImputer(strategy='most_frequent')),\n",
       "                 ('rare_labels', RareLabelTransformer()),\n",
       "                 ('onehot', OneHotEncoder(handle_unknown='ignore'))]),\n",
       " 'columntransformer__numeric_transfomer': Pipeline(steps=[('imputer_numeric', SimpleImputer()),\n",
       "                 ('scaler', StandardScaler())]),\n",
       " 'columntransformer__category_transformer__memory': None,\n",
       " 'columntransformer__category_transformer__steps': [('imputer_category',\n",
       "   SimpleImputer(strategy='most_frequent')),\n",
       "  ('rare_labels', RareLabelTransformer()),\n",
       "  ('onehot', OneHotEncoder(handle_unknown='ignore'))],\n",
       " 'columntransformer__category_transformer__verbose': False,\n",
       " 'columntransformer__category_transformer__imputer_category': SimpleImputer(strategy='most_frequent'),\n",
       " 'columntransformer__category_transformer__rare_labels': RareLabelTransformer(),\n",
       " 'columntransformer__category_transformer__onehot': OneHotEncoder(handle_unknown='ignore'),\n",
       " 'columntransformer__category_transformer__imputer_category__add_indicator': False,\n",
       " 'columntransformer__category_transformer__imputer_category__copy': True,\n",
       " 'columntransformer__category_transformer__imputer_category__fill_value': None,\n",
       " 'columntransformer__category_transformer__imputer_category__missing_values': nan,\n",
       " 'columntransformer__category_transformer__imputer_category__strategy': 'most_frequent',\n",
       " 'columntransformer__category_transformer__imputer_category__verbose': 0,\n",
       " 'columntransformer__category_transformer__rare_labels__copy': True,\n",
       " 'columntransformer__category_transformer__rare_labels__label': 'rare',\n",
       " 'columntransformer__category_transformer__rare_labels__threshold': 0.2,\n",
       " 'columntransformer__category_transformer__onehot__categories': 'auto',\n",
       " 'columntransformer__category_transformer__onehot__drop': None,\n",
       " 'columntransformer__category_transformer__onehot__dtype': numpy.float64,\n",
       " 'columntransformer__category_transformer__onehot__handle_unknown': 'ignore',\n",
       " 'columntransformer__category_transformer__onehot__sparse': True,\n",
       " 'columntransformer__numeric_transfomer__memory': None,\n",
       " 'columntransformer__numeric_transfomer__steps': [('imputer_numeric',\n",
       "   SimpleImputer()),\n",
       "  ('scaler', StandardScaler())],\n",
       " 'columntransformer__numeric_transfomer__verbose': False,\n",
       " 'columntransformer__numeric_transfomer__imputer_numeric': SimpleImputer(),\n",
       " 'columntransformer__numeric_transfomer__scaler': StandardScaler(),\n",
       " 'columntransformer__numeric_transfomer__imputer_numeric__add_indicator': False,\n",
       " 'columntransformer__numeric_transfomer__imputer_numeric__copy': True,\n",
       " 'columntransformer__numeric_transfomer__imputer_numeric__fill_value': None,\n",
       " 'columntransformer__numeric_transfomer__imputer_numeric__missing_values': nan,\n",
       " 'columntransformer__numeric_transfomer__imputer_numeric__strategy': 'mean',\n",
       " 'columntransformer__numeric_transfomer__imputer_numeric__verbose': 0,\n",
       " 'columntransformer__numeric_transfomer__scaler__copy': True,\n",
       " 'columntransformer__numeric_transfomer__scaler__with_mean': True,\n",
       " 'columntransformer__numeric_transfomer__scaler__with_std': True,\n",
       " 'randomforestregressor__bootstrap': True,\n",
       " 'randomforestregressor__ccp_alpha': 0.0,\n",
       " 'randomforestregressor__criterion': 'mse',\n",
       " 'randomforestregressor__max_depth': 20,\n",
       " 'randomforestregressor__max_features': 'auto',\n",
       " 'randomforestregressor__max_leaf_nodes': None,\n",
       " 'randomforestregressor__max_samples': None,\n",
       " 'randomforestregressor__min_impurity_decrease': 0.0,\n",
       " 'randomforestregressor__min_impurity_split': None,\n",
       " 'randomforestregressor__min_samples_leaf': 3,\n",
       " 'randomforestregressor__min_samples_split': 5,\n",
       " 'randomforestregressor__min_weight_fraction_leaf': 0.0,\n",
       " 'randomforestregressor__n_estimators': 82,\n",
       " 'randomforestregressor__n_jobs': None,\n",
       " 'randomforestregressor__oob_score': False,\n",
       " 'randomforestregressor__random_state': None,\n",
       " 'randomforestregressor__verbose': 0,\n",
       " 'randomforestregressor__warm_start': False}"
      ]
     },
     "execution_count": 35,
     "metadata": {},
     "output_type": "execute_result"
    }
   ],
   "source": [
    "pipeline_rf.get_params()"
   ]
  },
  {
   "cell_type": "code",
   "execution_count": 36,
   "id": "def9502a",
   "metadata": {
    "execution": {
     "iopub.execute_input": "2022-02-22T02:46:32.497423Z",
     "iopub.status.busy": "2022-02-22T02:46:32.496404Z",
     "iopub.status.idle": "2022-02-22T02:46:32.499479Z",
     "shell.execute_reply": "2022-02-22T02:46:32.498854Z",
     "shell.execute_reply.started": "2022-02-22T02:21:01.080570Z"
    },
    "papermill": {
     "duration": 0.077544,
     "end_time": "2022-02-22T02:46:32.499656",
     "exception": false,
     "start_time": "2022-02-22T02:46:32.422112",
     "status": "completed"
    },
    "tags": []
   },
   "outputs": [],
   "source": [
    "#pipeline_rf.get_params()['xgbregressor'].feature_importances_\n"
   ]
  },
  {
   "cell_type": "code",
   "execution_count": 37,
   "id": "2682af47",
   "metadata": {
    "execution": {
     "iopub.execute_input": "2022-02-22T02:46:32.647762Z",
     "iopub.status.busy": "2022-02-22T02:46:32.646685Z",
     "iopub.status.idle": "2022-02-22T02:46:32.649902Z",
     "shell.execute_reply": "2022-02-22T02:46:32.649241Z",
     "shell.execute_reply.started": "2022-02-22T02:21:01.086739Z"
    },
    "papermill": {
     "duration": 0.078627,
     "end_time": "2022-02-22T02:46:32.650052",
     "exception": false,
     "start_time": "2022-02-22T02:46:32.571425",
     "status": "completed"
    },
    "tags": []
   },
   "outputs": [],
   "source": [
    "#pipeline_rf.get_params()['xgbregressor'].n_features_in_"
   ]
  },
  {
   "cell_type": "code",
   "execution_count": 38,
   "id": "89eb878f",
   "metadata": {
    "execution": {
     "iopub.execute_input": "2022-02-22T02:46:32.827137Z",
     "iopub.status.busy": "2022-02-22T02:46:32.808859Z",
     "iopub.status.idle": "2022-02-22T02:46:32.831198Z",
     "shell.execute_reply": "2022-02-22T02:46:32.830321Z",
     "shell.execute_reply.started": "2022-02-22T02:22:11.511777Z"
    },
    "papermill": {
     "duration": 0.107867,
     "end_time": "2022-02-22T02:46:32.831360",
     "exception": false,
     "start_time": "2022-02-22T02:46:32.723493",
     "status": "completed"
    },
    "tags": []
   },
   "outputs": [
    {
     "data": {
      "text/plain": [
       "<bound method ColumnTransformer.get_feature_names of ColumnTransformer(transformers=[('category_transformer',\n",
       "                                 Pipeline(steps=[('imputer_category',\n",
       "                                                  SimpleImputer(strategy='most_frequent')),\n",
       "                                                 ('rare_labels',\n",
       "                                                  RareLabelTransformer()),\n",
       "                                                 ('onehot',\n",
       "                                                  OneHotEncoder(handle_unknown='ignore'))]),\n",
       "                                 ['MSZoning', 'LotShape', 'LotConfig',\n",
       "                                  'Neighborhood', 'BldgType', 'HouseStyle',\n",
       "                                  'OverallQual', 'OverallCond', 'RoofStyle',\n",
       "                                  'Exterior1st...\n",
       "                                  'BsmtFinSF2', 'BsmtUnfSF', 'TotalBsmtSF',\n",
       "                                  '1stFlrSF', '2ndFlrSF', 'LowQualFinSF',\n",
       "                                  'GrLivArea', 'BsmtFullBath', 'BsmtHalfBath',\n",
       "                                  'FullBath', 'HalfBath', 'BedroomAbvGr',\n",
       "                                  'KitchenAbvGr', 'TotRmsAbvGrd', 'Fireplaces',\n",
       "                                  'GarageCars', 'GarageArea', 'WoodDeckSF',\n",
       "                                  'OpenPorchSF', 'EnclosedPorch', '3SsnPorch',\n",
       "                                  'ScreenPorch', 'PoolArea', 'MiscVal',\n",
       "                                  'MoSold', 'YrSold', 'GarageYrBlt', ...])])>"
      ]
     },
     "execution_count": 38,
     "metadata": {},
     "output_type": "execute_result"
    }
   ],
   "source": [
    "preprocessor.get_feature_names"
   ]
  }
 ],
 "metadata": {
  "kernelspec": {
   "display_name": "Python 3",
   "language": "python",
   "name": "python3"
  },
  "language_info": {
   "codemirror_mode": {
    "name": "ipython",
    "version": 3
   },
   "file_extension": ".py",
   "mimetype": "text/x-python",
   "name": "python",
   "nbconvert_exporter": "python",
   "pygments_lexer": "ipython3",
   "version": "3.7.12"
  },
  "papermill": {
   "default_parameters": {},
   "duration": 87.474529,
   "end_time": "2022-02-22T02:46:34.022699",
   "environment_variables": {},
   "exception": null,
   "input_path": "__notebook__.ipynb",
   "output_path": "__notebook__.ipynb",
   "parameters": {},
   "start_time": "2022-02-22T02:45:06.548170",
   "version": "2.3.3"
  }
 },
 "nbformat": 4,
 "nbformat_minor": 5
}
