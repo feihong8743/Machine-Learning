{
 "cells": [
  {
   "cell_type": "code",
   "execution_count": 28,
   "id": "50a5284f",
   "metadata": {},
   "outputs": [],
   "source": [
    "import optuna"
   ]
  },
  {
   "cell_type": "code",
   "execution_count": 29,
   "id": "4509108d",
   "metadata": {},
   "outputs": [],
   "source": [
    "from sklearn.ensemble import RandomForestClassifier"
   ]
  },
  {
   "cell_type": "code",
   "execution_count": 30,
   "id": "6ed8b779",
   "metadata": {},
   "outputs": [],
   "source": [
    "from sklearn.model_selection import KFold, cross_val_score"
   ]
  },
  {
   "cell_type": "code",
   "execution_count": 31,
   "id": "92d65071",
   "metadata": {},
   "outputs": [],
   "source": [
    "from sklearn.datasets import load_iris"
   ]
  },
  {
   "cell_type": "code",
   "execution_count": 32,
   "id": "255e3559",
   "metadata": {},
   "outputs": [],
   "source": [
    "iris = load_iris()"
   ]
  },
  {
   "cell_type": "code",
   "execution_count": 33,
   "id": "2b59fb67",
   "metadata": {},
   "outputs": [],
   "source": [
    "X = iris.data"
   ]
  },
  {
   "cell_type": "code",
   "execution_count": 34,
   "id": "c594c297",
   "metadata": {},
   "outputs": [],
   "source": [
    "y = iris.target"
   ]
  },
  {
   "cell_type": "code",
   "execution_count": 35,
   "id": "a1f02f2e",
   "metadata": {},
   "outputs": [
    {
     "data": {
      "text/plain": [
       "array([0, 0, 0, 0, 0, 0, 0, 0, 0, 0, 0, 0, 0, 0, 0, 0, 0, 0, 0, 0, 0, 0,\n",
       "       0, 0, 0, 0, 0, 0, 0, 0, 0, 0, 0, 0, 0, 0, 0, 0, 0, 0, 0, 0, 0, 0,\n",
       "       0, 0, 0, 0, 0, 0, 1, 1, 1, 1, 1, 1, 1, 1, 1, 1, 1, 1, 1, 1, 1, 1,\n",
       "       1, 1, 1, 1, 1, 1, 1, 1, 1, 1, 1, 1, 1, 1, 1, 1, 1, 1, 1, 1, 1, 1,\n",
       "       1, 1, 1, 1, 1, 1, 1, 1, 1, 1, 1, 1, 2, 2, 2, 2, 2, 2, 2, 2, 2, 2,\n",
       "       2, 2, 2, 2, 2, 2, 2, 2, 2, 2, 2, 2, 2, 2, 2, 2, 2, 2, 2, 2, 2, 2,\n",
       "       2, 2, 2, 2, 2, 2, 2, 2, 2, 2, 2, 2, 2, 2, 2, 2, 2, 2])"
      ]
     },
     "execution_count": 35,
     "metadata": {},
     "output_type": "execute_result"
    }
   ],
   "source": [
    "y"
   ]
  },
  {
   "cell_type": "code",
   "execution_count": 36,
   "id": "e2ec37f7",
   "metadata": {},
   "outputs": [],
   "source": [
    "from sklearn.model_selection import train_test_split"
   ]
  },
  {
   "cell_type": "code",
   "execution_count": 37,
   "id": "1756123c",
   "metadata": {},
   "outputs": [],
   "source": [
    "X_train, X_test, y_train, y_test = train_test_split(X, y, test_size = 0.3, random_state = 14)"
   ]
  },
  {
   "cell_type": "code",
   "execution_count": 38,
   "id": "59344fd8",
   "metadata": {},
   "outputs": [],
   "source": [
    "def objective(trail):\n",
    "    max_features_param = trail.suggest_categorical('max_features', ['auto', 'sqrt'])\n",
    "    n_estimators_param = trail.suggest_int(\"n_estimators\", 10, 100, log=True)\n",
    "    max_depth_param = trail.suggest_int(\"max_depth\", 2, 10, log=True)\n",
    "    min_samples_split_param = trail.suggest_int('min_samples_split', 2, 10, log=True)\n",
    "    min_samples_leaf_param = trail.suggest_int('min_samples_leaf', 1, 4, log=True)\n",
    "    \n",
    "    model = RandomForestClassifier(max_features=max_features_param, n_estimators=n_estimators_param,max_depth=max_depth_param,\n",
    "                                  min_samples_split=min_samples_split_param, min_samples_leaf=min_samples_leaf_param)\n",
    "    \n",
    "    score = cross_val_score(model, X_train, y_train, n_jobs = -1, cv = 3)\n",
    "    print(score)\n",
    "    accuracy = score.mean()\n",
    "    return accuracy"
   ]
  },
  {
   "cell_type": "code",
   "execution_count": 39,
   "id": "255c69be",
   "metadata": {},
   "outputs": [
    {
     "name": "stderr",
     "output_type": "stream",
     "text": [
      "\u001b[32m[I 2022-02-12 19:31:28,655]\u001b[0m A new study created in memory with name: no-name-85e6def8-62bf-4235-9679-195749549b3d\u001b[0m\n",
      "\u001b[32m[I 2022-02-12 19:31:28,739]\u001b[0m Trial 0 finished with value: 0.9142857142857143 and parameters: {'max_features': 'sqrt', 'n_estimators': 13, 'max_depth': 2, 'min_samples_split': 4, 'min_samples_leaf': 1}. Best is trial 0 with value: 0.9142857142857143.\u001b[0m\n",
      "\u001b[32m[I 2022-02-12 19:31:28,841]\u001b[0m Trial 1 finished with value: 0.9142857142857143 and parameters: {'max_features': 'auto', 'n_estimators': 15, 'max_depth': 8, 'min_samples_split': 3, 'min_samples_leaf': 1}. Best is trial 0 with value: 0.9142857142857143.\u001b[0m\n",
      "\u001b[32m[I 2022-02-12 19:31:28,916]\u001b[0m Trial 2 finished with value: 0.9142857142857143 and parameters: {'max_features': 'auto', 'n_estimators': 16, 'max_depth': 9, 'min_samples_split': 3, 'min_samples_leaf': 1}. Best is trial 0 with value: 0.9142857142857143.\u001b[0m\n"
     ]
    },
    {
     "name": "stdout",
     "output_type": "stream",
     "text": [
      "[0.91428571 0.88571429 0.94285714]\n",
      "[0.91428571 0.88571429 0.94285714]\n",
      "[0.91428571 0.88571429 0.94285714]\n"
     ]
    },
    {
     "name": "stderr",
     "output_type": "stream",
     "text": [
      "\u001b[32m[I 2022-02-12 19:31:29,018]\u001b[0m Trial 3 finished with value: 0.9238095238095237 and parameters: {'max_features': 'sqrt', 'n_estimators': 23, 'max_depth': 3, 'min_samples_split': 7, 'min_samples_leaf': 4}. Best is trial 3 with value: 0.9238095238095237.\u001b[0m\n",
      "\u001b[32m[I 2022-02-12 19:31:29,102]\u001b[0m Trial 4 finished with value: 0.9142857142857143 and parameters: {'max_features': 'sqrt', 'n_estimators': 21, 'max_depth': 6, 'min_samples_split': 3, 'min_samples_leaf': 2}. Best is trial 3 with value: 0.9238095238095237.\u001b[0m\n"
     ]
    },
    {
     "name": "stdout",
     "output_type": "stream",
     "text": [
      "[0.91428571 0.88571429 0.97142857]\n",
      "[0.91428571 0.88571429 0.94285714]\n"
     ]
    },
    {
     "name": "stderr",
     "output_type": "stream",
     "text": [
      "\u001b[32m[I 2022-02-12 19:31:29,277]\u001b[0m Trial 5 finished with value: 0.9238095238095237 and parameters: {'max_features': 'sqrt', 'n_estimators': 42, 'max_depth': 10, 'min_samples_split': 10, 'min_samples_leaf': 1}. Best is trial 3 with value: 0.9238095238095237.\u001b[0m\n"
     ]
    },
    {
     "name": "stdout",
     "output_type": "stream",
     "text": [
      "[0.91428571 0.88571429 0.97142857]\n"
     ]
    },
    {
     "name": "stderr",
     "output_type": "stream",
     "text": [
      "\u001b[32m[I 2022-02-12 19:31:29,592]\u001b[0m Trial 6 finished with value: 0.9238095238095237 and parameters: {'max_features': 'auto', 'n_estimators': 95, 'max_depth': 7, 'min_samples_split': 2, 'min_samples_leaf': 2}. Best is trial 3 with value: 0.9238095238095237.\u001b[0m\n",
      "\u001b[32m[I 2022-02-12 19:31:29,676]\u001b[0m Trial 7 finished with value: 0.9142857142857143 and parameters: {'max_features': 'auto', 'n_estimators': 17, 'max_depth': 2, 'min_samples_split': 3, 'min_samples_leaf': 2}. Best is trial 3 with value: 0.9238095238095237.\u001b[0m\n",
      "\u001b[32m[I 2022-02-12 19:31:29,790]\u001b[0m Trial 8 finished with value: 0.9333333333333332 and parameters: {'max_features': 'auto', 'n_estimators': 27, 'max_depth': 3, 'min_samples_split': 6, 'min_samples_leaf': 2}. Best is trial 8 with value: 0.9333333333333332.\u001b[0m\n"
     ]
    },
    {
     "name": "stdout",
     "output_type": "stream",
     "text": [
      "[0.91428571 0.88571429 0.97142857]\n",
      "[0.91428571 0.88571429 0.94285714]\n",
      "[0.91428571 0.88571429 1.        ]\n"
     ]
    },
    {
     "name": "stderr",
     "output_type": "stream",
     "text": [
      "\u001b[32m[I 2022-02-12 19:31:29,857]\u001b[0m Trial 9 finished with value: 0.9428571428571427 and parameters: {'max_features': 'auto', 'n_estimators': 11, 'max_depth': 5, 'min_samples_split': 2, 'min_samples_leaf': 2}. Best is trial 9 with value: 0.9428571428571427.\u001b[0m\n",
      "\u001b[32m[I 2022-02-12 19:31:29,939]\u001b[0m Trial 10 finished with value: 0.9238095238095237 and parameters: {'max_features': 'auto', 'n_estimators': 10, 'max_depth': 5, 'min_samples_split': 2, 'min_samples_leaf': 4}. Best is trial 9 with value: 0.9428571428571427.\u001b[0m\n"
     ]
    },
    {
     "name": "stdout",
     "output_type": "stream",
     "text": [
      "[0.94285714 0.88571429 1.        ]\n",
      "[0.91428571 0.88571429 0.97142857]\n"
     ]
    },
    {
     "name": "stderr",
     "output_type": "stream",
     "text": [
      "\u001b[32m[I 2022-02-12 19:31:30,179]\u001b[0m Trial 11 finished with value: 0.9238095238095237 and parameters: {'max_features': 'auto', 'n_estimators': 42, 'max_depth': 3, 'min_samples_split': 6, 'min_samples_leaf': 3}. Best is trial 9 with value: 0.9428571428571427.\u001b[0m\n",
      "\u001b[32m[I 2022-02-12 19:31:30,353]\u001b[0m Trial 12 finished with value: 0.9142857142857143 and parameters: {'max_features': 'auto', 'n_estimators': 32, 'max_depth': 4, 'min_samples_split': 5, 'min_samples_leaf': 2}. Best is trial 9 with value: 0.9428571428571427.\u001b[0m\n"
     ]
    },
    {
     "name": "stdout",
     "output_type": "stream",
     "text": [
      "[0.91428571 0.88571429 0.97142857]\n",
      "[0.91428571 0.88571429 0.94285714]\n"
     ]
    },
    {
     "name": "stderr",
     "output_type": "stream",
     "text": [
      "\u001b[32m[I 2022-02-12 19:31:30,692]\u001b[0m Trial 13 finished with value: 0.9238095238095237 and parameters: {'max_features': 'auto', 'n_estimators': 75, 'max_depth': 3, 'min_samples_split': 10, 'min_samples_leaf': 3}. Best is trial 9 with value: 0.9428571428571427.\u001b[0m\n",
      "\u001b[32m[I 2022-02-12 19:31:30,774]\u001b[0m Trial 14 finished with value: 0.9142857142857143 and parameters: {'max_features': 'auto', 'n_estimators': 10, 'max_depth': 4, 'min_samples_split': 7, 'min_samples_leaf': 3}. Best is trial 9 with value: 0.9428571428571427.\u001b[0m\n"
     ]
    },
    {
     "name": "stdout",
     "output_type": "stream",
     "text": [
      "[0.91428571 0.88571429 0.97142857]\n",
      "[0.91428571 0.88571429 0.94285714]\n"
     ]
    },
    {
     "name": "stderr",
     "output_type": "stream",
     "text": [
      "\u001b[32m[I 2022-02-12 19:31:31,111]\u001b[0m Trial 15 finished with value: 0.9238095238095237 and parameters: {'max_features': 'auto', 'n_estimators': 61, 'max_depth': 5, 'min_samples_split': 4, 'min_samples_leaf': 2}. Best is trial 9 with value: 0.9428571428571427.\u001b[0m\n",
      "\u001b[32m[I 2022-02-12 19:31:31,261]\u001b[0m Trial 16 finished with value: 0.9142857142857143 and parameters: {'max_features': 'auto', 'n_estimators': 29, 'max_depth': 3, 'min_samples_split': 5, 'min_samples_leaf': 3}. Best is trial 9 with value: 0.9428571428571427.\u001b[0m\n"
     ]
    },
    {
     "name": "stdout",
     "output_type": "stream",
     "text": [
      "[0.91428571 0.88571429 0.97142857]\n",
      "[0.91428571 0.88571429 0.94285714]\n"
     ]
    },
    {
     "name": "stderr",
     "output_type": "stream",
     "text": [
      "\u001b[32m[I 2022-02-12 19:31:31,458]\u001b[0m Trial 17 finished with value: 0.9238095238095237 and parameters: {'max_features': 'auto', 'n_estimators': 46, 'max_depth': 5, 'min_samples_split': 2, 'min_samples_leaf': 2}. Best is trial 9 with value: 0.9428571428571427.\u001b[0m\n",
      "\u001b[32m[I 2022-02-12 19:31:31,595]\u001b[0m Trial 18 finished with value: 0.9238095238095237 and parameters: {'max_features': 'sqrt', 'n_estimators': 24, 'max_depth': 2, 'min_samples_split': 5, 'min_samples_leaf': 3}. Best is trial 9 with value: 0.9428571428571427.\u001b[0m\n"
     ]
    },
    {
     "name": "stdout",
     "output_type": "stream",
     "text": [
      "[0.91428571 0.88571429 0.97142857]\n",
      "[0.91428571 0.88571429 0.97142857]\n"
     ]
    },
    {
     "name": "stderr",
     "output_type": "stream",
     "text": [
      "\u001b[32m[I 2022-02-12 19:31:31,715]\u001b[0m Trial 19 finished with value: 0.9238095238095237 and parameters: {'max_features': 'auto', 'n_estimators': 12, 'max_depth': 4, 'min_samples_split': 8, 'min_samples_leaf': 4}. Best is trial 9 with value: 0.9428571428571427.\u001b[0m\n",
      "\u001b[32m[I 2022-02-12 19:31:31,855]\u001b[0m Trial 20 finished with value: 0.9238095238095237 and parameters: {'max_features': 'auto', 'n_estimators': 30, 'max_depth': 6, 'min_samples_split': 4, 'min_samples_leaf': 2}. Best is trial 9 with value: 0.9428571428571427.\u001b[0m\n"
     ]
    },
    {
     "name": "stdout",
     "output_type": "stream",
     "text": [
      "[0.91428571 0.88571429 0.97142857]\n",
      "[0.91428571 0.88571429 0.97142857]\n"
     ]
    },
    {
     "name": "stderr",
     "output_type": "stream",
     "text": [
      "\u001b[32m[I 2022-02-12 19:31:32,025]\u001b[0m Trial 21 finished with value: 0.9238095238095237 and parameters: {'max_features': 'auto', 'n_estimators': 10, 'max_depth': 5, 'min_samples_split': 2, 'min_samples_leaf': 4}. Best is trial 9 with value: 0.9428571428571427.\u001b[0m\n",
      "\u001b[32m[I 2022-02-12 19:31:32,127]\u001b[0m Trial 22 finished with value: 0.9238095238095237 and parameters: {'max_features': 'auto', 'n_estimators': 12, 'max_depth': 6, 'min_samples_split': 2, 'min_samples_leaf': 4}. Best is trial 9 with value: 0.9428571428571427.\u001b[0m\n"
     ]
    },
    {
     "name": "stdout",
     "output_type": "stream",
     "text": [
      "[0.91428571 0.88571429 0.97142857]\n",
      "[0.91428571 0.88571429 0.97142857]\n"
     ]
    },
    {
     "name": "stderr",
     "output_type": "stream",
     "text": [
      "\u001b[32m[I 2022-02-12 19:31:32,370]\u001b[0m Trial 23 finished with value: 0.9238095238095237 and parameters: {'max_features': 'auto', 'n_estimators': 51, 'max_depth': 3, 'min_samples_split': 6, 'min_samples_leaf': 3}. Best is trial 9 with value: 0.9428571428571427.\u001b[0m\n",
      "\u001b[32m[I 2022-02-12 19:31:32,524]\u001b[0m Trial 24 finished with value: 0.9238095238095237 and parameters: {'max_features': 'auto', 'n_estimators': 37, 'max_depth': 3, 'min_samples_split': 6, 'min_samples_leaf': 3}. Best is trial 9 with value: 0.9428571428571427.\u001b[0m\n"
     ]
    },
    {
     "name": "stdout",
     "output_type": "stream",
     "text": [
      "[0.91428571 0.88571429 0.97142857]\n",
      "[0.91428571 0.88571429 0.97142857]\n"
     ]
    },
    {
     "name": "stderr",
     "output_type": "stream",
     "text": [
      "\u001b[32m[I 2022-02-12 19:31:32,645]\u001b[0m Trial 25 finished with value: 0.9238095238095237 and parameters: {'max_features': 'sqrt', 'n_estimators': 23, 'max_depth': 2, 'min_samples_split': 5, 'min_samples_leaf': 3}. Best is trial 9 with value: 0.9428571428571427.\u001b[0m\n"
     ]
    },
    {
     "name": "stdout",
     "output_type": "stream",
     "text": [
      "[0.91428571 0.88571429 0.97142857]\n"
     ]
    },
    {
     "name": "stderr",
     "output_type": "stream",
     "text": [
      "\u001b[32m[I 2022-02-12 19:31:32,905]\u001b[0m Trial 26 finished with value: 0.9238095238095237 and parameters: {'max_features': 'auto', 'n_estimators': 67, 'max_depth': 5, 'min_samples_split': 4, 'min_samples_leaf': 2}. Best is trial 9 with value: 0.9428571428571427.\u001b[0m\n"
     ]
    },
    {
     "name": "stdout",
     "output_type": "stream",
     "text": [
      "[0.91428571 0.88571429 0.97142857]\n"
     ]
    },
    {
     "name": "stderr",
     "output_type": "stream",
     "text": [
      "\u001b[32m[I 2022-02-12 19:31:33,201]\u001b[0m Trial 27 finished with value: 0.9238095238095237 and parameters: {'max_features': 'auto', 'n_estimators': 81, 'max_depth': 4, 'min_samples_split': 10, 'min_samples_leaf': 3}. Best is trial 9 with value: 0.9428571428571427.\u001b[0m\n"
     ]
    },
    {
     "name": "stdout",
     "output_type": "stream",
     "text": [
      "[0.91428571 0.88571429 0.97142857]\n"
     ]
    },
    {
     "name": "stderr",
     "output_type": "stream",
     "text": [
      "\u001b[32m[I 2022-02-12 19:31:33,434]\u001b[0m Trial 28 finished with value: 0.9238095238095237 and parameters: {'max_features': 'auto', 'n_estimators': 57, 'max_depth': 3, 'min_samples_split': 9, 'min_samples_leaf': 2}. Best is trial 9 with value: 0.9428571428571427.\u001b[0m\n",
      "\u001b[32m[I 2022-02-12 19:31:33,635]\u001b[0m Trial 29 finished with value: 0.9238095238095237 and parameters: {'max_features': 'sqrt', 'n_estimators': 55, 'max_depth': 7, 'min_samples_split': 9, 'min_samples_leaf': 1}. Best is trial 9 with value: 0.9428571428571427.\u001b[0m\n"
     ]
    },
    {
     "name": "stdout",
     "output_type": "stream",
     "text": [
      "[0.91428571 0.88571429 0.97142857]\n",
      "[0.91428571 0.88571429 0.97142857]\n"
     ]
    },
    {
     "name": "stderr",
     "output_type": "stream",
     "text": [
      "\u001b[32m[I 2022-02-12 19:31:33,752]\u001b[0m Trial 30 finished with value: 0.9333333333333332 and parameters: {'max_features': 'sqrt', 'n_estimators': 18, 'max_depth': 7, 'min_samples_split': 8, 'min_samples_leaf': 1}. Best is trial 9 with value: 0.9428571428571427.\u001b[0m\n",
      "\u001b[32m[I 2022-02-12 19:31:33,832]\u001b[0m Trial 31 finished with value: 0.9333333333333332 and parameters: {'max_features': 'sqrt', 'n_estimators': 14, 'max_depth': 7, 'min_samples_split': 8, 'min_samples_leaf': 1}. Best is trial 9 with value: 0.9428571428571427.\u001b[0m\n",
      "\u001b[32m[I 2022-02-12 19:31:33,941]\u001b[0m Trial 32 finished with value: 0.9333333333333332 and parameters: {'max_features': 'sqrt', 'n_estimators': 19, 'max_depth': 8, 'min_samples_split': 7, 'min_samples_leaf': 1}. Best is trial 9 with value: 0.9428571428571427.\u001b[0m\n"
     ]
    },
    {
     "name": "stdout",
     "output_type": "stream",
     "text": [
      "[0.97142857 0.88571429 0.94285714]\n",
      "[0.94285714 0.88571429 0.97142857]\n",
      "[0.94285714 0.88571429 0.97142857]\n"
     ]
    },
    {
     "name": "stderr",
     "output_type": "stream",
     "text": [
      "\u001b[32m[I 2022-02-12 19:31:34,055]\u001b[0m Trial 33 finished with value: 0.9333333333333332 and parameters: {'max_features': 'sqrt', 'n_estimators': 18, 'max_depth': 8, 'min_samples_split': 7, 'min_samples_leaf': 1}. Best is trial 9 with value: 0.9428571428571427.\u001b[0m\n",
      "\u001b[32m[I 2022-02-12 19:31:34,153]\u001b[0m Trial 34 finished with value: 0.9238095238095237 and parameters: {'max_features': 'sqrt', 'n_estimators': 14, 'max_depth': 8, 'min_samples_split': 8, 'min_samples_leaf': 1}. Best is trial 9 with value: 0.9428571428571427.\u001b[0m\n"
     ]
    },
    {
     "name": "stdout",
     "output_type": "stream",
     "text": [
      "[0.94285714 0.88571429 0.97142857]\n",
      "[0.91428571 0.88571429 0.97142857]\n"
     ]
    },
    {
     "name": "stderr",
     "output_type": "stream",
     "text": [
      "\u001b[32m[I 2022-02-12 19:31:34,275]\u001b[0m Trial 35 finished with value: 0.9523809523809524 and parameters: {'max_features': 'sqrt', 'n_estimators': 18, 'max_depth': 10, 'min_samples_split': 6, 'min_samples_leaf': 1}. Best is trial 35 with value: 0.9523809523809524.\u001b[0m\n",
      "\u001b[32m[I 2022-02-12 19:31:34,406]\u001b[0m Trial 36 finished with value: 0.9238095238095237 and parameters: {'max_features': 'sqrt', 'n_estimators': 27, 'max_depth': 10, 'min_samples_split': 7, 'min_samples_leaf': 1}. Best is trial 35 with value: 0.9523809523809524.\u001b[0m\n"
     ]
    },
    {
     "name": "stdout",
     "output_type": "stream",
     "text": [
      "[0.94285714 0.94285714 0.97142857]\n",
      "[0.91428571 0.88571429 0.97142857]\n"
     ]
    },
    {
     "name": "stderr",
     "output_type": "stream",
     "text": [
      "\u001b[32m[I 2022-02-12 19:31:34,499]\u001b[0m Trial 37 finished with value: 0.9238095238095237 and parameters: {'max_features': 'sqrt', 'n_estimators': 19, 'max_depth': 9, 'min_samples_split': 7, 'min_samples_leaf': 1}. Best is trial 35 with value: 0.9523809523809524.\u001b[0m\n",
      "\u001b[32m[I 2022-02-12 19:31:34,591]\u001b[0m Trial 38 finished with value: 0.9142857142857143 and parameters: {'max_features': 'sqrt', 'n_estimators': 16, 'max_depth': 9, 'min_samples_split': 3, 'min_samples_leaf': 1}. Best is trial 35 with value: 0.9523809523809524.\u001b[0m\n",
      "\u001b[32m[I 2022-02-12 19:31:34,663]\u001b[0m Trial 39 finished with value: 0.9238095238095237 and parameters: {'max_features': 'sqrt', 'n_estimators': 14, 'max_depth': 9, 'min_samples_split': 9, 'min_samples_leaf': 1}. Best is trial 35 with value: 0.9523809523809524.\u001b[0m\n"
     ]
    },
    {
     "name": "stdout",
     "output_type": "stream",
     "text": [
      "[0.91428571 0.88571429 0.97142857]\n",
      "[0.91428571 0.88571429 0.94285714]\n",
      "[0.91428571 0.91428571 0.94285714]\n"
     ]
    },
    {
     "name": "stderr",
     "output_type": "stream",
     "text": [
      "\u001b[32m[I 2022-02-12 19:31:34,758]\u001b[0m Trial 40 finished with value: 0.9238095238095237 and parameters: {'max_features': 'sqrt', 'n_estimators': 20, 'max_depth': 8, 'min_samples_split': 6, 'min_samples_leaf': 1}. Best is trial 35 with value: 0.9523809523809524.\u001b[0m\n",
      "\u001b[32m[I 2022-02-12 19:31:34,823]\u001b[0m Trial 41 finished with value: 0.9142857142857143 and parameters: {'max_features': 'sqrt', 'n_estimators': 12, 'max_depth': 8, 'min_samples_split': 8, 'min_samples_leaf': 1}. Best is trial 35 with value: 0.9523809523809524.\u001b[0m\n",
      "\u001b[32m[I 2022-02-12 19:31:34,903]\u001b[0m Trial 42 finished with value: 0.9142857142857143 and parameters: {'max_features': 'sqrt', 'n_estimators': 17, 'max_depth': 7, 'min_samples_split': 8, 'min_samples_leaf': 1}. Best is trial 35 with value: 0.9523809523809524.\u001b[0m\n"
     ]
    },
    {
     "name": "stdout",
     "output_type": "stream",
     "text": [
      "[0.94285714 0.88571429 0.94285714]\n",
      "[0.91428571 0.88571429 0.94285714]\n",
      "[0.91428571 0.88571429 0.94285714]\n"
     ]
    },
    {
     "name": "stderr",
     "output_type": "stream",
     "text": [
      "\u001b[32m[I 2022-02-12 19:31:34,981]\u001b[0m Trial 43 finished with value: 0.9333333333333332 and parameters: {'max_features': 'sqrt', 'n_estimators': 15, 'max_depth': 10, 'min_samples_split': 7, 'min_samples_leaf': 1}. Best is trial 35 with value: 0.9523809523809524.\u001b[0m\n",
      "\u001b[32m[I 2022-02-12 19:31:35,055]\u001b[0m Trial 44 finished with value: 0.9333333333333332 and parameters: {'max_features': 'sqrt', 'n_estimators': 15, 'max_depth': 10, 'min_samples_split': 9, 'min_samples_leaf': 1}. Best is trial 35 with value: 0.9523809523809524.\u001b[0m\n",
      "\u001b[32m[I 2022-02-12 19:31:35,117]\u001b[0m Trial 45 finished with value: 0.9333333333333332 and parameters: {'max_features': 'sqrt', 'n_estimators': 11, 'max_depth': 7, 'min_samples_split': 9, 'min_samples_leaf': 1}. Best is trial 35 with value: 0.9523809523809524.\u001b[0m\n"
     ]
    },
    {
     "name": "stdout",
     "output_type": "stream",
     "text": [
      "[0.91428571 0.91428571 0.97142857]\n",
      "[0.94285714 0.88571429 0.97142857]\n",
      "[0.97142857 0.88571429 0.94285714]\n"
     ]
    },
    {
     "name": "stderr",
     "output_type": "stream",
     "text": [
      "\u001b[32m[I 2022-02-12 19:31:35,187]\u001b[0m Trial 46 finished with value: 0.9333333333333332 and parameters: {'max_features': 'sqrt', 'n_estimators': 13, 'max_depth': 7, 'min_samples_split': 10, 'min_samples_leaf': 1}. Best is trial 35 with value: 0.9523809523809524.\u001b[0m\n",
      "\u001b[32m[I 2022-02-12 19:31:35,259]\u001b[0m Trial 47 finished with value: 0.9333333333333332 and parameters: {'max_features': 'sqrt', 'n_estimators': 13, 'max_depth': 6, 'min_samples_split': 8, 'min_samples_leaf': 2}. Best is trial 35 with value: 0.9523809523809524.\u001b[0m\n",
      "\u001b[32m[I 2022-02-12 19:31:35,319]\u001b[0m Trial 48 finished with value: 0.9142857142857143 and parameters: {'max_features': 'sqrt', 'n_estimators': 11, 'max_depth': 6, 'min_samples_split': 8, 'min_samples_leaf': 2}. Best is trial 35 with value: 0.9523809523809524.\u001b[0m\n",
      "\u001b[32m[I 2022-02-12 19:31:35,386]\u001b[0m Trial 49 finished with value: 0.9142857142857143 and parameters: {'max_features': 'sqrt', 'n_estimators': 11, 'max_depth': 9, 'min_samples_split': 10, 'min_samples_leaf': 1}. Best is trial 35 with value: 0.9523809523809524.\u001b[0m\n"
     ]
    },
    {
     "name": "stdout",
     "output_type": "stream",
     "text": [
      "[0.94285714 0.88571429 0.97142857]\n",
      "[0.94285714 0.88571429 0.97142857]\n",
      "[0.91428571 0.88571429 0.94285714]\n",
      "[0.91428571 0.88571429 0.94285714]\n",
      "FrozenTrial(number=35, values=[0.9523809523809524], datetime_start=datetime.datetime(2022, 2, 12, 19, 31, 34, 154229), datetime_complete=datetime.datetime(2022, 2, 12, 19, 31, 34, 274484), params={'max_features': 'sqrt', 'n_estimators': 18, 'max_depth': 10, 'min_samples_split': 6, 'min_samples_leaf': 1}, distributions={'max_features': CategoricalDistribution(choices=('auto', 'sqrt')), 'n_estimators': IntLogUniformDistribution(high=100, low=10, step=1), 'max_depth': IntLogUniformDistribution(high=10, low=2, step=1), 'min_samples_split': IntLogUniformDistribution(high=10, low=2, step=1), 'min_samples_leaf': IntLogUniformDistribution(high=4, low=1, step=1)}, user_attrs={}, system_attrs={}, intermediate_values={}, trial_id=35, state=TrialState.COMPLETE, value=None)\n"
     ]
    }
   ],
   "source": [
    "study = optuna.create_study(direction = \"maximize\")\n",
    "study.optimize(objective, n_trials = 50)\n",
    "print(study.best_trial)"
   ]
  },
  {
   "cell_type": "code",
   "execution_count": 40,
   "id": "a6e7cc7e",
   "metadata": {},
   "outputs": [
    {
     "data": {
      "text/plain": [
       "{'max_features': 'sqrt',\n",
       " 'n_estimators': 18,\n",
       " 'max_depth': 10,\n",
       " 'min_samples_split': 6,\n",
       " 'min_samples_leaf': 1}"
      ]
     },
     "execution_count": 40,
     "metadata": {},
     "output_type": "execute_result"
    }
   ],
   "source": [
    "study.best_params"
   ]
  },
  {
   "cell_type": "code",
   "execution_count": 41,
   "id": "f7e62f79",
   "metadata": {},
   "outputs": [
    {
     "data": {
      "text/plain": [
       "0.9523809523809524"
      ]
     },
     "execution_count": 41,
     "metadata": {},
     "output_type": "execute_result"
    }
   ],
   "source": [
    "study.best_value"
   ]
  },
  {
   "cell_type": "code",
   "execution_count": null,
   "id": "7f0a754b",
   "metadata": {},
   "outputs": [],
   "source": [
    "study."
   ]
  },
  {
   "cell_type": "code",
   "execution_count": null,
   "id": "3be9b269",
   "metadata": {},
   "outputs": [],
   "source": []
  },
  {
   "cell_type": "code",
   "execution_count": null,
   "id": "4f0e17a8",
   "metadata": {},
   "outputs": [],
   "source": []
  }
 ],
 "metadata": {
  "kernelspec": {
   "display_name": "Python 3",
   "language": "python",
   "name": "python3"
  },
  "language_info": {
   "codemirror_mode": {
    "name": "ipython",
    "version": 3
   },
   "file_extension": ".py",
   "mimetype": "text/x-python",
   "name": "python",
   "nbconvert_exporter": "python",
   "pygments_lexer": "ipython3",
   "version": "3.8.8"
  }
 },
 "nbformat": 4,
 "nbformat_minor": 5
}
