{
 "cells": [
  {
   "cell_type": "code",
   "execution_count": 60,
   "id": "50a5284f",
   "metadata": {},
   "outputs": [],
   "source": [
    "import optuna"
   ]
  },
  {
   "cell_type": "code",
   "execution_count": 61,
   "id": "4509108d",
   "metadata": {},
   "outputs": [],
   "source": [
    "from xgboost import XGBClassifier"
   ]
  },
  {
   "cell_type": "code",
   "execution_count": 62,
   "id": "6ed8b779",
   "metadata": {},
   "outputs": [],
   "source": [
    "from sklearn.model_selection import KFold, cross_val_score"
   ]
  },
  {
   "cell_type": "code",
   "execution_count": 63,
   "id": "92d65071",
   "metadata": {},
   "outputs": [],
   "source": [
    "from sklearn.datasets import load_iris"
   ]
  },
  {
   "cell_type": "code",
   "execution_count": 64,
   "id": "255e3559",
   "metadata": {},
   "outputs": [],
   "source": [
    "iris = load_iris()"
   ]
  },
  {
   "cell_type": "code",
   "execution_count": 65,
   "id": "2b59fb67",
   "metadata": {},
   "outputs": [],
   "source": [
    "X = iris.data"
   ]
  },
  {
   "cell_type": "code",
   "execution_count": 66,
   "id": "c594c297",
   "metadata": {},
   "outputs": [],
   "source": [
    "y = iris.target"
   ]
  },
  {
   "cell_type": "code",
   "execution_count": 67,
   "id": "a1f02f2e",
   "metadata": {},
   "outputs": [
    {
     "data": {
      "text/plain": [
       "array([0, 0, 0, 0, 0, 0, 0, 0, 0, 0, 0, 0, 0, 0, 0, 0, 0, 0, 0, 0, 0, 0,\n",
       "       0, 0, 0, 0, 0, 0, 0, 0, 0, 0, 0, 0, 0, 0, 0, 0, 0, 0, 0, 0, 0, 0,\n",
       "       0, 0, 0, 0, 0, 0, 1, 1, 1, 1, 1, 1, 1, 1, 1, 1, 1, 1, 1, 1, 1, 1,\n",
       "       1, 1, 1, 1, 1, 1, 1, 1, 1, 1, 1, 1, 1, 1, 1, 1, 1, 1, 1, 1, 1, 1,\n",
       "       1, 1, 1, 1, 1, 1, 1, 1, 1, 1, 1, 1, 2, 2, 2, 2, 2, 2, 2, 2, 2, 2,\n",
       "       2, 2, 2, 2, 2, 2, 2, 2, 2, 2, 2, 2, 2, 2, 2, 2, 2, 2, 2, 2, 2, 2,\n",
       "       2, 2, 2, 2, 2, 2, 2, 2, 2, 2, 2, 2, 2, 2, 2, 2, 2, 2])"
      ]
     },
     "execution_count": 67,
     "metadata": {},
     "output_type": "execute_result"
    }
   ],
   "source": [
    "y"
   ]
  },
  {
   "cell_type": "code",
   "execution_count": 68,
   "id": "e2ec37f7",
   "metadata": {},
   "outputs": [],
   "source": [
    "from sklearn.model_selection import train_test_split"
   ]
  },
  {
   "cell_type": "code",
   "execution_count": 69,
   "id": "1756123c",
   "metadata": {},
   "outputs": [],
   "source": [
    "X_train, X_test, y_train, y_test = train_test_split(X, y, test_size = 0.3, random_state = 14)"
   ]
  },
  {
   "cell_type": "code",
   "execution_count": 70,
   "id": "59344fd8",
   "metadata": {},
   "outputs": [],
   "source": [
    "def objective(trail):\n",
    "    n_estimators_param = trail.suggest_int('n_estimators', 10, 100, log=True)\n",
    "    max_depth_param = trail.suggest_int(\"max_depth\", 3, 10, log=True)\n",
    "    min_child_weight_param = trail.suggest_int(\"min_child_weight\", 1, 7, log=True)\n",
    "    gamma_param = trail.suggest_float('gamma', 0.1, 0.4, log=True)\n",
    "    colsample_bytree_param = trail.suggest_float('colsample_bytree', 0.3, 0.7, log=True)\n",
    "    \n",
    "    model = XGBClassifier(n_estimators=n_estimators_param, max_depth=max_depth_param,min_child_weight=min_child_weight_param,\n",
    "                                  gamma=gamma_param, colsample_bytree=colsample_bytree_param)\n",
    "    \n",
    "    score = cross_val_score(model, X_train, y_train, n_jobs = -1, cv = 3)\n",
    "    print(score)\n",
    "    accuracy = score.mean()\n",
    "    return accuracy"
   ]
  },
  {
   "cell_type": "code",
   "execution_count": 71,
   "id": "255c69be",
   "metadata": {},
   "outputs": [
    {
     "name": "stderr",
     "output_type": "stream",
     "text": [
      "\u001b[32m[I 2022-02-12 19:40:58,058]\u001b[0m A new study created in memory with name: no-name-971bf9ed-7200-4ead-af8d-8428bc66c908\u001b[0m\n",
      "\u001b[32m[I 2022-02-12 19:41:01,690]\u001b[0m Trial 0 finished with value: 0.9333333333333332 and parameters: {'n_estimators': 14, 'max_depth': 6, 'min_child_weight': 6, 'gamma': 0.2601728130485652, 'colsample_bytree': 0.44518915936612374}. Best is trial 0 with value: 0.9333333333333332.\u001b[0m\n"
     ]
    },
    {
     "name": "stdout",
     "output_type": "stream",
     "text": [
      "[0.94285714 0.88571429 0.97142857]\n"
     ]
    },
    {
     "name": "stderr",
     "output_type": "stream",
     "text": [
      "\u001b[32m[I 2022-02-12 19:41:02,894]\u001b[0m Trial 1 finished with value: 0.9428571428571427 and parameters: {'n_estimators': 11, 'max_depth': 4, 'min_child_weight': 5, 'gamma': 0.16414967977009298, 'colsample_bytree': 0.38585581099271793}. Best is trial 1 with value: 0.9428571428571427.\u001b[0m\n"
     ]
    },
    {
     "name": "stdout",
     "output_type": "stream",
     "text": [
      "[0.94285714 0.88571429 1.        ]\n"
     ]
    },
    {
     "name": "stderr",
     "output_type": "stream",
     "text": [
      "\u001b[32m[I 2022-02-12 19:41:03,103]\u001b[0m Trial 2 finished with value: 0.9333333333333332 and parameters: {'n_estimators': 47, 'max_depth': 5, 'min_child_weight': 2, 'gamma': 0.24753483163197781, 'colsample_bytree': 0.38491322848209925}. Best is trial 1 with value: 0.9428571428571427.\u001b[0m\n",
      "\u001b[32m[I 2022-02-12 19:41:03,213]\u001b[0m Trial 3 finished with value: 0.9142857142857143 and parameters: {'n_estimators': 22, 'max_depth': 8, 'min_child_weight': 3, 'gamma': 0.2522120723780178, 'colsample_bytree': 0.6726146214193998}. Best is trial 1 with value: 0.9428571428571427.\u001b[0m\n"
     ]
    },
    {
     "name": "stdout",
     "output_type": "stream",
     "text": [
      "[0.94285714 0.88571429 0.97142857]\n",
      "[0.91428571 0.88571429 0.94285714]\n"
     ]
    },
    {
     "name": "stderr",
     "output_type": "stream",
     "text": [
      "\u001b[32m[I 2022-02-12 19:41:03,312]\u001b[0m Trial 4 finished with value: 0.9333333333333332 and parameters: {'n_estimators': 20, 'max_depth': 9, 'min_child_weight': 4, 'gamma': 0.14139641704736025, 'colsample_bytree': 0.38138643847428066}. Best is trial 1 with value: 0.9428571428571427.\u001b[0m\n",
      "\u001b[32m[I 2022-02-12 19:41:03,425]\u001b[0m Trial 5 finished with value: 0.9333333333333332 and parameters: {'n_estimators': 21, 'max_depth': 3, 'min_child_weight': 3, 'gamma': 0.3453906517853927, 'colsample_bytree': 0.38860148249125986}. Best is trial 1 with value: 0.9428571428571427.\u001b[0m\n"
     ]
    },
    {
     "name": "stdout",
     "output_type": "stream",
     "text": [
      "[0.94285714 0.88571429 0.97142857]\n",
      "[0.94285714 0.88571429 0.97142857]\n"
     ]
    },
    {
     "name": "stderr",
     "output_type": "stream",
     "text": [
      "\u001b[32m[I 2022-02-12 19:41:03,593]\u001b[0m Trial 6 finished with value: 0.9333333333333332 and parameters: {'n_estimators': 46, 'max_depth': 3, 'min_child_weight': 5, 'gamma': 0.22175144660987733, 'colsample_bytree': 0.33209518390915793}. Best is trial 1 with value: 0.9428571428571427.\u001b[0m\n"
     ]
    },
    {
     "name": "stdout",
     "output_type": "stream",
     "text": [
      "[0.94285714 0.88571429 0.97142857]\n"
     ]
    },
    {
     "name": "stderr",
     "output_type": "stream",
     "text": [
      "\u001b[32m[I 2022-02-12 19:41:03,825]\u001b[0m Trial 7 finished with value: 0.9142857142857143 and parameters: {'n_estimators': 52, 'max_depth': 3, 'min_child_weight': 1, 'gamma': 0.3296493485861354, 'colsample_bytree': 0.570919376205202}. Best is trial 1 with value: 0.9428571428571427.\u001b[0m\n",
      "\u001b[32m[I 2022-02-12 19:41:03,928]\u001b[0m Trial 8 finished with value: 0.9142857142857143 and parameters: {'n_estimators': 14, 'max_depth': 8, 'min_child_weight': 1, 'gamma': 0.31961319284135464, 'colsample_bytree': 0.561297414010491}. Best is trial 1 with value: 0.9428571428571427.\u001b[0m\n"
     ]
    },
    {
     "name": "stdout",
     "output_type": "stream",
     "text": [
      "[0.91428571 0.88571429 0.94285714]\n",
      "[0.91428571 0.88571429 0.94285714]\n"
     ]
    },
    {
     "name": "stderr",
     "output_type": "stream",
     "text": [
      "\u001b[32m[I 2022-02-12 19:41:04,154]\u001b[0m Trial 9 finished with value: 0.9333333333333332 and parameters: {'n_estimators': 55, 'max_depth': 6, 'min_child_weight': 2, 'gamma': 0.12940068256411433, 'colsample_bytree': 0.37602361094786996}. Best is trial 1 with value: 0.9428571428571427.\u001b[0m\n"
     ]
    },
    {
     "name": "stdout",
     "output_type": "stream",
     "text": [
      "[0.94285714 0.88571429 0.97142857]\n"
     ]
    },
    {
     "name": "stderr",
     "output_type": "stream",
     "text": [
      "\u001b[32m[I 2022-02-12 19:41:04,435]\u001b[0m Trial 10 finished with value: 0.9238095238095237 and parameters: {'n_estimators': 95, 'max_depth': 4, 'min_child_weight': 7, 'gamma': 0.16039823987438934, 'colsample_bytree': 0.3011346939106311}. Best is trial 1 with value: 0.9428571428571427.\u001b[0m\n",
      "\u001b[32m[I 2022-02-12 19:41:04,529]\u001b[0m Trial 11 finished with value: 0.9238095238095237 and parameters: {'n_estimators': 10, 'max_depth': 5, 'min_child_weight': 7, 'gamma': 0.1794094608105761, 'colsample_bytree': 0.46404783642186087}. Best is trial 1 with value: 0.9428571428571427.\u001b[0m\n"
     ]
    },
    {
     "name": "stdout",
     "output_type": "stream",
     "text": [
      "[0.91428571 0.88571429 0.97142857]\n",
      "[0.91428571 0.88571429 0.97142857]\n"
     ]
    },
    {
     "name": "stderr",
     "output_type": "stream",
     "text": [
      "\u001b[32m[I 2022-02-12 19:41:04,641]\u001b[0m Trial 12 finished with value: 0.9333333333333332 and parameters: {'n_estimators': 10, 'max_depth': 4, 'min_child_weight': 5, 'gamma': 0.10199258657695892, 'colsample_bytree': 0.45301782050448336}. Best is trial 1 with value: 0.9428571428571427.\u001b[0m\n",
      "\u001b[32m[I 2022-02-12 19:41:04,770]\u001b[0m Trial 13 finished with value: 0.9333333333333332 and parameters: {'n_estimators': 14, 'max_depth': 6, 'min_child_weight': 3, 'gamma': 0.19428384135754917, 'colsample_bytree': 0.46884260330217503}. Best is trial 1 with value: 0.9428571428571427.\u001b[0m\n"
     ]
    },
    {
     "name": "stdout",
     "output_type": "stream",
     "text": [
      "[0.94285714 0.88571429 0.97142857]\n",
      "[0.94285714 0.88571429 0.97142857]\n"
     ]
    },
    {
     "name": "stderr",
     "output_type": "stream",
     "text": [
      "\u001b[32m[I 2022-02-12 19:41:04,899]\u001b[0m Trial 14 finished with value: 0.9333333333333332 and parameters: {'n_estimators': 14, 'max_depth': 4, 'min_child_weight': 5, 'gamma': 0.2739072039452799, 'colsample_bytree': 0.42265143318421877}. Best is trial 1 with value: 0.9428571428571427.\u001b[0m\n",
      "\u001b[32m[I 2022-02-12 19:41:05,041]\u001b[0m Trial 15 finished with value: 0.9238095238095237 and parameters: {'n_estimators': 32, 'max_depth': 6, 'min_child_weight': 7, 'gamma': 0.2056860438776016, 'colsample_bytree': 0.5145199528629556}. Best is trial 1 with value: 0.9428571428571427.\u001b[0m\n"
     ]
    },
    {
     "name": "stdout",
     "output_type": "stream",
     "text": [
      "[0.94285714 0.88571429 0.97142857]\n",
      "[0.91428571 0.88571429 0.97142857]\n"
     ]
    },
    {
     "name": "stderr",
     "output_type": "stream",
     "text": [
      "\u001b[32m[I 2022-02-12 19:41:05,183]\u001b[0m Trial 16 finished with value: 0.9428571428571427 and parameters: {'n_estimators': 17, 'max_depth': 7, 'min_child_weight': 4, 'gamma': 0.11312521641788069, 'colsample_bytree': 0.3424016785947524}. Best is trial 1 with value: 0.9428571428571427.\u001b[0m\n",
      "\u001b[32m[I 2022-02-12 19:41:05,332]\u001b[0m Trial 17 finished with value: 0.9333333333333332 and parameters: {'n_estimators': 29, 'max_depth': 10, 'min_child_weight': 4, 'gamma': 0.10011146535999678, 'colsample_bytree': 0.3322545017017587}. Best is trial 1 with value: 0.9428571428571427.\u001b[0m\n"
     ]
    },
    {
     "name": "stdout",
     "output_type": "stream",
     "text": [
      "[0.94285714 0.88571429 1.        ]\n",
      "[0.94285714 0.88571429 0.97142857]\n"
     ]
    },
    {
     "name": "stderr",
     "output_type": "stream",
     "text": [
      "\u001b[32m[I 2022-02-12 19:41:05,479]\u001b[0m Trial 18 finished with value: 0.9333333333333332 and parameters: {'n_estimators': 18, 'max_depth': 7, 'min_child_weight': 3, 'gamma': 0.12259875353004125, 'colsample_bytree': 0.3287035616131918}. Best is trial 1 with value: 0.9428571428571427.\u001b[0m\n",
      "\u001b[32m[I 2022-02-12 19:41:05,647]\u001b[0m Trial 19 finished with value: 0.9333333333333332 and parameters: {'n_estimators': 28, 'max_depth': 4, 'min_child_weight': 2, 'gamma': 0.15508804636302412, 'colsample_bytree': 0.3631194700701279}. Best is trial 1 with value: 0.9428571428571427.\u001b[0m\n"
     ]
    },
    {
     "name": "stdout",
     "output_type": "stream",
     "text": [
      "[0.94285714 0.88571429 0.97142857]\n",
      "[0.94285714 0.88571429 0.97142857]\n"
     ]
    },
    {
     "name": "stderr",
     "output_type": "stream",
     "text": [
      "\u001b[32m[I 2022-02-12 19:41:05,762]\u001b[0m Trial 20 finished with value: 0.9428571428571427 and parameters: {'n_estimators': 11, 'max_depth': 7, 'min_child_weight': 4, 'gamma': 0.12491561509683309, 'colsample_bytree': 0.41310953703489584}. Best is trial 1 with value: 0.9428571428571427.\u001b[0m\n",
      "\u001b[32m[I 2022-02-12 19:41:05,875]\u001b[0m Trial 21 finished with value: 0.9428571428571427 and parameters: {'n_estimators': 11, 'max_depth': 7, 'min_child_weight': 4, 'gamma': 0.12239089355324398, 'colsample_bytree': 0.4216329596529008}. Best is trial 1 with value: 0.9428571428571427.\u001b[0m\n"
     ]
    },
    {
     "name": "stdout",
     "output_type": "stream",
     "text": [
      "[0.94285714 0.88571429 1.        ]\n",
      "[0.94285714 0.88571429 1.        ]\n"
     ]
    },
    {
     "name": "stderr",
     "output_type": "stream",
     "text": [
      "\u001b[32m[I 2022-02-12 19:41:06,024]\u001b[0m Trial 22 finished with value: 0.9333333333333332 and parameters: {'n_estimators': 12, 'max_depth': 7, 'min_child_weight': 4, 'gamma': 0.11210365745671186, 'colsample_bytree': 0.3514387327927206}. Best is trial 1 with value: 0.9428571428571427.\u001b[0m\n",
      "\u001b[32m[I 2022-02-12 19:41:06,142]\u001b[0m Trial 23 finished with value: 0.9333333333333332 and parameters: {'n_estimators': 18, 'max_depth': 5, 'min_child_weight': 5, 'gamma': 0.15244445675323998, 'colsample_bytree': 0.3028827231654845}. Best is trial 1 with value: 0.9428571428571427.\u001b[0m\n"
     ]
    },
    {
     "name": "stdout",
     "output_type": "stream",
     "text": [
      "[0.94285714 0.88571429 0.97142857]\n",
      "[0.94285714 0.88571429 0.97142857]\n"
     ]
    },
    {
     "name": "stderr",
     "output_type": "stream",
     "text": [
      "\u001b[32m[I 2022-02-12 19:41:06,252]\u001b[0m Trial 24 finished with value: 0.9428571428571427 and parameters: {'n_estimators': 11, 'max_depth': 8, 'min_child_weight': 3, 'gamma': 0.13501485381604345, 'colsample_bytree': 0.41173791480098837}. Best is trial 1 with value: 0.9428571428571427.\u001b[0m\n",
      "\u001b[32m[I 2022-02-12 19:41:06,367]\u001b[0m Trial 25 finished with value: 0.9333333333333332 and parameters: {'n_estimators': 13, 'max_depth': 10, 'min_child_weight': 3, 'gamma': 0.17385358060218006, 'colsample_bytree': 0.4155026234251747}. Best is trial 1 with value: 0.9428571428571427.\u001b[0m\n"
     ]
    },
    {
     "name": "stdout",
     "output_type": "stream",
     "text": [
      "[0.94285714 0.88571429 1.        ]\n",
      "[0.94285714 0.88571429 0.97142857]\n"
     ]
    },
    {
     "name": "stderr",
     "output_type": "stream",
     "text": [
      "\u001b[32m[I 2022-02-12 19:41:06,465]\u001b[0m Trial 26 finished with value: 0.9238095238095237 and parameters: {'n_estimators': 10, 'max_depth': 7, 'min_child_weight': 6, 'gamma': 0.11715994143421857, 'colsample_bytree': 0.49995722269608217}. Best is trial 1 with value: 0.9428571428571427.\u001b[0m\n",
      "\u001b[32m[I 2022-02-12 19:41:06,600]\u001b[0m Trial 27 finished with value: 0.9238095238095237 and parameters: {'n_estimators': 16, 'max_depth': 8, 'min_child_weight': 2, 'gamma': 0.13719071440986916, 'colsample_bytree': 0.4191924484201379}. Best is trial 1 with value: 0.9428571428571427.\u001b[0m\n"
     ]
    },
    {
     "name": "stdout",
     "output_type": "stream",
     "text": [
      "[0.91428571 0.88571429 0.97142857]\n",
      "[0.94285714 0.85714286 0.97142857]\n"
     ]
    },
    {
     "name": "stderr",
     "output_type": "stream",
     "text": [
      "\u001b[32m[I 2022-02-12 19:41:06,759]\u001b[0m Trial 28 finished with value: 0.9333333333333332 and parameters: {'n_estimators': 24, 'max_depth': 9, 'min_child_weight': 3, 'gamma': 0.14179352787346966, 'colsample_bytree': 0.49912145720413387}. Best is trial 1 with value: 0.9428571428571427.\u001b[0m\n",
      "\u001b[32m[I 2022-02-12 19:41:06,862]\u001b[0m Trial 29 finished with value: 0.9333333333333332 and parameters: {'n_estimators': 12, 'max_depth': 9, 'min_child_weight': 6, 'gamma': 0.16872469792085648, 'colsample_bytree': 0.4441872899620182}. Best is trial 1 with value: 0.9428571428571427.\u001b[0m\n"
     ]
    },
    {
     "name": "stdout",
     "output_type": "stream",
     "text": [
      "[0.94285714 0.88571429 0.97142857]\n",
      "[0.94285714 0.88571429 0.97142857]\n"
     ]
    },
    {
     "name": "stderr",
     "output_type": "stream",
     "text": [
      "\u001b[32m[I 2022-02-12 19:41:06,997]\u001b[0m Trial 30 finished with value: 0.9333333333333332 and parameters: {'n_estimators': 16, 'max_depth': 8, 'min_child_weight': 5, 'gamma': 0.18459040446628178, 'colsample_bytree': 0.40288917084183523}. Best is trial 1 with value: 0.9428571428571427.\u001b[0m\n",
      "\u001b[32m[I 2022-02-12 19:41:07,126]\u001b[0m Trial 31 finished with value: 0.9428571428571427 and parameters: {'n_estimators': 11, 'max_depth': 7, 'min_child_weight': 4, 'gamma': 0.13012046918806366, 'colsample_bytree': 0.4324917463229399}. Best is trial 1 with value: 0.9428571428571427.\u001b[0m\n"
     ]
    },
    {
     "name": "stdout",
     "output_type": "stream",
     "text": [
      "[0.94285714 0.88571429 0.97142857]\n",
      "[0.94285714 0.88571429 1.        ]\n"
     ]
    },
    {
     "name": "stderr",
     "output_type": "stream",
     "text": [
      "\u001b[32m[I 2022-02-12 19:41:07,265]\u001b[0m Trial 32 finished with value: 0.9333333333333332 and parameters: {'n_estimators': 12, 'max_depth': 6, 'min_child_weight': 4, 'gamma': 0.1343761755848902, 'colsample_bytree': 0.4339771987326591}. Best is trial 1 with value: 0.9428571428571427.\u001b[0m\n",
      "\u001b[32m[I 2022-02-12 19:41:07,390]\u001b[0m Trial 33 finished with value: 0.9238095238095237 and parameters: {'n_estimators': 16, 'max_depth': 6, 'min_child_weight': 6, 'gamma': 0.11582381414472999, 'colsample_bytree': 0.35308030360294923}. Best is trial 1 with value: 0.9428571428571427.\u001b[0m\n"
     ]
    },
    {
     "name": "stdout",
     "output_type": "stream",
     "text": [
      "[0.94285714 0.88571429 0.97142857]\n",
      "[0.91428571 0.88571429 0.97142857]\n"
     ]
    },
    {
     "name": "stderr",
     "output_type": "stream",
     "text": [
      "\u001b[32m[I 2022-02-12 19:41:07,555]\u001b[0m Trial 34 finished with value: 0.9333333333333332 and parameters: {'n_estimators': 17, 'max_depth': 9, 'min_child_weight': 3, 'gamma': 0.11072970071401335, 'colsample_bytree': 0.3946021598959355}. Best is trial 1 with value: 0.9428571428571427.\u001b[0m\n",
      "\u001b[32m[I 2022-02-12 19:41:07,699]\u001b[0m Trial 35 finished with value: 0.9428571428571427 and parameters: {'n_estimators': 11, 'max_depth': 8, 'min_child_weight': 4, 'gamma': 0.15013950235975929, 'colsample_bytree': 0.37580233880417163}. Best is trial 1 with value: 0.9428571428571427.\u001b[0m\n"
     ]
    },
    {
     "name": "stdout",
     "output_type": "stream",
     "text": [
      "[0.94285714 0.88571429 0.97142857]\n",
      "[0.94285714 0.88571429 1.        ]\n"
     ]
    },
    {
     "name": "stderr",
     "output_type": "stream",
     "text": [
      "\u001b[32m[I 2022-02-12 19:41:07,862]\u001b[0m Trial 36 finished with value: 0.9142857142857143 and parameters: {'n_estimators': 11, 'max_depth': 8, 'min_child_weight': 4, 'gamma': 0.1456367039563866, 'colsample_bytree': 0.698101062464292}. Best is trial 1 with value: 0.9428571428571427.\u001b[0m\n",
      "\u001b[32m[I 2022-02-12 19:41:08,065]\u001b[0m Trial 37 finished with value: 0.9333333333333332 and parameters: {'n_estimators': 23, 'max_depth': 7, 'min_child_weight': 5, 'gamma': 0.10754161627299048, 'colsample_bytree': 0.33906357159528816}. Best is trial 1 with value: 0.9428571428571427.\u001b[0m\n"
     ]
    },
    {
     "name": "stdout",
     "output_type": "stream",
     "text": [
      "[0.91428571 0.88571429 0.94285714]\n",
      "[0.94285714 0.88571429 0.97142857]\n"
     ]
    },
    {
     "name": "stderr",
     "output_type": "stream",
     "text": [
      "\u001b[32m[I 2022-02-12 19:41:08,321]\u001b[0m Trial 38 finished with value: 0.9333333333333332 and parameters: {'n_estimators': 35, 'max_depth': 9, 'min_child_weight': 6, 'gamma': 0.23231206745469668, 'colsample_bytree': 0.37311927033931597}. Best is trial 1 with value: 0.9428571428571427.\u001b[0m\n",
      "\u001b[32m[I 2022-02-12 19:41:08,441]\u001b[0m Trial 39 finished with value: 0.9333333333333332 and parameters: {'n_estimators': 13, 'max_depth': 5, 'min_child_weight': 5, 'gamma': 0.1623869541603185, 'colsample_bytree': 0.38959689468538533}. Best is trial 1 with value: 0.9428571428571427.\u001b[0m\n"
     ]
    },
    {
     "name": "stdout",
     "output_type": "stream",
     "text": [
      "[0.94285714 0.88571429 0.97142857]\n",
      "[0.94285714 0.88571429 0.97142857]\n"
     ]
    },
    {
     "name": "stderr",
     "output_type": "stream",
     "text": [
      "\u001b[32m[I 2022-02-12 19:41:08,726]\u001b[0m Trial 40 finished with value: 0.9238095238095237 and parameters: {'n_estimators': 74, 'max_depth': 10, 'min_child_weight': 6, 'gamma': 0.12226510204803785, 'colsample_bytree': 0.36552000372754917}. Best is trial 1 with value: 0.9428571428571427.\u001b[0m\n",
      "\u001b[32m[I 2022-02-12 19:41:08,856]\u001b[0m Trial 41 finished with value: 0.9333333333333332 and parameters: {'n_estimators': 15, 'max_depth': 7, 'min_child_weight': 4, 'gamma': 0.12427120560375651, 'colsample_bytree': 0.3140991966345994}. Best is trial 1 with value: 0.9428571428571427.\u001b[0m\n"
     ]
    },
    {
     "name": "stdout",
     "output_type": "stream",
     "text": [
      "[0.94285714 0.88571429 0.94285714]\n",
      "[0.91428571 0.88571429 1.        ]\n"
     ]
    },
    {
     "name": "stderr",
     "output_type": "stream",
     "text": [
      "\u001b[32m[I 2022-02-12 19:41:08,997]\u001b[0m Trial 42 finished with value: 0.9333333333333332 and parameters: {'n_estimators': 19, 'max_depth': 8, 'min_child_weight': 3, 'gamma': 0.14908703888336422, 'colsample_bytree': 0.40221237380573654}. Best is trial 1 with value: 0.9428571428571427.\u001b[0m\n",
      "\u001b[32m[I 2022-02-12 19:41:09,131]\u001b[0m Trial 43 finished with value: 0.9428571428571427 and parameters: {'n_estimators': 11, 'max_depth': 8, 'min_child_weight': 4, 'gamma': 0.12971377311602825, 'colsample_bytree': 0.43175580213028514}. Best is trial 1 with value: 0.9428571428571427.\u001b[0m\n"
     ]
    },
    {
     "name": "stdout",
     "output_type": "stream",
     "text": [
      "[0.94285714 0.88571429 0.97142857]\n",
      "[0.94285714 0.88571429 1.        ]\n"
     ]
    },
    {
     "name": "stderr",
     "output_type": "stream",
     "text": [
      "\u001b[32m[I 2022-02-12 19:41:09,256]\u001b[0m Trial 44 finished with value: 0.9333333333333332 and parameters: {'n_estimators': 10, 'max_depth': 9, 'min_child_weight': 4, 'gamma': 0.13104681166384732, 'colsample_bytree': 0.473702219618847}. Best is trial 1 with value: 0.9428571428571427.\u001b[0m\n",
      "\u001b[32m[I 2022-02-12 19:41:09,363]\u001b[0m Trial 45 finished with value: 0.9428571428571427 and parameters: {'n_estimators': 13, 'max_depth': 6, 'min_child_weight': 5, 'gamma': 0.10532031266979469, 'colsample_bytree': 0.4378452955367023}. Best is trial 1 with value: 0.9428571428571427.\u001b[0m\n"
     ]
    },
    {
     "name": "stdout",
     "output_type": "stream",
     "text": [
      "[0.94285714 0.88571429 0.97142857]\n",
      "[0.94285714 0.88571429 1.        ]\n"
     ]
    },
    {
     "name": "stderr",
     "output_type": "stream",
     "text": [
      "\u001b[32m[I 2022-02-12 19:41:09,495]\u001b[0m Trial 46 finished with value: 0.9142857142857143 and parameters: {'n_estimators': 13, 'max_depth': 6, 'min_child_weight': 3, 'gamma': 0.1070827071362954, 'colsample_bytree': 0.5360294923300865}. Best is trial 1 with value: 0.9428571428571427.\u001b[0m\n",
      "\u001b[32m[I 2022-02-12 19:41:09,640]\u001b[0m Trial 47 finished with value: 0.9238095238095237 and parameters: {'n_estimators': 10, 'max_depth': 3, 'min_child_weight': 7, 'gamma': 0.3686404523695962, 'colsample_bytree': 0.4552628881585833}. Best is trial 1 with value: 0.9428571428571427.\u001b[0m\n"
     ]
    },
    {
     "name": "stdout",
     "output_type": "stream",
     "text": [
      "[0.91428571 0.88571429 0.94285714]\n",
      "[0.91428571 0.88571429 0.97142857]\n"
     ]
    },
    {
     "name": "stderr",
     "output_type": "stream",
     "text": [
      "\u001b[32m[I 2022-02-12 19:41:09,865]\u001b[0m Trial 48 finished with value: 0.9333333333333332 and parameters: {'n_estimators': 41, 'max_depth': 8, 'min_child_weight': 3, 'gamma': 0.11636941595254269, 'colsample_bytree': 0.3791497875854622}. Best is trial 1 with value: 0.9428571428571427.\u001b[0m\n",
      "\u001b[32m[I 2022-02-12 19:41:10,030]\u001b[0m Trial 49 finished with value: 0.9142857142857143 and parameters: {'n_estimators': 21, 'max_depth': 7, 'min_child_weight': 2, 'gamma': 0.14075791882675992, 'colsample_bytree': 0.6282195822324258}. Best is trial 1 with value: 0.9428571428571427.\u001b[0m\n"
     ]
    },
    {
     "name": "stdout",
     "output_type": "stream",
     "text": [
      "[0.94285714 0.88571429 0.97142857]\n",
      "[0.91428571 0.88571429 0.94285714]\n",
      "FrozenTrial(number=1, values=[0.9428571428571427], datetime_start=datetime.datetime(2022, 2, 12, 19, 41, 1, 693130), datetime_complete=datetime.datetime(2022, 2, 12, 19, 41, 2, 894028), params={'n_estimators': 11, 'max_depth': 4, 'min_child_weight': 5, 'gamma': 0.16414967977009298, 'colsample_bytree': 0.38585581099271793}, distributions={'n_estimators': IntLogUniformDistribution(high=100, low=10, step=1), 'max_depth': IntLogUniformDistribution(high=10, low=3, step=1), 'min_child_weight': IntLogUniformDistribution(high=7, low=1, step=1), 'gamma': LogUniformDistribution(high=0.4, low=0.1), 'colsample_bytree': LogUniformDistribution(high=0.7, low=0.3)}, user_attrs={}, system_attrs={}, intermediate_values={}, trial_id=1, state=TrialState.COMPLETE, value=None)\n"
     ]
    }
   ],
   "source": [
    "study = optuna.create_study(direction = \"maximize\")\n",
    "study.optimize(objective, n_trials = 50)\n",
    "print(study.best_trial)"
   ]
  },
  {
   "cell_type": "code",
   "execution_count": 72,
   "id": "a6e7cc7e",
   "metadata": {},
   "outputs": [
    {
     "data": {
      "text/plain": [
       "{'n_estimators': 11,\n",
       " 'max_depth': 4,\n",
       " 'min_child_weight': 5,\n",
       " 'gamma': 0.16414967977009298,\n",
       " 'colsample_bytree': 0.38585581099271793}"
      ]
     },
     "execution_count": 72,
     "metadata": {},
     "output_type": "execute_result"
    }
   ],
   "source": [
    "study.best_params"
   ]
  },
  {
   "cell_type": "code",
   "execution_count": 73,
   "id": "f7e62f79",
   "metadata": {},
   "outputs": [
    {
     "data": {
      "text/plain": [
       "0.9428571428571427"
      ]
     },
     "execution_count": 73,
     "metadata": {},
     "output_type": "execute_result"
    }
   ],
   "source": [
    "study.best_value"
   ]
  },
  {
   "cell_type": "code",
   "execution_count": null,
   "id": "7f0a754b",
   "metadata": {},
   "outputs": [],
   "source": [
    "model."
   ]
  },
  {
   "cell_type": "code",
   "execution_count": null,
   "id": "3be9b269",
   "metadata": {},
   "outputs": [],
   "source": []
  },
  {
   "cell_type": "code",
   "execution_count": null,
   "id": "4f0e17a8",
   "metadata": {},
   "outputs": [],
   "source": []
  }
 ],
 "metadata": {
  "kernelspec": {
   "display_name": "Python 3",
   "language": "python",
   "name": "python3"
  },
  "language_info": {
   "codemirror_mode": {
    "name": "ipython",
    "version": 3
   },
   "file_extension": ".py",
   "mimetype": "text/x-python",
   "name": "python",
   "nbconvert_exporter": "python",
   "pygments_lexer": "ipython3",
   "version": "3.8.8"
  }
 },
 "nbformat": 4,
 "nbformat_minor": 5
}
