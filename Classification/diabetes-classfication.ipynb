{
 "cells": [
  {
   "cell_type": "code",
   "execution_count": 3,
   "id": "ef61ab0f",
   "metadata": {
    "_cell_guid": "b1076dfc-b9ad-4769-8c92-a6c4dae69d19",
    "_uuid": "8f2839f25d086af736a60e9eeb907d3b93b6e0e5",
    "execution": {
     "iopub.execute_input": "2022-03-06T02:22:04.437684Z",
     "iopub.status.busy": "2022-03-06T02:22:04.435943Z",
     "iopub.status.idle": "2022-03-06T02:22:05.507244Z",
     "shell.execute_reply": "2022-03-06T02:22:05.506550Z",
     "shell.execute_reply.started": "2022-03-06T00:35:18.320004Z"
    },
    "papermill": {
     "duration": 1.101996,
     "end_time": "2022-03-06T02:22:05.507430",
     "exception": false,
     "start_time": "2022-03-06T02:22:04.405434",
     "status": "completed"
    },
    "tags": []
   },
   "outputs": [],
   "source": [
    "import numpy as np\n",
    "import pandas as pd\n",
    "import matplotlib.pyplot as plt\n",
    "import seaborn as sns"
   ]
  },
  {
   "cell_type": "code",
   "execution_count": 1,
   "id": "e31c6b9e",
   "metadata": {
    "execution": {
     "iopub.execute_input": "2022-03-06T02:22:05.563768Z",
     "iopub.status.busy": "2022-03-06T02:22:05.563138Z",
     "iopub.status.idle": "2022-03-06T02:22:05.573001Z",
     "shell.execute_reply": "2022-03-06T02:22:05.573555Z",
     "shell.execute_reply.started": "2022-03-06T00:35:18.326532Z"
    },
    "papermill": {
     "duration": 0.040515,
     "end_time": "2022-03-06T02:22:05.573740",
     "exception": false,
     "start_time": "2022-03-06T02:22:05.533225",
     "status": "completed"
    },
    "tags": []
   },
   "outputs": [],
   "source": [
    "import os\n",
    "for dirname, _, filenames in os.walk('/kaggle/input'):\n",
    "    for filename in filenames:\n",
    "        print(os.path.join(dirname, filename))"
   ]
  },
  {
   "cell_type": "code",
   "execution_count": 2,
   "id": "4767fc4f",
   "metadata": {
    "execution": {
     "iopub.execute_input": "2022-03-06T02:22:05.629821Z",
     "iopub.status.busy": "2022-03-06T02:22:05.629208Z",
     "iopub.status.idle": "2022-03-06T02:22:05.645954Z",
     "shell.execute_reply": "2022-03-06T02:22:05.646455Z",
     "shell.execute_reply.started": "2022-03-06T00:35:18.351364Z"
    },
    "papermill": {
     "duration": 0.045661,
     "end_time": "2022-03-06T02:22:05.646637",
     "exception": false,
     "start_time": "2022-03-06T02:22:05.600976",
     "status": "completed"
    },
    "tags": []
   },
   "outputs": [
    {
     "ename": "NameError",
     "evalue": "name 'pd' is not defined",
     "output_type": "error",
     "traceback": [
      "\u001b[0;31m---------------------------------------------------------------------------\u001b[0m",
      "\u001b[0;31mNameError\u001b[0m                                 Traceback (most recent call last)",
      "\u001b[0;32m<ipython-input-2-1661c31a453a>\u001b[0m in \u001b[0;36m<module>\u001b[0;34m\u001b[0m\n\u001b[0;32m----> 1\u001b[0;31m \u001b[0mdf\u001b[0m \u001b[0;34m=\u001b[0m \u001b[0mpd\u001b[0m\u001b[0;34m.\u001b[0m\u001b[0mread_csv\u001b[0m\u001b[0;34m(\u001b[0m\u001b[0;34m'/kaggle/input/early-diabetes-classification/diabetes_data.csv'\u001b[0m\u001b[0;34m,\u001b[0m \u001b[0mdelimiter\u001b[0m\u001b[0;34m=\u001b[0m\u001b[0;34m\";\"\u001b[0m\u001b[0;34m)\u001b[0m\u001b[0;34m\u001b[0m\u001b[0;34m\u001b[0m\u001b[0m\n\u001b[0m",
      "\u001b[0;31mNameError\u001b[0m: name 'pd' is not defined"
     ]
    }
   ],
   "source": [
    "df = pd.read_csv('/kaggle/input/early-diabetes-classification/diabetes_data.csv', delimiter=\";\")\n"
   ]
  },
  {
   "cell_type": "code",
   "execution_count": 4,
   "id": "302e29eb",
   "metadata": {
    "execution": {
     "iopub.execute_input": "2022-03-06T02:22:05.703262Z",
     "iopub.status.busy": "2022-03-06T02:22:05.702618Z",
     "iopub.status.idle": "2022-03-06T02:22:05.726141Z",
     "shell.execute_reply": "2022-03-06T02:22:05.726637Z",
     "shell.execute_reply.started": "2022-03-06T00:35:18.365303Z"
    },
    "papermill": {
     "duration": 0.053112,
     "end_time": "2022-03-06T02:22:05.726813",
     "exception": false,
     "start_time": "2022-03-06T02:22:05.673701",
     "status": "completed"
    },
    "tags": []
   },
   "outputs": [
    {
     "data": {
      "text/html": [
       "<div>\n",
       "<style scoped>\n",
       "    .dataframe tbody tr th:only-of-type {\n",
       "        vertical-align: middle;\n",
       "    }\n",
       "\n",
       "    .dataframe tbody tr th {\n",
       "        vertical-align: top;\n",
       "    }\n",
       "\n",
       "    .dataframe thead th {\n",
       "        text-align: right;\n",
       "    }\n",
       "</style>\n",
       "<table border=\"1\" class=\"dataframe\">\n",
       "  <thead>\n",
       "    <tr style=\"text-align: right;\">\n",
       "      <th></th>\n",
       "      <th>age</th>\n",
       "      <th>gender</th>\n",
       "      <th>polyuria</th>\n",
       "      <th>polydipsia</th>\n",
       "      <th>sudden_weight_loss</th>\n",
       "      <th>weakness</th>\n",
       "      <th>polyphagia</th>\n",
       "      <th>genital_thrush</th>\n",
       "      <th>visual_blurring</th>\n",
       "      <th>itching</th>\n",
       "      <th>irritability</th>\n",
       "      <th>delayed_healing</th>\n",
       "      <th>partial_paresis</th>\n",
       "      <th>muscle_stiffness</th>\n",
       "      <th>alopecia</th>\n",
       "      <th>obesity</th>\n",
       "      <th>class</th>\n",
       "    </tr>\n",
       "  </thead>\n",
       "  <tbody>\n",
       "    <tr>\n",
       "      <th>0</th>\n",
       "      <td>40</td>\n",
       "      <td>Male</td>\n",
       "      <td>0</td>\n",
       "      <td>1</td>\n",
       "      <td>0</td>\n",
       "      <td>1</td>\n",
       "      <td>0</td>\n",
       "      <td>0</td>\n",
       "      <td>0</td>\n",
       "      <td>1</td>\n",
       "      <td>0</td>\n",
       "      <td>1</td>\n",
       "      <td>0</td>\n",
       "      <td>1</td>\n",
       "      <td>1</td>\n",
       "      <td>1</td>\n",
       "      <td>1</td>\n",
       "    </tr>\n",
       "    <tr>\n",
       "      <th>1</th>\n",
       "      <td>58</td>\n",
       "      <td>Male</td>\n",
       "      <td>0</td>\n",
       "      <td>0</td>\n",
       "      <td>0</td>\n",
       "      <td>1</td>\n",
       "      <td>0</td>\n",
       "      <td>0</td>\n",
       "      <td>1</td>\n",
       "      <td>0</td>\n",
       "      <td>0</td>\n",
       "      <td>0</td>\n",
       "      <td>1</td>\n",
       "      <td>0</td>\n",
       "      <td>1</td>\n",
       "      <td>0</td>\n",
       "      <td>1</td>\n",
       "    </tr>\n",
       "    <tr>\n",
       "      <th>2</th>\n",
       "      <td>41</td>\n",
       "      <td>Male</td>\n",
       "      <td>1</td>\n",
       "      <td>0</td>\n",
       "      <td>0</td>\n",
       "      <td>1</td>\n",
       "      <td>1</td>\n",
       "      <td>0</td>\n",
       "      <td>0</td>\n",
       "      <td>1</td>\n",
       "      <td>0</td>\n",
       "      <td>1</td>\n",
       "      <td>0</td>\n",
       "      <td>1</td>\n",
       "      <td>1</td>\n",
       "      <td>0</td>\n",
       "      <td>1</td>\n",
       "    </tr>\n",
       "    <tr>\n",
       "      <th>3</th>\n",
       "      <td>45</td>\n",
       "      <td>Male</td>\n",
       "      <td>0</td>\n",
       "      <td>0</td>\n",
       "      <td>1</td>\n",
       "      <td>1</td>\n",
       "      <td>1</td>\n",
       "      <td>1</td>\n",
       "      <td>0</td>\n",
       "      <td>1</td>\n",
       "      <td>0</td>\n",
       "      <td>1</td>\n",
       "      <td>0</td>\n",
       "      <td>0</td>\n",
       "      <td>0</td>\n",
       "      <td>0</td>\n",
       "      <td>1</td>\n",
       "    </tr>\n",
       "    <tr>\n",
       "      <th>4</th>\n",
       "      <td>60</td>\n",
       "      <td>Male</td>\n",
       "      <td>1</td>\n",
       "      <td>1</td>\n",
       "      <td>1</td>\n",
       "      <td>1</td>\n",
       "      <td>1</td>\n",
       "      <td>0</td>\n",
       "      <td>1</td>\n",
       "      <td>1</td>\n",
       "      <td>1</td>\n",
       "      <td>1</td>\n",
       "      <td>1</td>\n",
       "      <td>1</td>\n",
       "      <td>1</td>\n",
       "      <td>1</td>\n",
       "      <td>1</td>\n",
       "    </tr>\n",
       "  </tbody>\n",
       "</table>\n",
       "</div>"
      ],
      "text/plain": [
       "   age gender  polyuria  polydipsia  sudden_weight_loss  weakness  polyphagia  \\\n",
       "0   40   Male         0           1                   0         1           0   \n",
       "1   58   Male         0           0                   0         1           0   \n",
       "2   41   Male         1           0                   0         1           1   \n",
       "3   45   Male         0           0                   1         1           1   \n",
       "4   60   Male         1           1                   1         1           1   \n",
       "\n",
       "   genital_thrush  visual_blurring  itching  irritability  delayed_healing  \\\n",
       "0               0                0        1             0                1   \n",
       "1               0                1        0             0                0   \n",
       "2               0                0        1             0                1   \n",
       "3               1                0        1             0                1   \n",
       "4               0                1        1             1                1   \n",
       "\n",
       "   partial_paresis  muscle_stiffness  alopecia  obesity  class  \n",
       "0                0                 1         1        1      1  \n",
       "1                1                 0         1        0      1  \n",
       "2                0                 1         1        0      1  \n",
       "3                0                 0         0        0      1  \n",
       "4                1                 1         1        1      1  "
      ]
     },
     "execution_count": 4,
     "metadata": {},
     "output_type": "execute_result"
    }
   ],
   "source": [
    "df.head()"
   ]
  },
  {
   "cell_type": "code",
   "execution_count": 5,
   "id": "921b8e4f",
   "metadata": {
    "execution": {
     "iopub.execute_input": "2022-03-06T02:22:05.793385Z",
     "iopub.status.busy": "2022-03-06T02:22:05.792572Z",
     "iopub.status.idle": "2022-03-06T02:22:05.799536Z",
     "shell.execute_reply": "2022-03-06T02:22:05.800005Z",
     "shell.execute_reply.started": "2022-03-06T00:35:18.417908Z"
    },
    "papermill": {
     "duration": 0.045828,
     "end_time": "2022-03-06T02:22:05.800195",
     "exception": false,
     "start_time": "2022-03-06T02:22:05.754367",
     "status": "completed"
    },
    "tags": []
   },
   "outputs": [
    {
     "data": {
      "text/plain": [
       "Index(['gender'], dtype='object')"
      ]
     },
     "execution_count": 5,
     "metadata": {},
     "output_type": "execute_result"
    }
   ],
   "source": [
    "df.select_dtypes(include=['object']).columns"
   ]
  },
  {
   "cell_type": "code",
   "execution_count": 6,
   "id": "5e05659a",
   "metadata": {
    "execution": {
     "iopub.execute_input": "2022-03-06T02:22:05.861373Z",
     "iopub.status.busy": "2022-03-06T02:22:05.855622Z",
     "iopub.status.idle": "2022-03-06T02:22:05.865415Z",
     "shell.execute_reply": "2022-03-06T02:22:05.864909Z",
     "shell.execute_reply.started": "2022-03-06T00:35:18.428819Z"
    },
    "papermill": {
     "duration": 0.038868,
     "end_time": "2022-03-06T02:22:05.865544",
     "exception": false,
     "start_time": "2022-03-06T02:22:05.826676",
     "status": "completed"
    },
    "tags": []
   },
   "outputs": [
    {
     "data": {
      "text/plain": [
       "Index(['age', 'polyuria', 'polydipsia', 'sudden_weight_loss', 'weakness',\n",
       "       'polyphagia', 'genital_thrush', 'visual_blurring', 'itching',\n",
       "       'irritability', 'delayed_healing', 'partial_paresis',\n",
       "       'muscle_stiffness', 'alopecia', 'obesity', 'class'],\n",
       "      dtype='object')"
      ]
     },
     "execution_count": 6,
     "metadata": {},
     "output_type": "execute_result"
    }
   ],
   "source": [
    "df.select_dtypes(include=['int','float']).columns"
   ]
  },
  {
   "cell_type": "code",
   "execution_count": 7,
   "id": "1b906b56",
   "metadata": {
    "execution": {
     "iopub.execute_input": "2022-03-06T02:22:05.930831Z",
     "iopub.status.busy": "2022-03-06T02:22:05.930057Z",
     "iopub.status.idle": "2022-03-06T02:22:05.940798Z",
     "shell.execute_reply": "2022-03-06T02:22:05.941305Z",
     "shell.execute_reply.started": "2022-03-06T00:35:18.441922Z"
    },
    "papermill": {
     "duration": 0.046645,
     "end_time": "2022-03-06T02:22:05.941469",
     "exception": false,
     "start_time": "2022-03-06T02:22:05.894824",
     "status": "completed"
    },
    "tags": []
   },
   "outputs": [
    {
     "data": {
      "text/plain": [
       "age                   0.0\n",
       "itching               0.0\n",
       "obesity               0.0\n",
       "alopecia              0.0\n",
       "muscle_stiffness      0.0\n",
       "partial_paresis       0.0\n",
       "delayed_healing       0.0\n",
       "irritability          0.0\n",
       "visual_blurring       0.0\n",
       "gender                0.0\n",
       "genital_thrush        0.0\n",
       "polyphagia            0.0\n",
       "weakness              0.0\n",
       "sudden_weight_loss    0.0\n",
       "polydipsia            0.0\n",
       "polyuria              0.0\n",
       "class                 0.0\n",
       "dtype: float64"
      ]
     },
     "execution_count": 7,
     "metadata": {},
     "output_type": "execute_result"
    }
   ],
   "source": [
    "(df.isna().sum()/df.isna().count() * 100).sort_values(ascending= False).head(25)"
   ]
  },
  {
   "cell_type": "code",
   "execution_count": 8,
   "id": "67881ee5",
   "metadata": {
    "execution": {
     "iopub.execute_input": "2022-03-06T02:22:06.000318Z",
     "iopub.status.busy": "2022-03-06T02:22:05.999644Z",
     "iopub.status.idle": "2022-03-06T02:22:06.717747Z",
     "shell.execute_reply": "2022-03-06T02:22:06.718225Z",
     "shell.execute_reply.started": "2022-03-06T00:35:18.461703Z"
    },
    "papermill": {
     "duration": 0.749966,
     "end_time": "2022-03-06T02:22:06.718406",
     "exception": false,
     "start_time": "2022-03-06T02:22:05.968440",
     "status": "completed"
    },
    "tags": []
   },
   "outputs": [
    {
     "data": {
      "image/png": "[encoded data removed]",
      "text/plain": [
       "<Figure size 432x288 with 2 Axes>"
      ]
     },
     "metadata": {},
     "output_type": "display_data"
    }
   ],
   "source": [
    "corrmat = df.corr()\n",
    "k = 10 #number of variables for heatmap\n",
    "cols = corrmat.nlargest(k, 'class')['class'].index\n",
    "cm = np.corrcoef(df[cols].values.T)\n",
    "sns.set(font_scale=1.25)\n",
    "hm = sns.heatmap(cm, cbar=True, annot=True, square=True, fmt='.2f', annot_kws={'size': 10}, yticklabels=cols.values, xticklabels=cols.values)\n",
    "plt.show()"
   ]
  },
  {
   "cell_type": "code",
   "execution_count": 9,
   "id": "7d162682",
   "metadata": {
    "execution": {
     "iopub.execute_input": "2022-03-06T02:22:06.783927Z",
     "iopub.status.busy": "2022-03-06T02:22:06.783311Z",
     "iopub.status.idle": "2022-03-06T02:22:06.785173Z",
     "shell.execute_reply": "2022-03-06T02:22:06.785627Z",
     "shell.execute_reply.started": "2022-03-06T00:35:19.271951Z"
    },
    "papermill": {
     "duration": 0.037667,
     "end_time": "2022-03-06T02:22:06.785803",
     "exception": false,
     "start_time": "2022-03-06T02:22:06.748136",
     "status": "completed"
    },
    "tags": []
   },
   "outputs": [],
   "source": [
    "category_features = ['gender']\n",
    "\n",
    "numeric_features = ['age', 'polyuria', 'polydipsia', 'sudden_weight_loss', 'weakness',\n",
    "       'polyphagia', 'genital_thrush', 'visual_blurring', 'itching',\n",
    "       'irritability', 'delayed_healing', 'partial_paresis',\n",
    "       'muscle_stiffness', 'alopecia', 'obesity']\n",
    "\n",
    "target = ['class']"
   ]
  },
  {
   "cell_type": "code",
   "execution_count": 10,
   "id": "e3a74c7a",
   "metadata": {
    "execution": {
     "iopub.execute_input": "2022-03-06T02:22:06.848348Z",
     "iopub.status.busy": "2022-03-06T02:22:06.847715Z",
     "iopub.status.idle": "2022-03-06T02:22:06.853848Z",
     "shell.execute_reply": "2022-03-06T02:22:06.854428Z",
     "shell.execute_reply.started": "2022-03-06T00:35:19.277947Z"
    },
    "papermill": {
     "duration": 0.039382,
     "end_time": "2022-03-06T02:22:06.854605",
     "exception": false,
     "start_time": "2022-03-06T02:22:06.815223",
     "status": "completed"
    },
    "tags": []
   },
   "outputs": [
    {
     "name": "stdout",
     "output_type": "stream",
     "text": [
      "category feature number =  1\n",
      "numeric feature number =  15\n"
     ]
    }
   ],
   "source": [
    "print('category feature number = ', len(category_features))\n",
    "print('numeric feature number = ', len(numeric_features))"
   ]
  },
  {
   "cell_type": "code",
   "execution_count": 11,
   "id": "e536b190",
   "metadata": {
    "execution": {
     "iopub.execute_input": "2022-03-06T02:22:06.918979Z",
     "iopub.status.busy": "2022-03-06T02:22:06.918294Z",
     "iopub.status.idle": "2022-03-06T02:22:07.112190Z",
     "shell.execute_reply": "2022-03-06T02:22:07.111504Z",
     "shell.execute_reply.started": "2022-03-06T00:35:19.292357Z"
    },
    "papermill": {
     "duration": 0.227202,
     "end_time": "2022-03-06T02:22:07.112324",
     "exception": false,
     "start_time": "2022-03-06T02:22:06.885122",
     "status": "completed"
    },
    "tags": []
   },
   "outputs": [],
   "source": [
    "from sklearn.model_selection import train_test_split"
   ]
  },
  {
   "cell_type": "code",
   "execution_count": 12,
   "id": "e8085731",
   "metadata": {
    "execution": {
     "iopub.execute_input": "2022-03-06T02:22:07.180773Z",
     "iopub.status.busy": "2022-03-06T02:22:07.180173Z",
     "iopub.status.idle": "2022-03-06T02:22:07.183982Z",
     "shell.execute_reply": "2022-03-06T02:22:07.184513Z",
     "shell.execute_reply.started": "2022-03-06T00:35:19.303202Z"
    },
    "papermill": {
     "duration": 0.042275,
     "end_time": "2022-03-06T02:22:07.184682",
     "exception": false,
     "start_time": "2022-03-06T02:22:07.142407",
     "status": "completed"
    },
    "tags": []
   },
   "outputs": [],
   "source": [
    "X_train, X_test, y_train, y_test = train_test_split(df.drop(columns=target), df[target], test_size = 0.2, random_state= 14)"
   ]
  },
  {
   "cell_type": "code",
   "execution_count": 13,
   "id": "5839c65f",
   "metadata": {
    "execution": {
     "iopub.execute_input": "2022-03-06T02:22:07.251784Z",
     "iopub.status.busy": "2022-03-06T02:22:07.249913Z",
     "iopub.status.idle": "2022-03-06T02:22:07.407274Z",
     "shell.execute_reply": "2022-03-06T02:22:07.406633Z",
     "shell.execute_reply.started": "2022-03-06T00:35:19.318383Z"
    },
    "papermill": {
     "duration": 0.190101,
     "end_time": "2022-03-06T02:22:07.407420",
     "exception": false,
     "start_time": "2022-03-06T02:22:07.217319",
     "status": "completed"
    },
    "tags": []
   },
   "outputs": [],
   "source": [
    "from sklearn.pipeline import Pipeline\n",
    "from sklearn.impute import SimpleImputer\n",
    "from sklearn.preprocessing import StandardScaler, OneHotEncoder\n",
    "from sklearn.compose import ColumnTransformer"
   ]
  },
  {
   "cell_type": "code",
   "execution_count": 14,
   "id": "1b1a3dbc",
   "metadata": {
    "execution": {
     "iopub.execute_input": "2022-03-06T02:22:07.474350Z",
     "iopub.status.busy": "2022-03-06T02:22:07.473678Z",
     "iopub.status.idle": "2022-03-06T02:22:07.476897Z",
     "shell.execute_reply": "2022-03-06T02:22:07.476443Z",
     "shell.execute_reply.started": "2022-03-06T00:35:19.331468Z"
    },
    "papermill": {
     "duration": 0.038858,
     "end_time": "2022-03-06T02:22:07.477054",
     "exception": false,
     "start_time": "2022-03-06T02:22:07.438196",
     "status": "completed"
    },
    "tags": []
   },
   "outputs": [],
   "source": [
    "numeric_transformer = Pipeline(steps =[('imputer_numeric', SimpleImputer(missing_values=np.nan, strategy='mean')),\n",
    "                                       ('scaler', StandardScaler())])"
   ]
  },
  {
   "cell_type": "code",
   "execution_count": 15,
   "id": "d5a23147",
   "metadata": {
    "execution": {
     "iopub.execute_input": "2022-03-06T02:22:07.542130Z",
     "iopub.status.busy": "2022-03-06T02:22:07.541489Z",
     "iopub.status.idle": "2022-03-06T02:22:07.543182Z",
     "shell.execute_reply": "2022-03-06T02:22:07.543619Z",
     "shell.execute_reply.started": "2022-03-06T00:35:19.340755Z"
    },
    "papermill": {
     "duration": 0.036696,
     "end_time": "2022-03-06T02:22:07.543778",
     "exception": false,
     "start_time": "2022-03-06T02:22:07.507082",
     "status": "completed"
    },
    "tags": []
   },
   "outputs": [],
   "source": [
    "category_transformer = Pipeline(steps=[('imputer_category', SimpleImputer(missing_values=np.nan, strategy='most_frequent')),\n",
    "                                    ('onehot', OneHotEncoder(handle_unknown='ignore'))])"
   ]
  },
  {
   "cell_type": "code",
   "execution_count": 16,
   "id": "c26a02f0",
   "metadata": {
    "execution": {
     "iopub.execute_input": "2022-03-06T02:22:07.607125Z",
     "iopub.status.busy": "2022-03-06T02:22:07.606538Z",
     "iopub.status.idle": "2022-03-06T02:22:07.609866Z",
     "shell.execute_reply": "2022-03-06T02:22:07.610317Z",
     "shell.execute_reply.started": "2022-03-06T00:35:19.353649Z"
    },
    "papermill": {
     "duration": 0.036472,
     "end_time": "2022-03-06T02:22:07.610489",
     "exception": false,
     "start_time": "2022-03-06T02:22:07.574017",
     "status": "completed"
    },
    "tags": []
   },
   "outputs": [],
   "source": [
    "preprocessor = ColumnTransformer(\n",
    "    transformers=[\n",
    "        ('category_transformer', category_transformer, category_features),\n",
    "        ('numeric_transfomer', numeric_transformer, numeric_features)\n",
    "    ], remainder='drop'\n",
    ")"
   ]
  },
  {
   "cell_type": "code",
   "execution_count": 17,
   "id": "6661e48e",
   "metadata": {
    "execution": {
     "iopub.execute_input": "2022-03-06T02:22:07.672905Z",
     "iopub.status.busy": "2022-03-06T02:22:07.672235Z",
     "iopub.status.idle": "2022-03-06T02:22:08.515914Z",
     "shell.execute_reply": "2022-03-06T02:22:08.515436Z",
     "shell.execute_reply.started": "2022-03-06T00:35:19.364592Z"
    },
    "papermill": {
     "duration": 0.875963,
     "end_time": "2022-03-06T02:22:08.516070",
     "exception": false,
     "start_time": "2022-03-06T02:22:07.640107",
     "status": "completed"
    },
    "tags": []
   },
   "outputs": [],
   "source": [
    "import optuna\n",
    "from sklearn import clone\n",
    "from sklearn.ensemble import RandomForestClassifier\n",
    "from sklearn.pipeline import make_pipeline\n",
    "from sklearn.model_selection import cross_val_score\n",
    "from xgboost import XGBClassifier"
   ]
  },
  {
   "cell_type": "code",
   "execution_count": 18,
   "id": "effc5e00",
   "metadata": {
    "execution": {
     "iopub.execute_input": "2022-03-06T02:22:08.579867Z",
     "iopub.status.busy": "2022-03-06T02:22:08.579261Z",
     "iopub.status.idle": "2022-03-06T02:22:08.583638Z",
     "shell.execute_reply": "2022-03-06T02:22:08.584164Z",
     "shell.execute_reply.started": "2022-03-06T00:35:19.377121Z"
    },
    "papermill": {
     "duration": 0.037451,
     "end_time": "2022-03-06T02:22:08.584338",
     "exception": false,
     "start_time": "2022-03-06T02:22:08.546887",
     "status": "completed"
    },
    "tags": []
   },
   "outputs": [],
   "source": [
    "# pipeline_rf = make_pipeline(clone(preprocessor), RandomForestClassifier())\n",
    "pipeline_rf = make_pipeline(clone(preprocessor), XGBClassifier())"
   ]
  },
  {
   "cell_type": "code",
   "execution_count": 19,
   "id": "2ba85170",
   "metadata": {
    "execution": {
     "iopub.execute_input": "2022-03-06T02:22:08.651985Z",
     "iopub.status.busy": "2022-03-06T02:22:08.647091Z",
     "iopub.status.idle": "2022-03-06T02:22:08.653509Z",
     "shell.execute_reply": "2022-03-06T02:22:08.654070Z",
     "shell.execute_reply.started": "2022-03-06T00:35:19.389682Z"
    },
    "papermill": {
     "duration": 0.039692,
     "end_time": "2022-03-06T02:22:08.654237",
     "exception": false,
     "start_time": "2022-03-06T02:22:08.614545",
     "status": "completed"
    },
    "tags": []
   },
   "outputs": [],
   "source": [
    "def objective(trail):\n",
    "#     parameter for the random forest classfication    \n",
    "#     params = {\n",
    "#         'randomforestclassifier__n_estimators': trail.suggest_int('randomforestclassifier__n_estimators', 10, 20, log=True),\n",
    "#         'randomforestclassifier__max_depth': trail.suggest_int(\"randomforestclassifier__max_depth\", 3, 10, log=True) ,\n",
    "#         'randomforestclassifier__max_features': trail.suggest_categorical('randomforestclassifier__max_features', ['auto', 'sqrt']),\n",
    "#         'randomforestclassifier__min_samples_split': trail.suggest_int(\"randomforestclassifier__min_samples_split\", 2, 10, log=True) ,\n",
    "#         'randomforestclassifier__min_samples_leaf': trail.suggest_int(\"randomforestclassifier__min_samples_leaf\", 1, 4, log=True),\n",
    "#         'randomforestclassifier__bootstrap': trail.suggest_categorical('randomforestclassifier__bootstrap', [True, False])\n",
    "#     }\n",
    "    \n",
    "    #parameter for the xgboost regressor\n",
    "    params = {\n",
    "        'xgbclassifier__n_estimators': trail.suggest_int('xgbclassifier__n_estimators', 10, 20, log=True),\n",
    "        'xgbclassifier__max_depth': trail.suggest_int(\"xgbclassifier__max_depth\", 3, 20, log=True) ,\n",
    "        'xgbclassifier__eta': trail.suggest_float('xgbclassifier__eta', 0.1, 0.3, log=True),\n",
    "        'xgbclassifier__subsample': trail.suggest_float(\"xgbclassifier__subsample\", 0.4, 0.8, log=True) ,\n",
    "        'xgbclassifier__colsample_bytree': trail.suggest_float(\"xgbclassifier__colsample_bytree\", 0.4, 0.8, log=True),\n",
    "    }\n",
    "    \n",
    "    model = pipeline_rf.set_params(**params)\n",
    "    model.fit(X_train, y_train)\n",
    "    \n",
    "    \n",
    "    score = cross_val_score(model, X_train, y_train, scoring = 'f1', n_jobs = -1, cv = 3).mean()\n",
    "    \n",
    "    return score"
   ]
  },
  {
   "cell_type": "code",
   "execution_count": 20,
   "id": "0b638adb",
   "metadata": {
    "execution": {
     "iopub.execute_input": "2022-03-06T02:22:08.716297Z",
     "iopub.status.busy": "2022-03-06T02:22:08.715709Z",
     "iopub.status.idle": "2022-03-06T02:22:08.720703Z",
     "shell.execute_reply": "2022-03-06T02:22:08.721266Z",
     "shell.execute_reply.started": "2022-03-06T00:35:19.403059Z"
    },
    "papermill": {
     "duration": 0.03777,
     "end_time": "2022-03-06T02:22:08.721442",
     "exception": false,
     "start_time": "2022-03-06T02:22:08.683672",
     "status": "completed"
    },
    "tags": []
   },
   "outputs": [
    {
     "data": {
      "text/plain": [
       "dict_keys(['memory', 'steps', 'verbose', 'columntransformer', 'xgbclassifier', 'columntransformer__n_jobs', 'columntransformer__remainder', 'columntransformer__sparse_threshold', 'columntransformer__transformer_weights', 'columntransformer__transformers', 'columntransformer__verbose', 'columntransformer__verbose_feature_names_out', 'columntransformer__category_transformer', 'columntransformer__numeric_transfomer', 'columntransformer__category_transformer__memory', 'columntransformer__category_transformer__steps', 'columntransformer__category_transformer__verbose', 'columntransformer__category_transformer__imputer_category', 'columntransformer__category_transformer__onehot', 'columntransformer__category_transformer__imputer_category__add_indicator', 'columntransformer__category_transformer__imputer_category__copy', 'columntransformer__category_transformer__imputer_category__fill_value', 'columntransformer__category_transformer__imputer_category__missing_values', 'columntransformer__category_transformer__imputer_category__strategy', 'columntransformer__category_transformer__imputer_category__verbose', 'columntransformer__category_transformer__onehot__categories', 'columntransformer__category_transformer__onehot__drop', 'columntransformer__category_transformer__onehot__dtype', 'columntransformer__category_transformer__onehot__handle_unknown', 'columntransformer__category_transformer__onehot__sparse', 'columntransformer__numeric_transfomer__memory', 'columntransformer__numeric_transfomer__steps', 'columntransformer__numeric_transfomer__verbose', 'columntransformer__numeric_transfomer__imputer_numeric', 'columntransformer__numeric_transfomer__scaler', 'columntransformer__numeric_transfomer__imputer_numeric__add_indicator', 'columntransformer__numeric_transfomer__imputer_numeric__copy', 'columntransformer__numeric_transfomer__imputer_numeric__fill_value', 'columntransformer__numeric_transfomer__imputer_numeric__missing_values', 'columntransformer__numeric_transfomer__imputer_numeric__strategy', 'columntransformer__numeric_transfomer__imputer_numeric__verbose', 'columntransformer__numeric_transfomer__scaler__copy', 'columntransformer__numeric_transfomer__scaler__with_mean', 'columntransformer__numeric_transfomer__scaler__with_std', 'xgbclassifier__objective', 'xgbclassifier__use_label_encoder', 'xgbclassifier__base_score', 'xgbclassifier__booster', 'xgbclassifier__colsample_bylevel', 'xgbclassifier__colsample_bynode', 'xgbclassifier__colsample_bytree', 'xgbclassifier__enable_categorical', 'xgbclassifier__gamma', 'xgbclassifier__gpu_id', 'xgbclassifier__importance_type', 'xgbclassifier__interaction_constraints', 'xgbclassifier__learning_rate', 'xgbclassifier__max_delta_step', 'xgbclassifier__max_depth', 'xgbclassifier__min_child_weight', 'xgbclassifier__missing', 'xgbclassifier__monotone_constraints', 'xgbclassifier__n_estimators', 'xgbclassifier__n_jobs', 'xgbclassifier__num_parallel_tree', 'xgbclassifier__predictor', 'xgbclassifier__random_state', 'xgbclassifier__reg_alpha', 'xgbclassifier__reg_lambda', 'xgbclassifier__scale_pos_weight', 'xgbclassifier__subsample', 'xgbclassifier__tree_method', 'xgbclassifier__validate_parameters', 'xgbclassifier__verbosity'])"
      ]
     },
     "execution_count": 20,
     "metadata": {},
     "output_type": "execute_result"
    }
   ],
   "source": [
    "pipeline_rf.get_params().keys()"
   ]
  },
  {
   "cell_type": "code",
   "execution_count": 21,
   "id": "e611593c",
   "metadata": {
    "execution": {
     "iopub.execute_input": "2022-03-06T02:22:08.785463Z",
     "iopub.status.busy": "2022-03-06T02:22:08.784804Z",
     "iopub.status.idle": "2022-03-06T02:23:15.417626Z",
     "shell.execute_reply": "2022-03-06T02:23:15.418118Z",
     "shell.execute_reply.started": "2022-03-06T00:35:19.420752Z"
    },
    "papermill": {
     "duration": 66.666517,
     "end_time": "2022-03-06T02:23:15.418293",
     "exception": false,
     "start_time": "2022-03-06T02:22:08.751776",
     "status": "completed"
    },
    "tags": []
   },
   "outputs": [
    {
     "name": "stderr",
     "output_type": "stream",
     "text": [
      "\u001b[32m[I 2022-03-06 02:22:08,785]\u001b[0m A new study created in memory with name: no-name-615b52ee-e966-415e-81e3-822fc547a7b9\u001b[0m\n"
     ]
    },
    {
     "name": "stdout",
     "output_type": "stream",
     "text": [
      "[02:22:08] WARNING: ../src/learner.cc:1115: Starting in XGBoost 1.3.0, the default evaluation metric used with the objective 'binary:logistic' was changed from 'error' to 'logloss'. Explicitly set eval_metric if you'd like to restore the old behavior.\n"
     ]
    },
    {
     "name": "stderr",
     "output_type": "stream",
     "text": [
      "/opt/conda/lib/python3.7/site-packages/xgboost/sklearn.py:1224: UserWarning: The use of label encoder in XGBClassifier is deprecated and will be removed in a future release. To remove this warning, do the following: 1) Pass option use_label_encoder=False when constructing XGBClassifier object; and 2) Encode your labels (y) as integers starting with 0, i.e. 0, 1, 2, ..., [num_class - 1].\n",
      "  warnings.warn(label_encoder_deprecation_msg, UserWarning)\n",
      "/opt/conda/lib/python3.7/site-packages/sklearn/preprocessing/_label.py:98: DataConversionWarning: A column-vector y was passed when a 1d array was expected. Please change the shape of y to (n_samples, ), for example using ravel().\n",
      "  y = column_or_1d(y, warn=True)\n",
      "/opt/conda/lib/python3.7/site-packages/sklearn/preprocessing/_label.py:133: DataConversionWarning: A column-vector y was passed when a 1d array was expected. Please change the shape of y to (n_samples, ), for example using ravel().\n",
      "  y = column_or_1d(y, warn=True)\n",
      "\u001b[32m[I 2022-03-06 02:22:15,942]\u001b[0m Trial 0 finished with value: 0.9411405910939883 and parameters: {'xgbclassifier__n_estimators': 11, 'xgbclassifier__max_depth': 7, 'xgbclassifier__eta': 0.21232878039659436, 'xgbclassifier__subsample': 0.47398096428375186, 'xgbclassifier__colsample_bytree': 0.442224425988039}. Best is trial 0 with value: 0.9411405910939883.\u001b[0m\n",
      "/opt/conda/lib/python3.7/site-packages/xgboost/sklearn.py:1224: UserWarning: The use of label encoder in XGBClassifier is deprecated and will be removed in a future release. To remove this warning, do the following: 1) Pass option use_label_encoder=False when constructing XGBClassifier object; and 2) Encode your labels (y) as integers starting with 0, i.e. 0, 1, 2, ..., [num_class - 1].\n",
      "  warnings.warn(label_encoder_deprecation_msg, UserWarning)\n",
      "/opt/conda/lib/python3.7/site-packages/sklearn/preprocessing/_label.py:98: DataConversionWarning: A column-vector y was passed when a 1d array was expected. Please change the shape of y to (n_samples, ), for example using ravel().\n",
      "  y = column_or_1d(y, warn=True)\n",
      "/opt/conda/lib/python3.7/site-packages/sklearn/preprocessing/_label.py:133: DataConversionWarning: A column-vector y was passed when a 1d array was expected. Please change the shape of y to (n_samples, ), for example using ravel().\n",
      "  y = column_or_1d(y, warn=True)\n"
     ]
    },
    {
     "name": "stdout",
     "output_type": "stream",
     "text": [
      "[02:22:16] WARNING: ../src/learner.cc:1115: Starting in XGBoost 1.3.0, the default evaluation metric used with the objective 'binary:logistic' was changed from 'error' to 'logloss'. Explicitly set eval_metric if you'd like to restore the old behavior.\n"
     ]
    },
    {
     "name": "stderr",
     "output_type": "stream",
     "text": [
      "\u001b[32m[I 2022-03-06 02:22:20,510]\u001b[0m Trial 1 finished with value: 0.9429842223455701 and parameters: {'xgbclassifier__n_estimators': 12, 'xgbclassifier__max_depth': 17, 'xgbclassifier__eta': 0.14543864243368218, 'xgbclassifier__subsample': 0.6109708969158554, 'xgbclassifier__colsample_bytree': 0.5216574447799074}. Best is trial 1 with value: 0.9429842223455701.\u001b[0m\n",
      "/opt/conda/lib/python3.7/site-packages/xgboost/sklearn.py:1224: UserWarning: The use of label encoder in XGBClassifier is deprecated and will be removed in a future release. To remove this warning, do the following: 1) Pass option use_label_encoder=False when constructing XGBClassifier object; and 2) Encode your labels (y) as integers starting with 0, i.e. 0, 1, 2, ..., [num_class - 1].\n",
      "  warnings.warn(label_encoder_deprecation_msg, UserWarning)\n",
      "/opt/conda/lib/python3.7/site-packages/sklearn/preprocessing/_label.py:98: DataConversionWarning: A column-vector y was passed when a 1d array was expected. Please change the shape of y to (n_samples, ), for example using ravel().\n",
      "  y = column_or_1d(y, warn=True)\n",
      "/opt/conda/lib/python3.7/site-packages/sklearn/preprocessing/_label.py:133: DataConversionWarning: A column-vector y was passed when a 1d array was expected. Please change the shape of y to (n_samples, ), for example using ravel().\n",
      "  y = column_or_1d(y, warn=True)\n"
     ]
    },
    {
     "name": "stdout",
     "output_type": "stream",
     "text": [
      "[02:22:20] WARNING: ../src/learner.cc:1115: Starting in XGBoost 1.3.0, the default evaluation metric used with the objective 'binary:logistic' was changed from 'error' to 'logloss'. Explicitly set eval_metric if you'd like to restore the old behavior.\n"
     ]
    },
    {
     "name": "stderr",
     "output_type": "stream",
     "text": [
      "\u001b[32m[I 2022-03-06 02:22:26,964]\u001b[0m Trial 2 finished with value: 0.9404666641263066 and parameters: {'xgbclassifier__n_estimators': 19, 'xgbclassifier__max_depth': 3, 'xgbclassifier__eta': 0.12756712488940244, 'xgbclassifier__subsample': 0.5400640922364974, 'xgbclassifier__colsample_bytree': 0.4804341805862643}. Best is trial 1 with value: 0.9429842223455701.\u001b[0m\n",
      "/opt/conda/lib/python3.7/site-packages/xgboost/sklearn.py:1224: UserWarning: The use of label encoder in XGBClassifier is deprecated and will be removed in a future release. To remove this warning, do the following: 1) Pass option use_label_encoder=False when constructing XGBClassifier object; and 2) Encode your labels (y) as integers starting with 0, i.e. 0, 1, 2, ..., [num_class - 1].\n",
      "  warnings.warn(label_encoder_deprecation_msg, UserWarning)\n",
      "/opt/conda/lib/python3.7/site-packages/sklearn/preprocessing/_label.py:98: DataConversionWarning: A column-vector y was passed when a 1d array was expected. Please change the shape of y to (n_samples, ), for example using ravel().\n",
      "  y = column_or_1d(y, warn=True)\n",
      "/opt/conda/lib/python3.7/site-packages/sklearn/preprocessing/_label.py:133: DataConversionWarning: A column-vector y was passed when a 1d array was expected. Please change the shape of y to (n_samples, ), for example using ravel().\n",
      "  y = column_or_1d(y, warn=True)\n"
     ]
    },
    {
     "name": "stdout",
     "output_type": "stream",
     "text": [
      "[02:22:27] WARNING: ../src/learner.cc:1115: Starting in XGBoost 1.3.0, the default evaluation metric used with the objective 'binary:logistic' was changed from 'error' to 'logloss'. Explicitly set eval_metric if you'd like to restore the old behavior.\n"
     ]
    },
    {
     "name": "stderr",
     "output_type": "stream",
     "text": [
      "\u001b[32m[I 2022-03-06 02:22:36,571]\u001b[0m Trial 3 finished with value: 0.9489173175051363 and parameters: {'xgbclassifier__n_estimators': 18, 'xgbclassifier__max_depth': 12, 'xgbclassifier__eta': 0.12896252278266052, 'xgbclassifier__subsample': 0.572805638297615, 'xgbclassifier__colsample_bytree': 0.40713345625247593}. Best is trial 3 with value: 0.9489173175051363.\u001b[0m\n",
      "/opt/conda/lib/python3.7/site-packages/xgboost/sklearn.py:1224: UserWarning: The use of label encoder in XGBClassifier is deprecated and will be removed in a future release. To remove this warning, do the following: 1) Pass option use_label_encoder=False when constructing XGBClassifier object; and 2) Encode your labels (y) as integers starting with 0, i.e. 0, 1, 2, ..., [num_class - 1].\n",
      "  warnings.warn(label_encoder_deprecation_msg, UserWarning)\n",
      "/opt/conda/lib/python3.7/site-packages/sklearn/preprocessing/_label.py:98: DataConversionWarning: A column-vector y was passed when a 1d array was expected. Please change the shape of y to (n_samples, ), for example using ravel().\n",
      "  y = column_or_1d(y, warn=True)\n",
      "/opt/conda/lib/python3.7/site-packages/sklearn/preprocessing/_label.py:133: DataConversionWarning: A column-vector y was passed when a 1d array was expected. Please change the shape of y to (n_samples, ), for example using ravel().\n",
      "  y = column_or_1d(y, warn=True)\n"
     ]
    },
    {
     "name": "stdout",
     "output_type": "stream",
     "text": [
      "[02:22:36] WARNING: ../src/learner.cc:1115: Starting in XGBoost 1.3.0, the default evaluation metric used with the objective 'binary:logistic' was changed from 'error' to 'logloss'. Explicitly set eval_metric if you'd like to restore the old behavior.\n"
     ]
    },
    {
     "name": "stderr",
     "output_type": "stream",
     "text": [
      "\u001b[32m[I 2022-03-06 02:22:43,418]\u001b[0m Trial 4 finished with value: 0.941037801132577 and parameters: {'xgbclassifier__n_estimators': 18, 'xgbclassifier__max_depth': 16, 'xgbclassifier__eta': 0.10050412877482119, 'xgbclassifier__subsample': 0.41299964760734725, 'xgbclassifier__colsample_bytree': 0.5116426489388105}. Best is trial 3 with value: 0.9489173175051363.\u001b[0m\n",
      "/opt/conda/lib/python3.7/site-packages/xgboost/sklearn.py:1224: UserWarning: The use of label encoder in XGBClassifier is deprecated and will be removed in a future release. To remove this warning, do the following: 1) Pass option use_label_encoder=False when constructing XGBClassifier object; and 2) Encode your labels (y) as integers starting with 0, i.e. 0, 1, 2, ..., [num_class - 1].\n",
      "  warnings.warn(label_encoder_deprecation_msg, UserWarning)\n",
      "/opt/conda/lib/python3.7/site-packages/sklearn/preprocessing/_label.py:98: DataConversionWarning: A column-vector y was passed when a 1d array was expected. Please change the shape of y to (n_samples, ), for example using ravel().\n",
      "  y = column_or_1d(y, warn=True)\n",
      "/opt/conda/lib/python3.7/site-packages/sklearn/preprocessing/_label.py:133: DataConversionWarning: A column-vector y was passed when a 1d array was expected. Please change the shape of y to (n_samples, ), for example using ravel().\n",
      "  y = column_or_1d(y, warn=True)\n"
     ]
    },
    {
     "name": "stdout",
     "output_type": "stream",
     "text": [
      "[02:22:43] WARNING: ../src/learner.cc:1115: Starting in XGBoost 1.3.0, the default evaluation metric used with the objective 'binary:logistic' was changed from 'error' to 'logloss'. Explicitly set eval_metric if you'd like to restore the old behavior.\n"
     ]
    },
    {
     "name": "stderr",
     "output_type": "stream",
     "text": [
      "\u001b[32m[I 2022-03-06 02:22:48,122]\u001b[0m Trial 5 finished with value: 0.9495083362686393 and parameters: {'xgbclassifier__n_estimators': 11, 'xgbclassifier__max_depth': 6, 'xgbclassifier__eta': 0.16894061970913948, 'xgbclassifier__subsample': 0.7120669760118938, 'xgbclassifier__colsample_bytree': 0.6186209275285933}. Best is trial 5 with value: 0.9495083362686393.\u001b[0m\n",
      "/opt/conda/lib/python3.7/site-packages/xgboost/sklearn.py:1224: UserWarning: The use of label encoder in XGBClassifier is deprecated and will be removed in a future release. To remove this warning, do the following: 1) Pass option use_label_encoder=False when constructing XGBClassifier object; and 2) Encode your labels (y) as integers starting with 0, i.e. 0, 1, 2, ..., [num_class - 1].\n",
      "  warnings.warn(label_encoder_deprecation_msg, UserWarning)\n",
      "/opt/conda/lib/python3.7/site-packages/sklearn/preprocessing/_label.py:98: DataConversionWarning: A column-vector y was passed when a 1d array was expected. Please change the shape of y to (n_samples, ), for example using ravel().\n",
      "  y = column_or_1d(y, warn=True)\n",
      "/opt/conda/lib/python3.7/site-packages/sklearn/preprocessing/_label.py:133: DataConversionWarning: A column-vector y was passed when a 1d array was expected. Please change the shape of y to (n_samples, ), for example using ravel().\n",
      "  y = column_or_1d(y, warn=True)\n"
     ]
    },
    {
     "name": "stdout",
     "output_type": "stream",
     "text": [
      "[02:22:48] WARNING: ../src/learner.cc:1115: Starting in XGBoost 1.3.0, the default evaluation metric used with the objective 'binary:logistic' was changed from 'error' to 'logloss'. Explicitly set eval_metric if you'd like to restore the old behavior.\n"
     ]
    },
    {
     "name": "stderr",
     "output_type": "stream",
     "text": [
      "\u001b[32m[I 2022-03-06 02:22:53,628]\u001b[0m Trial 6 finished with value: 0.943311160384331 and parameters: {'xgbclassifier__n_estimators': 10, 'xgbclassifier__max_depth': 13, 'xgbclassifier__eta': 0.2920322854219043, 'xgbclassifier__subsample': 0.4392357616489895, 'xgbclassifier__colsample_bytree': 0.4678634135950527}. Best is trial 5 with value: 0.9495083362686393.\u001b[0m\n",
      "/opt/conda/lib/python3.7/site-packages/xgboost/sklearn.py:1224: UserWarning: The use of label encoder in XGBClassifier is deprecated and will be removed in a future release. To remove this warning, do the following: 1) Pass option use_label_encoder=False when constructing XGBClassifier object; and 2) Encode your labels (y) as integers starting with 0, i.e. 0, 1, 2, ..., [num_class - 1].\n",
      "  warnings.warn(label_encoder_deprecation_msg, UserWarning)\n",
      "/opt/conda/lib/python3.7/site-packages/sklearn/preprocessing/_label.py:98: DataConversionWarning: A column-vector y was passed when a 1d array was expected. Please change the shape of y to (n_samples, ), for example using ravel().\n",
      "  y = column_or_1d(y, warn=True)\n",
      "/opt/conda/lib/python3.7/site-packages/sklearn/preprocessing/_label.py:133: DataConversionWarning: A column-vector y was passed when a 1d array was expected. Please change the shape of y to (n_samples, ), for example using ravel().\n",
      "  y = column_or_1d(y, warn=True)\n"
     ]
    },
    {
     "name": "stdout",
     "output_type": "stream",
     "text": [
      "[02:22:53] WARNING: ../src/learner.cc:1115: Starting in XGBoost 1.3.0, the default evaluation metric used with the objective 'binary:logistic' was changed from 'error' to 'logloss'. Explicitly set eval_metric if you'd like to restore the old behavior.\n"
     ]
    },
    {
     "name": "stderr",
     "output_type": "stream",
     "text": [
      "\u001b[32m[I 2022-03-06 02:23:01,964]\u001b[0m Trial 7 finished with value: 0.9372420802566644 and parameters: {'xgbclassifier__n_estimators': 19, 'xgbclassifier__max_depth': 16, 'xgbclassifier__eta': 0.1912873498247978, 'xgbclassifier__subsample': 0.42070914724538094, 'xgbclassifier__colsample_bytree': 0.6297430832272273}. Best is trial 5 with value: 0.9495083362686393.\u001b[0m\n",
      "/opt/conda/lib/python3.7/site-packages/xgboost/sklearn.py:1224: UserWarning: The use of label encoder in XGBClassifier is deprecated and will be removed in a future release. To remove this warning, do the following: 1) Pass option use_label_encoder=False when constructing XGBClassifier object; and 2) Encode your labels (y) as integers starting with 0, i.e. 0, 1, 2, ..., [num_class - 1].\n",
      "  warnings.warn(label_encoder_deprecation_msg, UserWarning)\n",
      "/opt/conda/lib/python3.7/site-packages/sklearn/preprocessing/_label.py:98: DataConversionWarning: A column-vector y was passed when a 1d array was expected. Please change the shape of y to (n_samples, ), for example using ravel().\n",
      "  y = column_or_1d(y, warn=True)\n",
      "/opt/conda/lib/python3.7/site-packages/sklearn/preprocessing/_label.py:133: DataConversionWarning: A column-vector y was passed when a 1d array was expected. Please change the shape of y to (n_samples, ), for example using ravel().\n",
      "  y = column_or_1d(y, warn=True)\n",
      "/opt/conda/lib/python3.7/site-packages/xgboost/sklearn.py:1224: UserWarning: The use of label encoder in XGBClassifier is deprecated and will be removed in a future release. To remove this warning, do the following: 1) Pass option use_label_encoder=False when constructing XGBClassifier object; and 2) Encode your labels (y) as integers starting with 0, i.e. 0, 1, 2, ..., [num_class - 1].\n",
      "  warnings.warn(label_encoder_deprecation_msg, UserWarning)\n",
      "/opt/conda/lib/python3.7/site-packages/sklearn/preprocessing/_label.py:98: DataConversionWarning: A column-vector y was passed when a 1d array was expected. Please change the shape of y to (n_samples, ), for example using ravel().\n",
      "  y = column_or_1d(y, warn=True)\n",
      "/opt/conda/lib/python3.7/site-packages/sklearn/preprocessing/_label.py:133: DataConversionWarning: A column-vector y was passed when a 1d array was expected. Please change the shape of y to (n_samples, ), for example using ravel().\n",
      "  y = column_or_1d(y, warn=True)\n",
      "/opt/conda/lib/python3.7/site-packages/xgboost/sklearn.py:1224: UserWarning: The use of label encoder in XGBClassifier is deprecated and will be removed in a future release. To remove this warning, do the following: 1) Pass option use_label_encoder=False when constructing XGBClassifier object; and 2) Encode your labels (y) as integers starting with 0, i.e. 0, 1, 2, ..., [num_class - 1].\n",
      "  warnings.warn(label_encoder_deprecation_msg, UserWarning)\n",
      "/opt/conda/lib/python3.7/site-packages/sklearn/preprocessing/_label.py:98: DataConversionWarning: A column-vector y was passed when a 1d array was expected. Please change the shape of y to (n_samples, ), for example using ravel().\n",
      "  y = column_or_1d(y, warn=True)\n",
      "/opt/conda/lib/python3.7/site-packages/sklearn/preprocessing/_label.py:133: DataConversionWarning: A column-vector y was passed when a 1d array was expected. Please change the shape of y to (n_samples, ), for example using ravel().\n",
      "  y = column_or_1d(y, warn=True)\n",
      "/opt/conda/lib/python3.7/site-packages/xgboost/sklearn.py:1224: UserWarning: The use of label encoder in XGBClassifier is deprecated and will be removed in a future release. To remove this warning, do the following: 1) Pass option use_label_encoder=False when constructing XGBClassifier object; and 2) Encode your labels (y) as integers starting with 0, i.e. 0, 1, 2, ..., [num_class - 1].\n",
      "  warnings.warn(label_encoder_deprecation_msg, UserWarning)\n",
      "/opt/conda/lib/python3.7/site-packages/sklearn/preprocessing/_label.py:98: DataConversionWarning: A column-vector y was passed when a 1d array was expected. Please change the shape of y to (n_samples, ), for example using ravel().\n",
      "  y = column_or_1d(y, warn=True)\n",
      "/opt/conda/lib/python3.7/site-packages/sklearn/preprocessing/_label.py:133: DataConversionWarning: A column-vector y was passed when a 1d array was expected. Please change the shape of y to (n_samples, ), for example using ravel().\n",
      "  y = column_or_1d(y, warn=True)\n",
      "/opt/conda/lib/python3.7/site-packages/xgboost/sklearn.py:1224: UserWarning: The use of label encoder in XGBClassifier is deprecated and will be removed in a future release. To remove this warning, do the following: 1) Pass option use_label_encoder=False when constructing XGBClassifier object; and 2) Encode your labels (y) as integers starting with 0, i.e. 0, 1, 2, ..., [num_class - 1].\n",
      "  warnings.warn(label_encoder_deprecation_msg, UserWarning)\n",
      "/opt/conda/lib/python3.7/site-packages/sklearn/preprocessing/_label.py:98: DataConversionWarning: A column-vector y was passed when a 1d array was expected. Please change the shape of y to (n_samples, ), for example using ravel().\n",
      "  y = column_or_1d(y, warn=True)\n",
      "/opt/conda/lib/python3.7/site-packages/sklearn/preprocessing/_label.py:133: DataConversionWarning: A column-vector y was passed when a 1d array was expected. Please change the shape of y to (n_samples, ), for example using ravel().\n",
      "  y = column_or_1d(y, warn=True)\n",
      "/opt/conda/lib/python3.7/site-packages/xgboost/sklearn.py:1224: UserWarning: The use of label encoder in XGBClassifier is deprecated and will be removed in a future release. To remove this warning, do the following: 1) Pass option use_label_encoder=False when constructing XGBClassifier object; and 2) Encode your labels (y) as integers starting with 0, i.e. 0, 1, 2, ..., [num_class - 1].\n",
      "  warnings.warn(label_encoder_deprecation_msg, UserWarning)\n",
      "/opt/conda/lib/python3.7/site-packages/sklearn/preprocessing/_label.py:98: DataConversionWarning: A column-vector y was passed when a 1d array was expected. Please change the shape of y to (n_samples, ), for example using ravel().\n",
      "  y = column_or_1d(y, warn=True)\n",
      "/opt/conda/lib/python3.7/site-packages/sklearn/preprocessing/_label.py:133: DataConversionWarning: A column-vector y was passed when a 1d array was expected. Please change the shape of y to (n_samples, ), for example using ravel().\n",
      "  y = column_or_1d(y, warn=True)\n",
      "/opt/conda/lib/python3.7/site-packages/xgboost/sklearn.py:1224: UserWarning: The use of label encoder in XGBClassifier is deprecated and will be removed in a future release. To remove this warning, do the following: 1) Pass option use_label_encoder=False when constructing XGBClassifier object; and 2) Encode your labels (y) as integers starting with 0, i.e. 0, 1, 2, ..., [num_class - 1].\n",
      "  warnings.warn(label_encoder_deprecation_msg, UserWarning)\n",
      "/opt/conda/lib/python3.7/site-packages/sklearn/preprocessing/_label.py:98: DataConversionWarning: A column-vector y was passed when a 1d array was expected. Please change the shape of y to (n_samples, ), for example using ravel().\n",
      "  y = column_or_1d(y, warn=True)\n",
      "/opt/conda/lib/python3.7/site-packages/sklearn/preprocessing/_label.py:133: DataConversionWarning: A column-vector y was passed when a 1d array was expected. Please change the shape of y to (n_samples, ), for example using ravel().\n",
      "  y = column_or_1d(y, warn=True)\n",
      "/opt/conda/lib/python3.7/site-packages/xgboost/sklearn.py:1224: UserWarning: The use of label encoder in XGBClassifier is deprecated and will be removed in a future release. To remove this warning, do the following: 1) Pass option use_label_encoder=False when constructing XGBClassifier object; and 2) Encode your labels (y) as integers starting with 0, i.e. 0, 1, 2, ..., [num_class - 1].\n",
      "  warnings.warn(label_encoder_deprecation_msg, UserWarning)\n",
      "/opt/conda/lib/python3.7/site-packages/sklearn/preprocessing/_label.py:98: DataConversionWarning: A column-vector y was passed when a 1d array was expected. Please change the shape of y to (n_samples, ), for example using ravel().\n",
      "  y = column_or_1d(y, warn=True)\n",
      "/opt/conda/lib/python3.7/site-packages/sklearn/preprocessing/_label.py:133: DataConversionWarning: A column-vector y was passed when a 1d array was expected. Please change the shape of y to (n_samples, ), for example using ravel().\n",
      "  y = column_or_1d(y, warn=True)\n",
      "/opt/conda/lib/python3.7/site-packages/xgboost/sklearn.py:1224: UserWarning: The use of label encoder in XGBClassifier is deprecated and will be removed in a future release. To remove this warning, do the following: 1) Pass option use_label_encoder=False when constructing XGBClassifier object; and 2) Encode your labels (y) as integers starting with 0, i.e. 0, 1, 2, ..., [num_class - 1].\n",
      "  warnings.warn(label_encoder_deprecation_msg, UserWarning)\n",
      "/opt/conda/lib/python3.7/site-packages/sklearn/preprocessing/_label.py:98: DataConversionWarning: A column-vector y was passed when a 1d array was expected. Please change the shape of y to (n_samples, ), for example using ravel().\n",
      "  y = column_or_1d(y, warn=True)\n",
      "/opt/conda/lib/python3.7/site-packages/sklearn/preprocessing/_label.py:133: DataConversionWarning: A column-vector y was passed when a 1d array was expected. Please change the shape of y to (n_samples, ), for example using ravel().\n",
      "  y = column_or_1d(y, warn=True)\n",
      "/opt/conda/lib/python3.7/site-packages/xgboost/sklearn.py:1224: UserWarning: The use of label encoder in XGBClassifier is deprecated and will be removed in a future release. To remove this warning, do the following: 1) Pass option use_label_encoder=False when constructing XGBClassifier object; and 2) Encode your labels (y) as integers starting with 0, i.e. 0, 1, 2, ..., [num_class - 1].\n",
      "  warnings.warn(label_encoder_deprecation_msg, UserWarning)\n"
     ]
    },
    {
     "name": "stdout",
     "output_type": "stream",
     "text": [
      "[02:23:02] WARNING: ../src/learner.cc:1115: Starting in XGBoost 1.3.0, the default evaluation metric used with the objective 'binary:logistic' was changed from 'error' to 'logloss'. Explicitly set eval_metric if you'd like to restore the old behavior.\n"
     ]
    },
    {
     "name": "stderr",
     "output_type": "stream",
     "text": [
      "\u001b[32m[I 2022-03-06 02:23:08,051]\u001b[0m Trial 8 finished with value: 0.9471284746310932 and parameters: {'xgbclassifier__n_estimators': 16, 'xgbclassifier__max_depth': 6, 'xgbclassifier__eta': 0.1191746896971995, 'xgbclassifier__subsample': 0.5994749889134076, 'xgbclassifier__colsample_bytree': 0.6777422974407031}. Best is trial 5 with value: 0.9495083362686393.\u001b[0m\n",
      "/opt/conda/lib/python3.7/site-packages/xgboost/sklearn.py:1224: UserWarning: The use of label encoder in XGBClassifier is deprecated and will be removed in a future release. To remove this warning, do the following: 1) Pass option use_label_encoder=False when constructing XGBClassifier object; and 2) Encode your labels (y) as integers starting with 0, i.e. 0, 1, 2, ..., [num_class - 1].\n",
      "  warnings.warn(label_encoder_deprecation_msg, UserWarning)\n",
      "/opt/conda/lib/python3.7/site-packages/sklearn/preprocessing/_label.py:98: DataConversionWarning: A column-vector y was passed when a 1d array was expected. Please change the shape of y to (n_samples, ), for example using ravel().\n",
      "  y = column_or_1d(y, warn=True)\n",
      "/opt/conda/lib/python3.7/site-packages/sklearn/preprocessing/_label.py:133: DataConversionWarning: A column-vector y was passed when a 1d array was expected. Please change the shape of y to (n_samples, ), for example using ravel().\n",
      "  y = column_or_1d(y, warn=True)\n"
     ]
    },
    {
     "name": "stdout",
     "output_type": "stream",
     "text": [
      "[02:23:08] WARNING: ../src/learner.cc:1115: Starting in XGBoost 1.3.0, the default evaluation metric used with the objective 'binary:logistic' was changed from 'error' to 'logloss'. Explicitly set eval_metric if you'd like to restore the old behavior.\n"
     ]
    },
    {
     "name": "stderr",
     "output_type": "stream",
     "text": [
      "\u001b[32m[I 2022-03-06 02:23:15,372]\u001b[0m Trial 9 finished with value: 0.9513628735346903 and parameters: {'xgbclassifier__n_estimators': 14, 'xgbclassifier__max_depth': 16, 'xgbclassifier__eta': 0.10151516778192593, 'xgbclassifier__subsample': 0.5998799664505702, 'xgbclassifier__colsample_bytree': 0.42987132183567195}. Best is trial 9 with value: 0.9513628735346903.\u001b[0m\n"
     ]
    }
   ],
   "source": [
    "study_rfr = optuna.create_study(direction = \"maximize\")\n",
    "study_rfr.optimize(objective, n_trials = 10)"
   ]
  },
  {
   "cell_type": "code",
   "execution_count": 22,
   "id": "c1ba4539",
   "metadata": {
    "execution": {
     "iopub.execute_input": "2022-03-06T02:23:15.507285Z",
     "iopub.status.busy": "2022-03-06T02:23:15.504594Z",
     "iopub.status.idle": "2022-03-06T02:23:15.511272Z",
     "shell.execute_reply": "2022-03-06T02:23:15.510541Z",
     "shell.execute_reply.started": "2022-03-06T00:36:30.454246Z"
    },
    "papermill": {
     "duration": 0.051929,
     "end_time": "2022-03-06T02:23:15.511468",
     "exception": false,
     "start_time": "2022-03-06T02:23:15.459539",
     "status": "completed"
    },
    "tags": []
   },
   "outputs": [
    {
     "name": "stdout",
     "output_type": "stream",
     "text": [
      "FrozenTrial(number=9, values=[0.9513628735346903], datetime_start=datetime.datetime(2022, 3, 6, 2, 23, 8, 53155), datetime_complete=datetime.datetime(2022, 3, 6, 2, 23, 15, 371633), params={'xgbclassifier__n_estimators': 14, 'xgbclassifier__max_depth': 16, 'xgbclassifier__eta': 0.10151516778192593, 'xgbclassifier__subsample': 0.5998799664505702, 'xgbclassifier__colsample_bytree': 0.42987132183567195}, distributions={'xgbclassifier__n_estimators': IntLogUniformDistribution(high=20, low=10, step=1), 'xgbclassifier__max_depth': IntLogUniformDistribution(high=20, low=3, step=1), 'xgbclassifier__eta': LogUniformDistribution(high=0.3, low=0.1), 'xgbclassifier__subsample': LogUniformDistribution(high=0.8, low=0.4), 'xgbclassifier__colsample_bytree': LogUniformDistribution(high=0.8, low=0.4)}, user_attrs={}, system_attrs={}, intermediate_values={}, trial_id=9, state=TrialState.COMPLETE, value=None)\n"
     ]
    }
   ],
   "source": [
    "print(study_rfr.best_trial)"
   ]
  },
  {
   "cell_type": "code",
   "execution_count": 23,
   "id": "30ff9c0a",
   "metadata": {
    "execution": {
     "iopub.execute_input": "2022-03-06T02:23:15.599637Z",
     "iopub.status.busy": "2022-03-06T02:23:15.597479Z",
     "iopub.status.idle": "2022-03-06T02:23:15.602822Z",
     "shell.execute_reply": "2022-03-06T02:23:15.603519Z",
     "shell.execute_reply.started": "2022-03-06T00:36:30.471641Z"
    },
    "papermill": {
     "duration": 0.050916,
     "end_time": "2022-03-06T02:23:15.603743",
     "exception": false,
     "start_time": "2022-03-06T02:23:15.552827",
     "status": "completed"
    },
    "tags": []
   },
   "outputs": [
    {
     "name": "stdout",
     "output_type": "stream",
     "text": [
      "{'xgbclassifier__n_estimators': 14, 'xgbclassifier__max_depth': 16, 'xgbclassifier__eta': 0.10151516778192593, 'xgbclassifier__subsample': 0.5998799664505702, 'xgbclassifier__colsample_bytree': 0.42987132183567195}\n"
     ]
    }
   ],
   "source": [
    "print(study_rfr.best_params)"
   ]
  },
  {
   "cell_type": "code",
   "execution_count": 24,
   "id": "91cf4094",
   "metadata": {
    "execution": {
     "iopub.execute_input": "2022-03-06T02:23:15.694055Z",
     "iopub.status.busy": "2022-03-06T02:23:15.691995Z",
     "iopub.status.idle": "2022-03-06T02:23:15.697601Z",
     "shell.execute_reply": "2022-03-06T02:23:15.697110Z",
     "shell.execute_reply.started": "2022-03-06T00:36:30.479712Z"
    },
    "papermill": {
     "duration": 0.051684,
     "end_time": "2022-03-06T02:23:15.697733",
     "exception": false,
     "start_time": "2022-03-06T02:23:15.646049",
     "status": "completed"
    },
    "tags": []
   },
   "outputs": [
    {
     "name": "stdout",
     "output_type": "stream",
     "text": [
      "0.9513628735346903\n"
     ]
    }
   ],
   "source": [
    "print(study_rfr.best_value)"
   ]
  },
  {
   "cell_type": "code",
   "execution_count": 25,
   "id": "5d62cced",
   "metadata": {
    "execution": {
     "iopub.execute_input": "2022-03-06T02:23:15.783237Z",
     "iopub.status.busy": "2022-03-06T02:23:15.782604Z",
     "iopub.status.idle": "2022-03-06T02:23:15.840006Z",
     "shell.execute_reply": "2022-03-06T02:23:15.839488Z",
     "shell.execute_reply.started": "2022-03-06T00:36:30.489799Z"
    },
    "papermill": {
     "duration": 0.102098,
     "end_time": "2022-03-06T02:23:15.840157",
     "exception": false,
     "start_time": "2022-03-06T02:23:15.738059",
     "status": "completed"
    },
    "tags": []
   },
   "outputs": [
    {
     "data": {
      "text/plain": [
       "Pipeline(steps=[('columntransformer',\n",
       "                 ColumnTransformer(transformers=[('category_transformer',\n",
       "                                                  Pipeline(steps=[('imputer_category',\n",
       "                                                                   SimpleImputer(strategy='most_frequent')),\n",
       "                                                                  ('onehot',\n",
       "                                                                   OneHotEncoder(handle_unknown='ignore'))]),\n",
       "                                                  ['gender']),\n",
       "                                                 ('numeric_transfomer',\n",
       "                                                  Pipeline(steps=[('imputer_numeric',\n",
       "                                                                   SimpleImputer()),\n",
       "                                                                  ('scaler',\n",
       "                                                                   StandardScaler())]),\n",
       "                                                  ['age', 'poly...\n",
       "                               importance_type=None, interaction_constraints='',\n",
       "                               learning_rate=0.212328777, max_delta_step=0,\n",
       "                               max_depth=16, min_child_weight=1, missing=nan,\n",
       "                               monotone_constraints='()', n_estimators=14,\n",
       "                               n_jobs=4, num_parallel_tree=1, predictor='auto',\n",
       "                               random_state=0, reg_alpha=0, reg_lambda=1,\n",
       "                               scale_pos_weight=1, subsample=0.5998799664505702,\n",
       "                               tree_method='exact', validate_parameters=1,\n",
       "                               verbosity=None))])"
      ]
     },
     "execution_count": 25,
     "metadata": {},
     "output_type": "execute_result"
    }
   ],
   "source": [
    "pipeline_rf.set_params(**study_rfr.best_params)"
   ]
  },
  {
   "cell_type": "code",
   "execution_count": 26,
   "id": "683721da",
   "metadata": {
    "execution": {
     "iopub.execute_input": "2022-03-06T02:23:15.925102Z",
     "iopub.status.busy": "2022-03-06T02:23:15.924505Z",
     "iopub.status.idle": "2022-03-06T02:23:16.055606Z",
     "shell.execute_reply": "2022-03-06T02:23:16.056086Z",
     "shell.execute_reply.started": "2022-03-06T00:36:30.633602Z"
    },
    "papermill": {
     "duration": 0.175352,
     "end_time": "2022-03-06T02:23:16.056253",
     "exception": false,
     "start_time": "2022-03-06T02:23:15.880901",
     "status": "completed"
    },
    "tags": []
   },
   "outputs": [
    {
     "name": "stdout",
     "output_type": "stream",
     "text": [
      "[02:23:15] WARNING: ../src/learner.cc:1115: Starting in XGBoost 1.3.0, the default evaluation metric used with the objective 'binary:logistic' was changed from 'error' to 'logloss'. Explicitly set eval_metric if you'd like to restore the old behavior.\n"
     ]
    },
    {
     "name": "stderr",
     "output_type": "stream",
     "text": [
      "/opt/conda/lib/python3.7/site-packages/xgboost/sklearn.py:1224: UserWarning: The use of label encoder in XGBClassifier is deprecated and will be removed in a future release. To remove this warning, do the following: 1) Pass option use_label_encoder=False when constructing XGBClassifier object; and 2) Encode your labels (y) as integers starting with 0, i.e. 0, 1, 2, ..., [num_class - 1].\n",
      "  warnings.warn(label_encoder_deprecation_msg, UserWarning)\n",
      "/opt/conda/lib/python3.7/site-packages/sklearn/preprocessing/_label.py:98: DataConversionWarning: A column-vector y was passed when a 1d array was expected. Please change the shape of y to (n_samples, ), for example using ravel().\n",
      "  y = column_or_1d(y, warn=True)\n",
      "/opt/conda/lib/python3.7/site-packages/sklearn/preprocessing/_label.py:133: DataConversionWarning: A column-vector y was passed when a 1d array was expected. Please change the shape of y to (n_samples, ), for example using ravel().\n",
      "  y = column_or_1d(y, warn=True)\n"
     ]
    },
    {
     "data": {
      "text/plain": [
       "Pipeline(steps=[('columntransformer',\n",
       "                 ColumnTransformer(transformers=[('category_transformer',\n",
       "                                                  Pipeline(steps=[('imputer_category',\n",
       "                                                                   SimpleImputer(strategy='most_frequent')),\n",
       "                                                                  ('onehot',\n",
       "                                                                   OneHotEncoder(handle_unknown='ignore'))]),\n",
       "                                                  ['gender']),\n",
       "                                                 ('numeric_transfomer',\n",
       "                                                  Pipeline(steps=[('imputer_numeric',\n",
       "                                                                   SimpleImputer()),\n",
       "                                                                  ('scaler',\n",
       "                                                                   StandardScaler())]),\n",
       "                                                  ['age', 'poly...\n",
       "                               importance_type=None, interaction_constraints='',\n",
       "                               learning_rate=0.212328777, max_delta_step=0,\n",
       "                               max_depth=16, min_child_weight=1, missing=nan,\n",
       "                               monotone_constraints='()', n_estimators=14,\n",
       "                               n_jobs=4, num_parallel_tree=1, predictor='auto',\n",
       "                               random_state=0, reg_alpha=0, reg_lambda=1,\n",
       "                               scale_pos_weight=1, subsample=0.5998799664505702,\n",
       "                               tree_method='exact', validate_parameters=1,\n",
       "                               verbosity=None))])"
      ]
     },
     "execution_count": 26,
     "metadata": {},
     "output_type": "execute_result"
    }
   ],
   "source": [
    "pipeline_rf.fit(X_train, y_train)"
   ]
  },
  {
   "cell_type": "code",
   "execution_count": 27,
   "id": "8e752b83",
   "metadata": {
    "execution": {
     "iopub.execute_input": "2022-03-06T02:23:16.142094Z",
     "iopub.status.busy": "2022-03-06T02:23:16.141305Z",
     "iopub.status.idle": "2022-03-06T02:23:16.174415Z",
     "shell.execute_reply": "2022-03-06T02:23:16.174988Z",
     "shell.execute_reply.started": "2022-03-06T00:36:30.861638Z"
    },
    "papermill": {
     "duration": 0.077507,
     "end_time": "2022-03-06T02:23:16.175191",
     "exception": false,
     "start_time": "2022-03-06T02:23:16.097684",
     "status": "completed"
    },
    "tags": []
   },
   "outputs": [],
   "source": [
    "y_train_pred = pipeline_rf.predict(X_train)\n",
    "y_test_pred = pipeline_rf.predict(X_test)"
   ]
  },
  {
   "cell_type": "code",
   "execution_count": 28,
   "id": "76d5d969",
   "metadata": {
    "execution": {
     "iopub.execute_input": "2022-03-06T02:23:16.263625Z",
     "iopub.status.busy": "2022-03-06T02:23:16.262864Z",
     "iopub.status.idle": "2022-03-06T02:23:16.269205Z",
     "shell.execute_reply": "2022-03-06T02:23:16.268714Z",
     "shell.execute_reply.started": "2022-03-06T00:36:30.901053Z"
    },
    "papermill": {
     "duration": 0.052531,
     "end_time": "2022-03-06T02:23:16.269338",
     "exception": false,
     "start_time": "2022-03-06T02:23:16.216807",
     "status": "completed"
    },
    "tags": []
   },
   "outputs": [
    {
     "name": "stdout",
     "output_type": "stream",
     "text": [
      "[[161   5]\n",
      " [  7 243]]\n",
      "[[32  2]\n",
      " [ 5 65]]\n"
     ]
    }
   ],
   "source": [
    "from sklearn.metrics import confusion_matrix\n",
    "print(confusion_matrix(y_train, y_train_pred))\n",
    "print(confusion_matrix(y_test, y_test_pred))"
   ]
  },
  {
   "cell_type": "code",
   "execution_count": 29,
   "id": "2273138a",
   "metadata": {
    "execution": {
     "iopub.execute_input": "2022-03-06T02:23:16.356439Z",
     "iopub.status.busy": "2022-03-06T02:23:16.355014Z",
     "iopub.status.idle": "2022-03-06T02:23:16.367696Z",
     "shell.execute_reply": "2022-03-06T02:23:16.368276Z",
     "shell.execute_reply.started": "2022-03-06T00:36:30.914963Z"
    },
    "papermill": {
     "duration": 0.057799,
     "end_time": "2022-03-06T02:23:16.368465",
     "exception": false,
     "start_time": "2022-03-06T02:23:16.310666",
     "status": "completed"
    },
    "tags": []
   },
   "outputs": [
    {
     "name": "stdout",
     "output_type": "stream",
     "text": [
      "              precision    recall  f1-score   support\n",
      "\n",
      "           0       0.96      0.97      0.96       166\n",
      "           1       0.98      0.97      0.98       250\n",
      "\n",
      "    accuracy                           0.97       416\n",
      "   macro avg       0.97      0.97      0.97       416\n",
      "weighted avg       0.97      0.97      0.97       416\n",
      "\n",
      "              precision    recall  f1-score   support\n",
      "\n",
      "           0       0.86      0.94      0.90        34\n",
      "           1       0.97      0.93      0.95        70\n",
      "\n",
      "    accuracy                           0.93       104\n",
      "   macro avg       0.92      0.93      0.93       104\n",
      "weighted avg       0.94      0.93      0.93       104\n",
      "\n"
     ]
    }
   ],
   "source": [
    "from sklearn.metrics import classification_report\n",
    "print(classification_report(y_train, y_train_pred))\n",
    "print(classification_report(y_test, y_test_pred))"
   ]
  },
  {
   "cell_type": "code",
   "execution_count": 30,
   "id": "d1582c0e",
   "metadata": {
    "execution": {
     "iopub.execute_input": "2022-03-06T02:23:16.457726Z",
     "iopub.status.busy": "2022-03-06T02:23:16.457107Z",
     "iopub.status.idle": "2022-03-06T02:23:16.555107Z",
     "shell.execute_reply": "2022-03-06T02:23:16.555539Z",
     "shell.execute_reply.started": "2022-03-06T00:36:30.936077Z"
    },
    "papermill": {
     "duration": 0.145782,
     "end_time": "2022-03-06T02:23:16.555716",
     "exception": false,
     "start_time": "2022-03-06T02:23:16.409934",
     "status": "completed"
    },
    "tags": []
   },
   "outputs": [
    {
     "data": {
      "text/html": [
       "<style>#sk-8d21061e-6db0-4c6f-bfbb-be8c433a0b15 {color: black;background-color: white;}#sk-8d21061e-6db0-4c6f-bfbb-be8c433a0b15 pre{padding: 0;}#sk-8d21061e-6db0-4c6f-bfbb-be8c433a0b15 div.sk-toggleable {background-color: white;}#sk-8d21061e-6db0-4c6f-bfbb-be8c433a0b15 label.sk-toggleable__label {cursor: pointer;display: block;width: 100%;margin-bottom: 0;padding: 0.3em;box-sizing: border-box;text-align: center;}#sk-8d21061e-6db0-4c6f-bfbb-be8c433a0b15 div.sk-toggleable__content {max-height: 0;max-width: 0;overflow: hidden;text-align: left;background-color: #f0f8ff;}#sk-8d21061e-6db0-4c6f-bfbb-be8c433a0b15 div.sk-toggleable__content pre {margin: 0.2em;color: black;border-radius: 0.25em;background-color: #f0f8ff;}#sk-8d21061e-6db0-4c6f-bfbb-be8c433a0b15 input.sk-toggleable__control:checked~div.sk-toggleable__content {max-height: 200px;max-width: 100%;overflow: auto;}#sk-8d21061e-6db0-4c6f-bfbb-be8c433a0b15 div.sk-estimator input.sk-toggleable__control:checked~label.sk-toggleable__label {background-color: #d4ebff;}#sk-8d21061e-6db0-4c6f-bfbb-be8c433a0b15 div.sk-label input.sk-toggleable__control:checked~label.sk-toggleable__label {background-color: #d4ebff;}#sk-8d21061e-6db0-4c6f-bfbb-be8c433a0b15 input.sk-hidden--visually {border: 0;clip: rect(1px 1px 1px 1px);clip: rect(1px, 1px, 1px, 1px);height: 1px;margin: -1px;overflow: hidden;padding: 0;position: absolute;width: 1px;}#sk-8d21061e-6db0-4c6f-bfbb-be8c433a0b15 div.sk-estimator {font-family: monospace;background-color: #f0f8ff;border: 1px dotted black;border-radius: 0.25em;box-sizing: border-box;margin-bottom: 0.5em;}#sk-8d21061e-6db0-4c6f-bfbb-be8c433a0b15 div.sk-estimator:hover {background-color: #d4ebff;}#sk-8d21061e-6db0-4c6f-bfbb-be8c433a0b15 div.sk-parallel-item::after {content: \"\";width: 100%;border-bottom: 1px solid gray;flex-grow: 1;}#sk-8d21061e-6db0-4c6f-bfbb-be8c433a0b15 div.sk-label:hover label.sk-toggleable__label {background-color: #d4ebff;}#sk-8d21061e-6db0-4c6f-bfbb-be8c433a0b15 div.sk-serial::before {content: \"\";position: absolute;border-left: 1px solid gray;box-sizing: border-box;top: 2em;bottom: 0;left: 50%;}#sk-8d21061e-6db0-4c6f-bfbb-be8c433a0b15 div.sk-serial {display: flex;flex-direction: column;align-items: center;background-color: white;padding-right: 0.2em;padding-left: 0.2em;}#sk-8d21061e-6db0-4c6f-bfbb-be8c433a0b15 div.sk-item {z-index: 1;}#sk-8d21061e-6db0-4c6f-bfbb-be8c433a0b15 div.sk-parallel {display: flex;align-items: stretch;justify-content: center;background-color: white;}#sk-8d21061e-6db0-4c6f-bfbb-be8c433a0b15 div.sk-parallel::before {content: \"\";position: absolute;border-left: 1px solid gray;box-sizing: border-box;top: 2em;bottom: 0;left: 50%;}#sk-8d21061e-6db0-4c6f-bfbb-be8c433a0b15 div.sk-parallel-item {display: flex;flex-direction: column;position: relative;background-color: white;}#sk-8d21061e-6db0-4c6f-bfbb-be8c433a0b15 div.sk-parallel-item:first-child::after {align-self: flex-end;width: 50%;}#sk-8d21061e-6db0-4c6f-bfbb-be8c433a0b15 div.sk-parallel-item:last-child::after {align-self: flex-start;width: 50%;}#sk-8d21061e-6db0-4c6f-bfbb-be8c433a0b15 div.sk-parallel-item:only-child::after {width: 0;}#sk-8d21061e-6db0-4c6f-bfbb-be8c433a0b15 div.sk-dashed-wrapped {border: 1px dashed gray;margin: 0 0.4em 0.5em 0.4em;box-sizing: border-box;padding-bottom: 0.4em;background-color: white;position: relative;}#sk-8d21061e-6db0-4c6f-bfbb-be8c433a0b15 div.sk-label label {font-family: monospace;font-weight: bold;background-color: white;display: inline-block;line-height: 1.2em;}#sk-8d21061e-6db0-4c6f-bfbb-be8c433a0b15 div.sk-label-container {position: relative;z-index: 2;text-align: center;}#sk-8d21061e-6db0-4c6f-bfbb-be8c433a0b15 div.sk-container {display: inline-block;position: relative;}</style><div id=\"sk-8d21061e-6db0-4c6f-bfbb-be8c433a0b15\" class\"sk-top-container\"><div class=\"sk-container\"><div class=\"sk-item sk-dashed-wrapped\"><div class=\"sk-label-container\"><div class=\"sk-label sk-toggleable\"><input class=\"sk-toggleable__control sk-hidden--visually\" id=\"2fae167e-c939-4bd3-b1d7-4da77abf7308\" type=\"checkbox\" ><label class=\"sk-toggleable__label\" for=\"2fae167e-c939-4bd3-b1d7-4da77abf7308\">Pipeline</label><div class=\"sk-toggleable__content\"><pre>Pipeline(steps=[('columntransformer',\n",
       "                 ColumnTransformer(transformers=[('category_transformer',\n",
       "                                                  Pipeline(steps=[('imputer_category',\n",
       "                                                                   SimpleImputer(strategy='most_frequent')),\n",
       "                                                                  ('onehot',\n",
       "                                                                   OneHotEncoder(handle_unknown='ignore'))]),\n",
       "                                                  ['gender']),\n",
       "                                                 ('numeric_transfomer',\n",
       "                                                  Pipeline(steps=[('imputer_numeric',\n",
       "                                                                   SimpleImputer()),\n",
       "                                                                  ('scaler',\n",
       "                                                                   StandardScaler())]),\n",
       "                                                  ['age', 'poly...\n",
       "                               importance_type=None, interaction_constraints='',\n",
       "                               learning_rate=0.212328777, max_delta_step=0,\n",
       "                               max_depth=16, min_child_weight=1, missing=nan,\n",
       "                               monotone_constraints='()', n_estimators=14,\n",
       "                               n_jobs=4, num_parallel_tree=1, predictor='auto',\n",
       "                               random_state=0, reg_alpha=0, reg_lambda=1,\n",
       "                               scale_pos_weight=1, subsample=0.5998799664505702,\n",
       "                               tree_method='exact', validate_parameters=1,\n",
       "                               verbosity=None))])</pre></div></div></div><div class=\"sk-serial\"><div class=\"sk-item sk-dashed-wrapped\"><div class=\"sk-label-container\"><div class=\"sk-label sk-toggleable\"><input class=\"sk-toggleable__control sk-hidden--visually\" id=\"a468830a-782c-4f3c-ac53-fbbffed2018f\" type=\"checkbox\" ><label class=\"sk-toggleable__label\" for=\"a468830a-782c-4f3c-ac53-fbbffed2018f\">columntransformer: ColumnTransformer</label><div class=\"sk-toggleable__content\"><pre>ColumnTransformer(transformers=[('category_transformer',\n",
       "                                 Pipeline(steps=[('imputer_category',\n",
       "                                                  SimpleImputer(strategy='most_frequent')),\n",
       "                                                 ('onehot',\n",
       "                                                  OneHotEncoder(handle_unknown='ignore'))]),\n",
       "                                 ['gender']),\n",
       "                                ('numeric_transfomer',\n",
       "                                 Pipeline(steps=[('imputer_numeric',\n",
       "                                                  SimpleImputer()),\n",
       "                                                 ('scaler', StandardScaler())]),\n",
       "                                 ['age', 'polyuria', 'polydipsia',\n",
       "                                  'sudden_weight_loss', 'weakness',\n",
       "                                  'polyphagia', 'genital_thrush',\n",
       "                                  'visual_blurring', 'itching', 'irritability',\n",
       "                                  'delayed_healing', 'partial_paresis',\n",
       "                                  'muscle_stiffness', 'alopecia', 'obesity'])])</pre></div></div></div><div class=\"sk-parallel\"><div class=\"sk-parallel-item\"><div class=\"sk-item\"><div class=\"sk-label-container\"><div class=\"sk-label sk-toggleable\"><input class=\"sk-toggleable__control sk-hidden--visually\" id=\"0783a500-4600-4b8d-9c59-8d4f037dc962\" type=\"checkbox\" ><label class=\"sk-toggleable__label\" for=\"0783a500-4600-4b8d-9c59-8d4f037dc962\">category_transformer</label><div class=\"sk-toggleable__content\"><pre>['gender']</pre></div></div></div><div class=\"sk-serial\"><div class=\"sk-item\"><div class=\"sk-serial\"><div class=\"sk-item\"><div class=\"sk-estimator sk-toggleable\"><input class=\"sk-toggleable__control sk-hidden--visually\" id=\"edaf8561-329f-4e1c-aa30-3ee9d847964b\" type=\"checkbox\" ><label class=\"sk-toggleable__label\" for=\"edaf8561-329f-4e1c-aa30-3ee9d847964b\">SimpleImputer</label><div class=\"sk-toggleable__content\"><pre>SimpleImputer(strategy='most_frequent')</pre></div></div></div><div class=\"sk-item\"><div class=\"sk-estimator sk-toggleable\"><input class=\"sk-toggleable__control sk-hidden--visually\" id=\"83fe5118-f6fa-4b63-b2ba-535d30df4678\" type=\"checkbox\" ><label class=\"sk-toggleable__label\" for=\"83fe5118-f6fa-4b63-b2ba-535d30df4678\">OneHotEncoder</label><div class=\"sk-toggleable__content\"><pre>OneHotEncoder(handle_unknown='ignore')</pre></div></div></div></div></div></div></div></div><div class=\"sk-parallel-item\"><div class=\"sk-item\"><div class=\"sk-label-container\"><div class=\"sk-label sk-toggleable\"><input class=\"sk-toggleable__control sk-hidden--visually\" id=\"b98fc524-7b3e-46fa-b01b-a2be1cf31b9c\" type=\"checkbox\" ><label class=\"sk-toggleable__label\" for=\"b98fc524-7b3e-46fa-b01b-a2be1cf31b9c\">numeric_transfomer</label><div class=\"sk-toggleable__content\"><pre>['age', 'polyuria', 'polydipsia', 'sudden_weight_loss', 'weakness', 'polyphagia', 'genital_thrush', 'visual_blurring', 'itching', 'irritability', 'delayed_healing', 'partial_paresis', 'muscle_stiffness', 'alopecia', 'obesity']</pre></div></div></div><div class=\"sk-serial\"><div class=\"sk-item\"><div class=\"sk-serial\"><div class=\"sk-item\"><div class=\"sk-estimator sk-toggleable\"><input class=\"sk-toggleable__control sk-hidden--visually\" id=\"c4f31eaa-a03d-4c8c-a899-a32decfc1469\" type=\"checkbox\" ><label class=\"sk-toggleable__label\" for=\"c4f31eaa-a03d-4c8c-a899-a32decfc1469\">SimpleImputer</label><div class=\"sk-toggleable__content\"><pre>SimpleImputer()</pre></div></div></div><div class=\"sk-item\"><div class=\"sk-estimator sk-toggleable\"><input class=\"sk-toggleable__control sk-hidden--visually\" id=\"462fda4e-f8f4-42ef-ad72-9de1b3110fed\" type=\"checkbox\" ><label class=\"sk-toggleable__label\" for=\"462fda4e-f8f4-42ef-ad72-9de1b3110fed\">StandardScaler</label><div class=\"sk-toggleable__content\"><pre>StandardScaler()</pre></div></div></div></div></div></div></div></div></div></div><div class=\"sk-item\"><div class=\"sk-estimator sk-toggleable\"><input class=\"sk-toggleable__control sk-hidden--visually\" id=\"90123a3f-7b2a-4483-8525-2915e1826bd7\" type=\"checkbox\" ><label class=\"sk-toggleable__label\" for=\"90123a3f-7b2a-4483-8525-2915e1826bd7\">XGBClassifier</label><div class=\"sk-toggleable__content\"><pre>XGBClassifier(base_score=0.5, booster='gbtree', colsample_bylevel=1,\n",
       "              colsample_bynode=1, colsample_bytree=0.42987132183567195,\n",
       "              enable_categorical=False, eta=0.10151516778192593, gamma=0,\n",
       "              gpu_id=-1, importance_type=None, interaction_constraints='',\n",
       "              learning_rate=0.212328777, max_delta_step=0, max_depth=16,\n",
       "              min_child_weight=1, missing=nan, monotone_constraints='()',\n",
       "              n_estimators=14, n_jobs=4, num_parallel_tree=1, predictor='auto',\n",
       "              random_state=0, reg_alpha=0, reg_lambda=1, scale_pos_weight=1,\n",
       "              subsample=0.5998799664505702, tree_method='exact',\n",
       "              validate_parameters=1, verbosity=None)</pre></div></div></div></div></div></div></div>"
      ],
      "text/plain": [
       "Pipeline(steps=[('columntransformer',\n",
       "                 ColumnTransformer(transformers=[('category_transformer',\n",
       "                                                  Pipeline(steps=[('imputer_category',\n",
       "                                                                   SimpleImputer(strategy='most_frequent')),\n",
       "                                                                  ('onehot',\n",
       "                                                                   OneHotEncoder(handle_unknown='ignore'))]),\n",
       "                                                  ['gender']),\n",
       "                                                 ('numeric_transfomer',\n",
       "                                                  Pipeline(steps=[('imputer_numeric',\n",
       "                                                                   SimpleImputer()),\n",
       "                                                                  ('scaler',\n",
       "                                                                   StandardScaler())]),\n",
       "                                                  ['age', 'poly...\n",
       "                               importance_type=None, interaction_constraints='',\n",
       "                               learning_rate=0.212328777, max_delta_step=0,\n",
       "                               max_depth=16, min_child_weight=1, missing=nan,\n",
       "                               monotone_constraints='()', n_estimators=14,\n",
       "                               n_jobs=4, num_parallel_tree=1, predictor='auto',\n",
       "                               random_state=0, reg_alpha=0, reg_lambda=1,\n",
       "                               scale_pos_weight=1, subsample=0.5998799664505702,\n",
       "                               tree_method='exact', validate_parameters=1,\n",
       "                               verbosity=None))])"
      ]
     },
     "execution_count": 30,
     "metadata": {},
     "output_type": "execute_result"
    }
   ],
   "source": [
    "from sklearn import set_config\n",
    "set_config(display=\"diagram\")\n",
    "pipeline_rf"
   ]
  },
  {
   "cell_type": "code",
   "execution_count": 31,
   "id": "590ea611",
   "metadata": {
    "execution": {
     "iopub.execute_input": "2022-03-06T02:23:16.645538Z",
     "iopub.status.busy": "2022-03-06T02:23:16.644849Z",
     "iopub.status.idle": "2022-03-06T02:23:16.684183Z",
     "shell.execute_reply": "2022-03-06T02:23:16.683642Z",
     "shell.execute_reply.started": "2022-03-06T00:36:31.064916Z"
    },
    "papermill": {
     "duration": 0.085829,
     "end_time": "2022-03-06T02:23:16.684323",
     "exception": false,
     "start_time": "2022-03-06T02:23:16.598494",
     "status": "completed"
    },
    "tags": []
   },
   "outputs": [
    {
     "data": {
      "text/plain": [
       "{'memory': None,\n",
       " 'steps': [('columntransformer',\n",
       "   ColumnTransformer(transformers=[('category_transformer',\n",
       "                                    Pipeline(steps=[('imputer_category',\n",
       "                                                     SimpleImputer(strategy='most_frequent')),\n",
       "                                                    ('onehot',\n",
       "                                                     OneHotEncoder(handle_unknown='ignore'))]),\n",
       "                                    ['gender']),\n",
       "                                   ('numeric_transfomer',\n",
       "                                    Pipeline(steps=[('imputer_numeric',\n",
       "                                                     SimpleImputer()),\n",
       "                                                    ('scaler', StandardScaler())]),\n",
       "                                    ['age', 'polyuria', 'polydipsia',\n",
       "                                     'sudden_weight_loss', 'weakness',\n",
       "                                     'polyphagia', 'genital_thrush',\n",
       "                                     'visual_blurring', 'itching', 'irritability',\n",
       "                                     'delayed_healing', 'partial_paresis',\n",
       "                                     'muscle_stiffness', 'alopecia', 'obesity'])])),\n",
       "  ('xgbclassifier',\n",
       "   XGBClassifier(base_score=0.5, booster='gbtree', colsample_bylevel=1,\n",
       "                 colsample_bynode=1, colsample_bytree=0.42987132183567195,\n",
       "                 enable_categorical=False, eta=0.10151516778192593, gamma=0,\n",
       "                 gpu_id=-1, importance_type=None, interaction_constraints='',\n",
       "                 learning_rate=0.212328777, max_delta_step=0, max_depth=16,\n",
       "                 min_child_weight=1, missing=nan, monotone_constraints='()',\n",
       "                 n_estimators=14, n_jobs=4, num_parallel_tree=1, predictor='auto',\n",
       "                 random_state=0, reg_alpha=0, reg_lambda=1, scale_pos_weight=1,\n",
       "                 subsample=0.5998799664505702, tree_method='exact',\n",
       "                 validate_parameters=1, verbosity=None))],\n",
       " 'verbose': False,\n",
       " 'columntransformer': ColumnTransformer(transformers=[('category_transformer',\n",
       "                                  Pipeline(steps=[('imputer_category',\n",
       "                                                   SimpleImputer(strategy='most_frequent')),\n",
       "                                                  ('onehot',\n",
       "                                                   OneHotEncoder(handle_unknown='ignore'))]),\n",
       "                                  ['gender']),\n",
       "                                 ('numeric_transfomer',\n",
       "                                  Pipeline(steps=[('imputer_numeric',\n",
       "                                                   SimpleImputer()),\n",
       "                                                  ('scaler', StandardScaler())]),\n",
       "                                  ['age', 'polyuria', 'polydipsia',\n",
       "                                   'sudden_weight_loss', 'weakness',\n",
       "                                   'polyphagia', 'genital_thrush',\n",
       "                                   'visual_blurring', 'itching', 'irritability',\n",
       "                                   'delayed_healing', 'partial_paresis',\n",
       "                                   'muscle_stiffness', 'alopecia', 'obesity'])]),\n",
       " 'xgbclassifier': XGBClassifier(base_score=0.5, booster='gbtree', colsample_bylevel=1,\n",
       "               colsample_bynode=1, colsample_bytree=0.42987132183567195,\n",
       "               enable_categorical=False, eta=0.10151516778192593, gamma=0,\n",
       "               gpu_id=-1, importance_type=None, interaction_constraints='',\n",
       "               learning_rate=0.212328777, max_delta_step=0, max_depth=16,\n",
       "               min_child_weight=1, missing=nan, monotone_constraints='()',\n",
       "               n_estimators=14, n_jobs=4, num_parallel_tree=1, predictor='auto',\n",
       "               random_state=0, reg_alpha=0, reg_lambda=1, scale_pos_weight=1,\n",
       "               subsample=0.5998799664505702, tree_method='exact',\n",
       "               validate_parameters=1, verbosity=None),\n",
       " 'columntransformer__n_jobs': None,\n",
       " 'columntransformer__remainder': 'drop',\n",
       " 'columntransformer__sparse_threshold': 0.3,\n",
       " 'columntransformer__transformer_weights': None,\n",
       " 'columntransformer__transformers': [('category_transformer',\n",
       "   Pipeline(steps=[('imputer_category', SimpleImputer(strategy='most_frequent')),\n",
       "                   ('onehot', OneHotEncoder(handle_unknown='ignore'))]),\n",
       "   ['gender']),\n",
       "  ('numeric_transfomer',\n",
       "   Pipeline(steps=[('imputer_numeric', SimpleImputer()),\n",
       "                   ('scaler', StandardScaler())]),\n",
       "   ['age',\n",
       "    'polyuria',\n",
       "    'polydipsia',\n",
       "    'sudden_weight_loss',\n",
       "    'weakness',\n",
       "    'polyphagia',\n",
       "    'genital_thrush',\n",
       "    'visual_blurring',\n",
       "    'itching',\n",
       "    'irritability',\n",
       "    'delayed_healing',\n",
       "    'partial_paresis',\n",
       "    'muscle_stiffness',\n",
       "    'alopecia',\n",
       "    'obesity'])],\n",
       " 'columntransformer__verbose': False,\n",
       " 'columntransformer__verbose_feature_names_out': True,\n",
       " 'columntransformer__category_transformer': Pipeline(steps=[('imputer_category', SimpleImputer(strategy='most_frequent')),\n",
       "                 ('onehot', OneHotEncoder(handle_unknown='ignore'))]),\n",
       " 'columntransformer__numeric_transfomer': Pipeline(steps=[('imputer_numeric', SimpleImputer()),\n",
       "                 ('scaler', StandardScaler())]),\n",
       " 'columntransformer__category_transformer__memory': None,\n",
       " 'columntransformer__category_transformer__steps': [('imputer_category',\n",
       "   SimpleImputer(strategy='most_frequent')),\n",
       "  ('onehot', OneHotEncoder(handle_unknown='ignore'))],\n",
       " 'columntransformer__category_transformer__verbose': False,\n",
       " 'columntransformer__category_transformer__imputer_category': SimpleImputer(strategy='most_frequent'),\n",
       " 'columntransformer__category_transformer__onehot': OneHotEncoder(handle_unknown='ignore'),\n",
       " 'columntransformer__category_transformer__imputer_category__add_indicator': False,\n",
       " 'columntransformer__category_transformer__imputer_category__copy': True,\n",
       " 'columntransformer__category_transformer__imputer_category__fill_value': None,\n",
       " 'columntransformer__category_transformer__imputer_category__missing_values': nan,\n",
       " 'columntransformer__category_transformer__imputer_category__strategy': 'most_frequent',\n",
       " 'columntransformer__category_transformer__imputer_category__verbose': 0,\n",
       " 'columntransformer__category_transformer__onehot__categories': 'auto',\n",
       " 'columntransformer__category_transformer__onehot__drop': None,\n",
       " 'columntransformer__category_transformer__onehot__dtype': numpy.float64,\n",
       " 'columntransformer__category_transformer__onehot__handle_unknown': 'ignore',\n",
       " 'columntransformer__category_transformer__onehot__sparse': True,\n",
       " 'columntransformer__numeric_transfomer__memory': None,\n",
       " 'columntransformer__numeric_transfomer__steps': [('imputer_numeric',\n",
       "   SimpleImputer()),\n",
       "  ('scaler', StandardScaler())],\n",
       " 'columntransformer__numeric_transfomer__verbose': False,\n",
       " 'columntransformer__numeric_transfomer__imputer_numeric': SimpleImputer(),\n",
       " 'columntransformer__numeric_transfomer__scaler': StandardScaler(),\n",
       " 'columntransformer__numeric_transfomer__imputer_numeric__add_indicator': False,\n",
       " 'columntransformer__numeric_transfomer__imputer_numeric__copy': True,\n",
       " 'columntransformer__numeric_transfomer__imputer_numeric__fill_value': None,\n",
       " 'columntransformer__numeric_transfomer__imputer_numeric__missing_values': nan,\n",
       " 'columntransformer__numeric_transfomer__imputer_numeric__strategy': 'mean',\n",
       " 'columntransformer__numeric_transfomer__imputer_numeric__verbose': 0,\n",
       " 'columntransformer__numeric_transfomer__scaler__copy': True,\n",
       " 'columntransformer__numeric_transfomer__scaler__with_mean': True,\n",
       " 'columntransformer__numeric_transfomer__scaler__with_std': True,\n",
       " 'xgbclassifier__objective': 'binary:logistic',\n",
       " 'xgbclassifier__use_label_encoder': True,\n",
       " 'xgbclassifier__base_score': 0.5,\n",
       " 'xgbclassifier__booster': 'gbtree',\n",
       " 'xgbclassifier__colsample_bylevel': 1,\n",
       " 'xgbclassifier__colsample_bynode': 1,\n",
       " 'xgbclassifier__colsample_bytree': 0.42987132183567195,\n",
       " 'xgbclassifier__enable_categorical': False,\n",
       " 'xgbclassifier__gamma': 0,\n",
       " 'xgbclassifier__gpu_id': -1,\n",
       " 'xgbclassifier__importance_type': None,\n",
       " 'xgbclassifier__interaction_constraints': '',\n",
       " 'xgbclassifier__learning_rate': 0.212328777,\n",
       " 'xgbclassifier__max_delta_step': 0,\n",
       " 'xgbclassifier__max_depth': 16,\n",
       " 'xgbclassifier__min_child_weight': 1,\n",
       " 'xgbclassifier__missing': nan,\n",
       " 'xgbclassifier__monotone_constraints': '()',\n",
       " 'xgbclassifier__n_estimators': 14,\n",
       " 'xgbclassifier__n_jobs': 4,\n",
       " 'xgbclassifier__num_parallel_tree': 1,\n",
       " 'xgbclassifier__predictor': 'auto',\n",
       " 'xgbclassifier__random_state': 0,\n",
       " 'xgbclassifier__reg_alpha': 0,\n",
       " 'xgbclassifier__reg_lambda': 1,\n",
       " 'xgbclassifier__scale_pos_weight': 1,\n",
       " 'xgbclassifier__subsample': 0.5998799664505702,\n",
       " 'xgbclassifier__tree_method': 'exact',\n",
       " 'xgbclassifier__validate_parameters': 1,\n",
       " 'xgbclassifier__verbosity': None,\n",
       " 'xgbclassifier__eta': 0.10151516778192593}"
      ]
     },
     "execution_count": 31,
     "metadata": {},
     "output_type": "execute_result"
    }
   ],
   "source": [
    "pipeline_rf.get_params()"
   ]
  },
  {
   "cell_type": "code",
   "execution_count": 32,
   "id": "0b3040ec",
   "metadata": {
    "execution": {
     "iopub.execute_input": "2022-03-06T02:23:16.773925Z",
     "iopub.status.busy": "2022-03-06T02:23:16.773291Z",
     "iopub.status.idle": "2022-03-06T02:23:16.785496Z",
     "shell.execute_reply": "2022-03-06T02:23:16.784863Z",
     "shell.execute_reply.started": "2022-03-06T00:42:37.242696Z"
    },
    "papermill": {
     "duration": 0.057758,
     "end_time": "2022-03-06T02:23:16.785631",
     "exception": false,
     "start_time": "2022-03-06T02:23:16.727873",
     "status": "completed"
    },
    "tags": []
   },
   "outputs": [
    {
     "data": {
      "text/plain": [
       "{'n_jobs': None,\n",
       " 'remainder': 'drop',\n",
       " 'sparse_threshold': 0.3,\n",
       " 'transformer_weights': None,\n",
       " 'transformers': [('category_transformer',\n",
       "   Pipeline(steps=[('imputer_category', SimpleImputer(strategy='most_frequent')),\n",
       "                   ('onehot', OneHotEncoder(handle_unknown='ignore'))]),\n",
       "   ['gender']),\n",
       "  ('numeric_transfomer',\n",
       "   Pipeline(steps=[('imputer_numeric', SimpleImputer()),\n",
       "                   ('scaler', StandardScaler())]),\n",
       "   ['age',\n",
       "    'polyuria',\n",
       "    'polydipsia',\n",
       "    'sudden_weight_loss',\n",
       "    'weakness',\n",
       "    'polyphagia',\n",
       "    'genital_thrush',\n",
       "    'visual_blurring',\n",
       "    'itching',\n",
       "    'irritability',\n",
       "    'delayed_healing',\n",
       "    'partial_paresis',\n",
       "    'muscle_stiffness',\n",
       "    'alopecia',\n",
       "    'obesity'])],\n",
       " 'verbose': False,\n",
       " 'verbose_feature_names_out': True,\n",
       " 'category_transformer': Pipeline(steps=[('imputer_category', SimpleImputer(strategy='most_frequent')),\n",
       "                 ('onehot', OneHotEncoder(handle_unknown='ignore'))]),\n",
       " 'numeric_transfomer': Pipeline(steps=[('imputer_numeric', SimpleImputer()),\n",
       "                 ('scaler', StandardScaler())]),\n",
       " 'category_transformer__memory': None,\n",
       " 'category_transformer__steps': [('imputer_category',\n",
       "   SimpleImputer(strategy='most_frequent')),\n",
       "  ('onehot', OneHotEncoder(handle_unknown='ignore'))],\n",
       " 'category_transformer__verbose': False,\n",
       " 'category_transformer__imputer_category': SimpleImputer(strategy='most_frequent'),\n",
       " 'category_transformer__onehot': OneHotEncoder(handle_unknown='ignore'),\n",
       " 'category_transformer__imputer_category__add_indicator': False,\n",
       " 'category_transformer__imputer_category__copy': True,\n",
       " 'category_transformer__imputer_category__fill_value': None,\n",
       " 'category_transformer__imputer_category__missing_values': nan,\n",
       " 'category_transformer__imputer_category__strategy': 'most_frequent',\n",
       " 'category_transformer__imputer_category__verbose': 0,\n",
       " 'category_transformer__onehot__categories': 'auto',\n",
       " 'category_transformer__onehot__drop': None,\n",
       " 'category_transformer__onehot__dtype': numpy.float64,\n",
       " 'category_transformer__onehot__handle_unknown': 'ignore',\n",
       " 'category_transformer__onehot__sparse': True,\n",
       " 'numeric_transfomer__memory': None,\n",
       " 'numeric_transfomer__steps': [('imputer_numeric', SimpleImputer()),\n",
       "  ('scaler', StandardScaler())],\n",
       " 'numeric_transfomer__verbose': False,\n",
       " 'numeric_transfomer__imputer_numeric': SimpleImputer(),\n",
       " 'numeric_transfomer__scaler': StandardScaler(),\n",
       " 'numeric_transfomer__imputer_numeric__add_indicator': False,\n",
       " 'numeric_transfomer__imputer_numeric__copy': True,\n",
       " 'numeric_transfomer__imputer_numeric__fill_value': None,\n",
       " 'numeric_transfomer__imputer_numeric__missing_values': nan,\n",
       " 'numeric_transfomer__imputer_numeric__strategy': 'mean',\n",
       " 'numeric_transfomer__imputer_numeric__verbose': 0,\n",
       " 'numeric_transfomer__scaler__copy': True,\n",
       " 'numeric_transfomer__scaler__with_mean': True,\n",
       " 'numeric_transfomer__scaler__with_std': True}"
      ]
     },
     "execution_count": 32,
     "metadata": {},
     "output_type": "execute_result"
    }
   ],
   "source": [
    "preprocessor.get_params()"
   ]
  },
  {
   "cell_type": "code",
   "execution_count": 33,
   "id": "02195f85",
   "metadata": {
    "execution": {
     "iopub.execute_input": "2022-03-06T02:23:16.878541Z",
     "iopub.status.busy": "2022-03-06T02:23:16.877905Z",
     "iopub.status.idle": "2022-03-06T02:23:16.918462Z",
     "shell.execute_reply": "2022-03-06T02:23:16.918907Z",
     "shell.execute_reply.started": "2022-03-06T00:39:07.421098Z"
    },
    "papermill": {
     "duration": 0.089599,
     "end_time": "2022-03-06T02:23:16.919104",
     "exception": false,
     "start_time": "2022-03-06T02:23:16.829505",
     "status": "completed"
    },
    "tags": []
   },
   "outputs": [
    {
     "data": {
      "text/plain": [
       "<bound method Pipeline.get_feature_names_out of Pipeline(steps=[('columntransformer',\n",
       "                 ColumnTransformer(transformers=[('category_transformer',\n",
       "                                                  Pipeline(steps=[('imputer_category',\n",
       "                                                                   SimpleImputer(strategy='most_frequent')),\n",
       "                                                                  ('onehot',\n",
       "                                                                   OneHotEncoder(handle_unknown='ignore'))]),\n",
       "                                                  ['gender']),\n",
       "                                                 ('numeric_transfomer',\n",
       "                                                  Pipeline(steps=[('imputer_numeric',\n",
       "                                                                   SimpleImputer()),\n",
       "                                                                  ('scaler',\n",
       "                                                                   StandardScaler())]),\n",
       "                                                  ['age', 'poly...\n",
       "                               importance_type=None, interaction_constraints='',\n",
       "                               learning_rate=0.212328777, max_delta_step=0,\n",
       "                               max_depth=16, min_child_weight=1, missing=nan,\n",
       "                               monotone_constraints='()', n_estimators=14,\n",
       "                               n_jobs=4, num_parallel_tree=1, predictor='auto',\n",
       "                               random_state=0, reg_alpha=0, reg_lambda=1,\n",
       "                               scale_pos_weight=1, subsample=0.5998799664505702,\n",
       "                               tree_method='exact', validate_parameters=1,\n",
       "                               verbosity=None))])>"
      ]
     },
     "execution_count": 33,
     "metadata": {},
     "output_type": "execute_result"
    }
   ],
   "source": [
    "pipeline_rf.get_feature_names_out"
   ]
  },
  {
   "cell_type": "code",
   "execution_count": null,
   "id": "31301b4c",
   "metadata": {
    "papermill": {
     "duration": 0.046083,
     "end_time": "2022-03-06T02:23:17.009015",
     "exception": false,
     "start_time": "2022-03-06T02:23:16.962932",
     "status": "completed"
    },
    "tags": []
   },
   "outputs": [],
   "source": []
  }
 ],
 "metadata": {
  "kernelspec": {
   "display_name": "Python 3",
   "language": "python",
   "name": "python3"
  },
  "language_info": {
   "codemirror_mode": {
    "name": "ipython",
    "version": 3
   },
   "file_extension": ".py",
   "mimetype": "text/x-python",
   "name": "python",
   "nbconvert_exporter": "python",
   "pygments_lexer": "ipython3",
   "version": "3.6.8"
  },
  "papermill": {
   "default_parameters": {},
   "duration": 82.656503,
   "end_time": "2022-03-06T02:23:17.964876",
   "environment_variables": {},
   "exception": null,
   "input_path": "__notebook__.ipynb",
   "output_path": "__notebook__.ipynb",
   "parameters": {},
   "start_time": "2022-03-06T02:21:55.308373",
   "version": "2.3.3"
  }
 },
 "nbformat": 4,
 "nbformat_minor": 5
}
