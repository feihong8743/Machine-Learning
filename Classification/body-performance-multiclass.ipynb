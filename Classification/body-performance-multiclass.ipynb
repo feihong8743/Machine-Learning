{
 "cells": [
  {
   "cell_type": "code",
   "execution_count": 3,
   "id": "1789b020",
   "metadata": {
    "execution": {
     "iopub.execute_input": "2022-03-12T08:01:26.696746Z",
     "iopub.status.busy": "2022-03-12T08:01:26.695021Z",
     "iopub.status.idle": "2022-03-12T08:01:27.742903Z",
     "shell.execute_reply": "2022-03-12T08:01:27.743346Z",
     "shell.execute_reply.started": "2022-03-12T07:58:19.647557Z"
    },
    "papermill": {
     "duration": 1.070739,
     "end_time": "2022-03-12T08:01:27.743654",
     "exception": false,
     "start_time": "2022-03-12T08:01:26.672915",
     "status": "completed"
    },
    "tags": []
   },
   "outputs": [],
   "source": [
    "import numpy as np\n",
    "import pandas as pd\n",
    "import matplotlib.pyplot as plt\n",
    "import seaborn as sns"
   ]
  },
  {
   "cell_type": "code",
   "execution_count": 2,
   "id": "bcfca910",
   "metadata": {
    "execution": {
     "iopub.execute_input": "2022-03-12T08:01:27.783569Z",
     "iopub.status.busy": "2022-03-12T08:01:27.782951Z",
     "iopub.status.idle": "2022-03-12T08:01:27.851470Z",
     "shell.execute_reply": "2022-03-12T08:01:27.851010Z",
     "shell.execute_reply.started": "2022-03-12T07:58:19.656563Z"
    },
    "papermill": {
     "duration": 0.089281,
     "end_time": "2022-03-12T08:01:27.851615",
     "exception": false,
     "start_time": "2022-03-12T08:01:27.762334",
     "status": "completed"
    },
    "tags": []
   },
   "outputs": [
    {
     "data": {
      "text/html": [
       "<div>\n",
       "<style scoped>\n",
       "    .dataframe tbody tr th:only-of-type {\n",
       "        vertical-align: middle;\n",
       "    }\n",
       "\n",
       "    .dataframe tbody tr th {\n",
       "        vertical-align: top;\n",
       "    }\n",
       "\n",
       "    .dataframe thead th {\n",
       "        text-align: right;\n",
       "    }\n",
       "</style>\n",
       "<table border=\"1\" class=\"dataframe\">\n",
       "  <thead>\n",
       "    <tr style=\"text-align: right;\">\n",
       "      <th></th>\n",
       "      <th>age</th>\n",
       "      <th>gender</th>\n",
       "      <th>height_cm</th>\n",
       "      <th>weight_kg</th>\n",
       "      <th>body fat_%</th>\n",
       "      <th>diastolic</th>\n",
       "      <th>systolic</th>\n",
       "      <th>gripForce</th>\n",
       "      <th>sit and bend forward_cm</th>\n",
       "      <th>sit-ups counts</th>\n",
       "      <th>broad jump_cm</th>\n",
       "      <th>class</th>\n",
       "    </tr>\n",
       "  </thead>\n",
       "  <tbody>\n",
       "    <tr>\n",
       "      <th>0</th>\n",
       "      <td>27.0</td>\n",
       "      <td>M</td>\n",
       "      <td>172.3</td>\n",
       "      <td>75.24</td>\n",
       "      <td>21.3</td>\n",
       "      <td>80.0</td>\n",
       "      <td>130.0</td>\n",
       "      <td>54.9</td>\n",
       "      <td>18.4</td>\n",
       "      <td>60.0</td>\n",
       "      <td>217.0</td>\n",
       "      <td>C</td>\n",
       "    </tr>\n",
       "    <tr>\n",
       "      <th>1</th>\n",
       "      <td>25.0</td>\n",
       "      <td>M</td>\n",
       "      <td>165.0</td>\n",
       "      <td>55.80</td>\n",
       "      <td>15.7</td>\n",
       "      <td>77.0</td>\n",
       "      <td>126.0</td>\n",
       "      <td>36.4</td>\n",
       "      <td>16.3</td>\n",
       "      <td>53.0</td>\n",
       "      <td>229.0</td>\n",
       "      <td>A</td>\n",
       "    </tr>\n",
       "    <tr>\n",
       "      <th>2</th>\n",
       "      <td>31.0</td>\n",
       "      <td>M</td>\n",
       "      <td>179.6</td>\n",
       "      <td>78.00</td>\n",
       "      <td>20.1</td>\n",
       "      <td>92.0</td>\n",
       "      <td>152.0</td>\n",
       "      <td>44.8</td>\n",
       "      <td>12.0</td>\n",
       "      <td>49.0</td>\n",
       "      <td>181.0</td>\n",
       "      <td>C</td>\n",
       "    </tr>\n",
       "    <tr>\n",
       "      <th>3</th>\n",
       "      <td>32.0</td>\n",
       "      <td>M</td>\n",
       "      <td>174.5</td>\n",
       "      <td>71.10</td>\n",
       "      <td>18.4</td>\n",
       "      <td>76.0</td>\n",
       "      <td>147.0</td>\n",
       "      <td>41.4</td>\n",
       "      <td>15.2</td>\n",
       "      <td>53.0</td>\n",
       "      <td>219.0</td>\n",
       "      <td>B</td>\n",
       "    </tr>\n",
       "    <tr>\n",
       "      <th>4</th>\n",
       "      <td>28.0</td>\n",
       "      <td>M</td>\n",
       "      <td>173.8</td>\n",
       "      <td>67.70</td>\n",
       "      <td>17.1</td>\n",
       "      <td>70.0</td>\n",
       "      <td>127.0</td>\n",
       "      <td>43.5</td>\n",
       "      <td>27.1</td>\n",
       "      <td>45.0</td>\n",
       "      <td>217.0</td>\n",
       "      <td>B</td>\n",
       "    </tr>\n",
       "  </tbody>\n",
       "</table>\n",
       "</div>"
      ],
      "text/plain": [
       "    age gender  height_cm  weight_kg  body fat_%  diastolic  systolic  \\\n",
       "0  27.0      M      172.3      75.24        21.3       80.0     130.0   \n",
       "1  25.0      M      165.0      55.80        15.7       77.0     126.0   \n",
       "2  31.0      M      179.6      78.00        20.1       92.0     152.0   \n",
       "3  32.0      M      174.5      71.10        18.4       76.0     147.0   \n",
       "4  28.0      M      173.8      67.70        17.1       70.0     127.0   \n",
       "\n",
       "   gripForce  sit and bend forward_cm  sit-ups counts  broad jump_cm class  \n",
       "0       54.9                     18.4            60.0          217.0     C  \n",
       "1       36.4                     16.3            53.0          229.0     A  \n",
       "2       44.8                     12.0            49.0          181.0     C  \n",
       "3       41.4                     15.2            53.0          219.0     B  \n",
       "4       43.5                     27.1            45.0          217.0     B  "
      ]
     },
     "execution_count": 2,
     "metadata": {},
     "output_type": "execute_result"
    }
   ],
   "source": [
    "# import dataset\n",
    "filename = '/kaggle/input/body-performance-data/bodyPerformance.csv'\n",
    "df = pd.read_csv(filename)\n",
    "df.head()"
   ]
  },
  {
   "cell_type": "code",
   "execution_count": 3,
   "id": "92a2d923",
   "metadata": {
    "execution": {
     "iopub.execute_input": "2022-03-12T08:01:27.898710Z",
     "iopub.status.busy": "2022-03-12T08:01:27.897353Z",
     "iopub.status.idle": "2022-03-12T08:01:27.902831Z",
     "shell.execute_reply": "2022-03-12T08:01:27.902332Z",
     "shell.execute_reply.started": "2022-03-12T07:58:19.713428Z"
    },
    "papermill": {
     "duration": 0.03395,
     "end_time": "2022-03-12T08:01:27.902967",
     "exception": false,
     "start_time": "2022-03-12T08:01:27.869017",
     "status": "completed"
    },
    "tags": []
   },
   "outputs": [
    {
     "data": {
      "text/plain": [
       "Index(['gender', 'class'], dtype='object')"
      ]
     },
     "execution_count": 3,
     "metadata": {},
     "output_type": "execute_result"
    }
   ],
   "source": [
    "df.select_dtypes(include=['object']).columns"
   ]
  },
  {
   "cell_type": "code",
   "execution_count": 4,
   "id": "10140c64",
   "metadata": {
    "execution": {
     "iopub.execute_input": "2022-03-12T08:01:27.946009Z",
     "iopub.status.busy": "2022-03-12T08:01:27.945338Z",
     "iopub.status.idle": "2022-03-12T08:01:27.949131Z",
     "shell.execute_reply": "2022-03-12T08:01:27.948698Z",
     "shell.execute_reply.started": "2022-03-12T07:58:19.723380Z"
    },
    "papermill": {
     "duration": 0.028886,
     "end_time": "2022-03-12T08:01:27.949264",
     "exception": false,
     "start_time": "2022-03-12T08:01:27.920378",
     "status": "completed"
    },
    "tags": []
   },
   "outputs": [
    {
     "data": {
      "text/plain": [
       "Index(['age', 'height_cm', 'weight_kg', 'body fat_%', 'diastolic', 'systolic',\n",
       "       'gripForce', 'sit and bend forward_cm', 'sit-ups counts',\n",
       "       'broad jump_cm'],\n",
       "      dtype='object')"
      ]
     },
     "execution_count": 4,
     "metadata": {},
     "output_type": "execute_result"
    }
   ],
   "source": [
    "df.select_dtypes(include=['int','float']).columns"
   ]
  },
  {
   "cell_type": "code",
   "execution_count": 5,
   "id": "50fad72a",
   "metadata": {
    "execution": {
     "iopub.execute_input": "2022-03-12T08:01:28.002420Z",
     "iopub.status.busy": "2022-03-12T08:01:28.001535Z",
     "iopub.status.idle": "2022-03-12T08:01:28.012197Z",
     "shell.execute_reply": "2022-03-12T08:01:28.011666Z",
     "shell.execute_reply.started": "2022-03-12T07:58:19.742699Z"
    },
    "papermill": {
     "duration": 0.045847,
     "end_time": "2022-03-12T08:01:28.012328",
     "exception": false,
     "start_time": "2022-03-12T08:01:27.966481",
     "status": "completed"
    },
    "tags": []
   },
   "outputs": [
    {
     "data": {
      "text/plain": [
       "age                        0.0\n",
       "gender                     0.0\n",
       "height_cm                  0.0\n",
       "weight_kg                  0.0\n",
       "body fat_%                 0.0\n",
       "diastolic                  0.0\n",
       "systolic                   0.0\n",
       "gripForce                  0.0\n",
       "sit and bend forward_cm    0.0\n",
       "sit-ups counts             0.0\n",
       "broad jump_cm              0.0\n",
       "class                      0.0\n",
       "dtype: float64"
      ]
     },
     "execution_count": 5,
     "metadata": {},
     "output_type": "execute_result"
    }
   ],
   "source": [
    "(df.isna().sum()/df.isna().count() * 100).sort_values(ascending= False).head(25)"
   ]
  },
  {
   "cell_type": "code",
   "execution_count": 6,
   "id": "67252fab",
   "metadata": {
    "execution": {
     "iopub.execute_input": "2022-03-12T08:01:28.063702Z",
     "iopub.status.busy": "2022-03-12T08:01:28.061701Z",
     "iopub.status.idle": "2022-03-12T08:01:28.066539Z",
     "shell.execute_reply": "2022-03-12T08:01:28.067148Z",
     "shell.execute_reply.started": "2022-03-12T07:58:19.769625Z"
    },
    "papermill": {
     "duration": 0.029893,
     "end_time": "2022-03-12T08:01:28.067328",
     "exception": false,
     "start_time": "2022-03-12T08:01:28.037435",
     "status": "completed"
    },
    "tags": []
   },
   "outputs": [],
   "source": [
    "category_features = ['gender']\n",
    "\n",
    "numeric_features = ['age', 'height_cm', 'weight_kg', 'body fat_%', 'diastolic', 'systolic',\n",
    "       'gripForce', 'sit and bend forward_cm', 'sit-ups counts',\n",
    "       'broad jump_cm']\n",
    "\n",
    "target = ['class']"
   ]
  },
  {
   "cell_type": "code",
   "execution_count": 7,
   "id": "4e599020",
   "metadata": {
    "execution": {
     "iopub.execute_input": "2022-03-12T08:01:28.115283Z",
     "iopub.status.busy": "2022-03-12T08:01:28.114536Z",
     "iopub.status.idle": "2022-03-12T08:01:28.119156Z",
     "shell.execute_reply": "2022-03-12T08:01:28.119873Z",
     "shell.execute_reply.started": "2022-03-12T07:58:19.776797Z"
    },
    "papermill": {
     "duration": 0.026865,
     "end_time": "2022-03-12T08:01:28.120091",
     "exception": false,
     "start_time": "2022-03-12T08:01:28.093226",
     "status": "completed"
    },
    "tags": []
   },
   "outputs": [
    {
     "name": "stdout",
     "output_type": "stream",
     "text": [
      "category feature number =  1\n",
      "numeric feature number =  10\n"
     ]
    }
   ],
   "source": [
    "print('category feature number = ', len(category_features))\n",
    "print('numeric feature number = ', len(numeric_features))"
   ]
  },
  {
   "cell_type": "code",
   "execution_count": 8,
   "id": "44124d7c",
   "metadata": {
    "execution": {
     "iopub.execute_input": "2022-03-12T08:01:28.162417Z",
     "iopub.status.busy": "2022-03-12T08:01:28.161520Z",
     "iopub.status.idle": "2022-03-12T08:01:28.345392Z",
     "shell.execute_reply": "2022-03-12T08:01:28.345931Z",
     "shell.execute_reply.started": "2022-03-12T07:58:19.793440Z"
    },
    "papermill": {
     "duration": 0.206325,
     "end_time": "2022-03-12T08:01:28.346101",
     "exception": false,
     "start_time": "2022-03-12T08:01:28.139776",
     "status": "completed"
    },
    "tags": []
   },
   "outputs": [],
   "source": [
    "from sklearn.model_selection import train_test_split"
   ]
  },
  {
   "cell_type": "code",
   "execution_count": 9,
   "id": "a7104e64",
   "metadata": {
    "execution": {
     "iopub.execute_input": "2022-03-12T08:01:28.385961Z",
     "iopub.status.busy": "2022-03-12T08:01:28.385050Z",
     "iopub.status.idle": "2022-03-12T08:01:28.395975Z",
     "shell.execute_reply": "2022-03-12T08:01:28.396476Z",
     "shell.execute_reply.started": "2022-03-12T07:58:19.805864Z"
    },
    "papermill": {
     "duration": 0.032084,
     "end_time": "2022-03-12T08:01:28.396659",
     "exception": false,
     "start_time": "2022-03-12T08:01:28.364575",
     "status": "completed"
    },
    "tags": []
   },
   "outputs": [],
   "source": [
    "X_train, X_test, y_train, y_test = train_test_split(df.drop(columns=target), df[target], test_size = 0.2, random_state= 14)"
   ]
  },
  {
   "cell_type": "code",
   "execution_count": 10,
   "id": "1425c123",
   "metadata": {
    "execution": {
     "iopub.execute_input": "2022-03-12T08:01:28.435408Z",
     "iopub.status.busy": "2022-03-12T08:01:28.434529Z",
     "iopub.status.idle": "2022-03-12T08:01:28.589461Z",
     "shell.execute_reply": "2022-03-12T08:01:28.588968Z",
     "shell.execute_reply.started": "2022-03-12T07:58:19.827284Z"
    },
    "papermill": {
     "duration": 0.175367,
     "end_time": "2022-03-12T08:01:28.589649",
     "exception": false,
     "start_time": "2022-03-12T08:01:28.414282",
     "status": "completed"
    },
    "tags": []
   },
   "outputs": [],
   "source": [
    "from sklearn.pipeline import Pipeline\n",
    "from sklearn.impute import SimpleImputer\n",
    "from sklearn.preprocessing import StandardScaler, OneHotEncoder\n",
    "from sklearn.compose import ColumnTransformer"
   ]
  },
  {
   "cell_type": "code",
   "execution_count": 11,
   "id": "b4c3acee",
   "metadata": {
    "execution": {
     "iopub.execute_input": "2022-03-12T08:01:28.629933Z",
     "iopub.status.busy": "2022-03-12T08:01:28.629337Z",
     "iopub.status.idle": "2022-03-12T08:01:28.631705Z",
     "shell.execute_reply": "2022-03-12T08:01:28.631189Z",
     "shell.execute_reply.started": "2022-03-12T07:58:19.835790Z"
    },
    "papermill": {
     "duration": 0.024518,
     "end_time": "2022-03-12T08:01:28.631831",
     "exception": false,
     "start_time": "2022-03-12T08:01:28.607313",
     "status": "completed"
    },
    "tags": []
   },
   "outputs": [],
   "source": [
    "numeric_transformer = Pipeline(steps =[('imputer_numeric', SimpleImputer(missing_values=np.nan, strategy='mean')),\n",
    "                                       ('scaler', StandardScaler())])"
   ]
  },
  {
   "cell_type": "code",
   "execution_count": 12,
   "id": "efb362a8",
   "metadata": {
    "execution": {
     "iopub.execute_input": "2022-03-12T08:01:28.674248Z",
     "iopub.status.busy": "2022-03-12T08:01:28.672111Z",
     "iopub.status.idle": "2022-03-12T08:01:28.676069Z",
     "shell.execute_reply": "2022-03-12T08:01:28.676617Z",
     "shell.execute_reply.started": "2022-03-12T07:58:19.846584Z"
    },
    "papermill": {
     "duration": 0.026802,
     "end_time": "2022-03-12T08:01:28.676793",
     "exception": false,
     "start_time": "2022-03-12T08:01:28.649991",
     "status": "completed"
    },
    "tags": []
   },
   "outputs": [],
   "source": [
    "category_transformer = Pipeline(steps=[('imputer_category', SimpleImputer(missing_values=np.nan, strategy='most_frequent')),\n",
    "                                    ('onehot', OneHotEncoder(handle_unknown='ignore'))])"
   ]
  },
  {
   "cell_type": "code",
   "execution_count": 13,
   "id": "49480cac",
   "metadata": {
    "execution": {
     "iopub.execute_input": "2022-03-12T08:01:28.716949Z",
     "iopub.status.busy": "2022-03-12T08:01:28.716008Z",
     "iopub.status.idle": "2022-03-12T08:01:28.720018Z",
     "shell.execute_reply": "2022-03-12T08:01:28.720530Z",
     "shell.execute_reply.started": "2022-03-12T07:58:19.860376Z"
    },
    "papermill": {
     "duration": 0.025499,
     "end_time": "2022-03-12T08:01:28.720692",
     "exception": false,
     "start_time": "2022-03-12T08:01:28.695193",
     "status": "completed"
    },
    "tags": []
   },
   "outputs": [],
   "source": [
    "preprocessor = ColumnTransformer(\n",
    "    transformers=[\n",
    "        ('category_transformer', category_transformer, category_features),\n",
    "        ('numeric_transfomer', numeric_transformer, numeric_features)\n",
    "    ], remainder='drop'\n",
    ")"
   ]
  },
  {
   "cell_type": "code",
   "execution_count": 14,
   "id": "b23bf1f3",
   "metadata": {
    "execution": {
     "iopub.execute_input": "2022-03-12T08:01:28.759563Z",
     "iopub.status.busy": "2022-03-12T08:01:28.758648Z",
     "iopub.status.idle": "2022-03-12T08:01:30.440220Z",
     "shell.execute_reply": "2022-03-12T08:01:30.439654Z",
     "shell.execute_reply.started": "2022-03-12T07:58:19.878786Z"
    },
    "papermill": {
     "duration": 1.702194,
     "end_time": "2022-03-12T08:01:30.440363",
     "exception": false,
     "start_time": "2022-03-12T08:01:28.738169",
     "status": "completed"
    },
    "tags": []
   },
   "outputs": [
    {
     "data": {
      "text/html": [
       "<style type='text/css'>\n",
       ".datatable table.frame { margin-bottom: 0; }\n",
       ".datatable table.frame thead { border-bottom: none; }\n",
       ".datatable table.frame tr.coltypes td {  color: #FFFFFF;  line-height: 6px;  padding: 0 0.5em;}\n",
       ".datatable .bool    { background: #DDDD99; }\n",
       ".datatable .object  { background: #565656; }\n",
       ".datatable .int     { background: #5D9E5D; }\n",
       ".datatable .float   { background: #4040CC; }\n",
       ".datatable .str     { background: #CC4040; }\n",
       ".datatable .time    { background: #40CC40; }\n",
       ".datatable .row_index {  background: var(--jp-border-color3);  border-right: 1px solid var(--jp-border-color0);  color: var(--jp-ui-font-color3);  font-size: 9px;}\n",
       ".datatable .frame tbody td { text-align: left; }\n",
       ".datatable .frame tr.coltypes .row_index {  background: var(--jp-border-color0);}\n",
       ".datatable th:nth-child(2) { padding-left: 12px; }\n",
       ".datatable .hellipsis {  color: var(--jp-cell-editor-border-color);}\n",
       ".datatable .vellipsis {  background: var(--jp-layout-color0);  color: var(--jp-cell-editor-border-color);}\n",
       ".datatable .na {  color: var(--jp-cell-editor-border-color);  font-size: 80%;}\n",
       ".datatable .sp {  opacity: 0.25;}\n",
       ".datatable .footer { font-size: 9px; }\n",
       ".datatable .frame_dimensions {  background: var(--jp-border-color3);  border-top: 1px solid var(--jp-border-color0);  color: var(--jp-ui-font-color3);  display: inline-block;  opacity: 0.6;  padding: 1px 10px 1px 5px;}\n",
       "</style>\n"
      ],
      "text/plain": [
       "<IPython.core.display.HTML object>"
      ]
     },
     "metadata": {},
     "output_type": "display_data"
    }
   ],
   "source": [
    "import optuna\n",
    "from sklearn import clone\n",
    "from sklearn.ensemble import RandomForestClassifier\n",
    "from sklearn.pipeline import make_pipeline\n",
    "from sklearn.model_selection import cross_val_score\n",
    "from xgboost import XGBClassifier\n",
    "from lightgbm import LGBMClassifier"
   ]
  },
  {
   "cell_type": "code",
   "execution_count": 15,
   "id": "e7b52ec6",
   "metadata": {
    "execution": {
     "iopub.execute_input": "2022-03-12T08:01:30.483110Z",
     "iopub.status.busy": "2022-03-12T08:01:30.482448Z",
     "iopub.status.idle": "2022-03-12T08:01:30.485039Z",
     "shell.execute_reply": "2022-03-12T08:01:30.484539Z",
     "shell.execute_reply.started": "2022-03-12T07:58:19.892971Z"
    },
    "papermill": {
     "duration": 0.026393,
     "end_time": "2022-03-12T08:01:30.485182",
     "exception": false,
     "start_time": "2022-03-12T08:01:30.458789",
     "status": "completed"
    },
    "tags": []
   },
   "outputs": [],
   "source": [
    "# pipeline_rf = make_pipeline(clone(preprocessor), RandomForestClassifier())\n",
    "# pipeline_rf = make_pipeline(clone(preprocessor), XGBClassifier())\n",
    "pipeline_rf = make_pipeline(clone(preprocessor), LGBMClassifier())"
   ]
  },
  {
   "cell_type": "code",
   "execution_count": 16,
   "id": "5a16c6a5",
   "metadata": {
    "execution": {
     "iopub.execute_input": "2022-03-12T08:01:30.525135Z",
     "iopub.status.busy": "2022-03-12T08:01:30.524229Z",
     "iopub.status.idle": "2022-03-12T08:01:30.531233Z",
     "shell.execute_reply": "2022-03-12T08:01:30.531721Z",
     "shell.execute_reply.started": "2022-03-12T07:58:19.907183Z"
    },
    "papermill": {
     "duration": 0.028516,
     "end_time": "2022-03-12T08:01:30.531886",
     "exception": false,
     "start_time": "2022-03-12T08:01:30.503370",
     "status": "completed"
    },
    "tags": []
   },
   "outputs": [],
   "source": [
    "def objective(trail):\n",
    "#     parameter for the random forest classfication    \n",
    "#     params = {\n",
    "#         'randomforestclassifier__n_estimators': trail.suggest_int('randomforestclassifier__n_estimators', 10, 20, log=True),\n",
    "#         'randomforestclassifier__max_depth': trail.suggest_int(\"randomforestclassifier__max_depth\", 3, 10, log=True) ,\n",
    "#         'randomforestclassifier__max_features': trail.suggest_categorical('randomforestclassifier__max_features', ['auto', 'sqrt']),\n",
    "#         'randomforestclassifier__min_samples_split': trail.suggest_int(\"randomforestclassifier__min_samples_split\", 2, 10, log=True) ,\n",
    "#         'randomforestclassifier__min_samples_leaf': trail.suggest_int(\"randomforestclassifier__min_samples_leaf\", 1, 4, log=True),\n",
    "#         'randomforestclassifier__bootstrap': trail.suggest_categorical('randomforestclassifier__bootstrap', [True, False])\n",
    "#     }\n",
    "    \n",
    "#     params = {\n",
    "#         'xgbclassifier__n_estimators': trail.suggest_int('xgbclassifier__n_estimators', 10, 20, log=True),\n",
    "#         'xgbclassifier__max_depth': trail.suggest_int(\"xgbclassifier__max_depth\", 3, 20, log=True) ,\n",
    "#         'xgbclassifier__eta': trail.suggest_float('xgbclassifier__eta', 0.1, 0.3, log=True),\n",
    "#         'xgbclassifier__subsample': trail.suggest_float(\"xgbclassifier__subsample\", 0.4, 0.8, log=True) ,\n",
    "#         'xgbclassifier__colsample_bytree': trail.suggest_float(\"xgbclassifier__colsample_bytree\", 0.4, 0.8, log=True),\n",
    "# #     }\n",
    "\n",
    "    params = {\n",
    "        'lgbmclassifier__learning_rate': trail.suggest_float('lgbmclassifier__learning_rate', 0.1, 1.0, log=True),\n",
    "        'lgbmclassifier__boosting_type\"': trail.suggest_categorical(\"lgbmclassifier__boosting_type\", ['gbdt', 'dart', 'goss']) ,\n",
    "        'lgbmclassifier__sub_feature': trail.suggest_float('lgbmclassifier__sub_feature', 0.1, 1.0, log=True),\n",
    "        'lgbmclassifier__num_leaves': trail.suggest_int(\"lgbmclassifier__num_leaves\", 10, 20, log=True)\n",
    "    }\n",
    "    \n",
    "    model = pipeline_rf.set_params(**params)\n",
    "    model.fit(X_train, y_train)\n",
    "    \n",
    "    \n",
    "    score = cross_val_score(model, X_train, y_train, scoring = 'accuracy', n_jobs = -1, cv = 3).mean()\n",
    "    \n",
    "    return score"
   ]
  },
  {
   "cell_type": "code",
   "execution_count": 17,
   "id": "f779041b",
   "metadata": {
    "execution": {
     "iopub.execute_input": "2022-03-12T08:01:30.571959Z",
     "iopub.status.busy": "2022-03-12T08:01:30.571269Z",
     "iopub.status.idle": "2022-03-12T08:01:30.576614Z",
     "shell.execute_reply": "2022-03-12T08:01:30.577083Z",
     "shell.execute_reply.started": "2022-03-12T07:58:19.923080Z"
    },
    "papermill": {
     "duration": 0.02708,
     "end_time": "2022-03-12T08:01:30.577245",
     "exception": false,
     "start_time": "2022-03-12T08:01:30.550165",
     "status": "completed"
    },
    "tags": []
   },
   "outputs": [
    {
     "data": {
      "text/plain": [
       "dict_keys(['memory', 'steps', 'verbose', 'columntransformer', 'lgbmclassifier', 'columntransformer__n_jobs', 'columntransformer__remainder', 'columntransformer__sparse_threshold', 'columntransformer__transformer_weights', 'columntransformer__transformers', 'columntransformer__verbose', 'columntransformer__category_transformer', 'columntransformer__numeric_transfomer', 'columntransformer__category_transformer__memory', 'columntransformer__category_transformer__steps', 'columntransformer__category_transformer__verbose', 'columntransformer__category_transformer__imputer_category', 'columntransformer__category_transformer__onehot', 'columntransformer__category_transformer__imputer_category__add_indicator', 'columntransformer__category_transformer__imputer_category__copy', 'columntransformer__category_transformer__imputer_category__fill_value', 'columntransformer__category_transformer__imputer_category__missing_values', 'columntransformer__category_transformer__imputer_category__strategy', 'columntransformer__category_transformer__imputer_category__verbose', 'columntransformer__category_transformer__onehot__categories', 'columntransformer__category_transformer__onehot__drop', 'columntransformer__category_transformer__onehot__dtype', 'columntransformer__category_transformer__onehot__handle_unknown', 'columntransformer__category_transformer__onehot__sparse', 'columntransformer__numeric_transfomer__memory', 'columntransformer__numeric_transfomer__steps', 'columntransformer__numeric_transfomer__verbose', 'columntransformer__numeric_transfomer__imputer_numeric', 'columntransformer__numeric_transfomer__scaler', 'columntransformer__numeric_transfomer__imputer_numeric__add_indicator', 'columntransformer__numeric_transfomer__imputer_numeric__copy', 'columntransformer__numeric_transfomer__imputer_numeric__fill_value', 'columntransformer__numeric_transfomer__imputer_numeric__missing_values', 'columntransformer__numeric_transfomer__imputer_numeric__strategy', 'columntransformer__numeric_transfomer__imputer_numeric__verbose', 'columntransformer__numeric_transfomer__scaler__copy', 'columntransformer__numeric_transfomer__scaler__with_mean', 'columntransformer__numeric_transfomer__scaler__with_std', 'lgbmclassifier__boosting_type', 'lgbmclassifier__class_weight', 'lgbmclassifier__colsample_bytree', 'lgbmclassifier__importance_type', 'lgbmclassifier__learning_rate', 'lgbmclassifier__max_depth', 'lgbmclassifier__min_child_samples', 'lgbmclassifier__min_child_weight', 'lgbmclassifier__min_split_gain', 'lgbmclassifier__n_estimators', 'lgbmclassifier__n_jobs', 'lgbmclassifier__num_leaves', 'lgbmclassifier__objective', 'lgbmclassifier__random_state', 'lgbmclassifier__reg_alpha', 'lgbmclassifier__reg_lambda', 'lgbmclassifier__silent', 'lgbmclassifier__subsample', 'lgbmclassifier__subsample_for_bin', 'lgbmclassifier__subsample_freq'])"
      ]
     },
     "execution_count": 17,
     "metadata": {},
     "output_type": "execute_result"
    }
   ],
   "source": [
    "pipeline_rf.get_params().keys()"
   ]
  },
  {
   "cell_type": "code",
   "execution_count": 18,
   "id": "47545266",
   "metadata": {
    "execution": {
     "iopub.execute_input": "2022-03-12T08:01:30.620729Z",
     "iopub.status.busy": "2022-03-12T08:01:30.620124Z",
     "iopub.status.idle": "2022-03-12T08:01:40.151601Z",
     "shell.execute_reply": "2022-03-12T08:01:40.151018Z",
     "shell.execute_reply.started": "2022-03-12T07:58:19.942815Z"
    },
    "papermill": {
     "duration": 9.554912,
     "end_time": "2022-03-12T08:01:40.151742",
     "exception": false,
     "start_time": "2022-03-12T08:01:30.596830",
     "status": "completed"
    },
    "tags": []
   },
   "outputs": [
    {
     "name": "stderr",
     "output_type": "stream",
     "text": [
      "\u001b[32m[I 2022-03-12 08:01:30,618]\u001b[0m A new study created in memory with name: no-name-e7715a23-443d-4971-bea4-cdd4606d8c6d\u001b[0m\n",
      "/opt/conda/lib/python3.7/site-packages/sklearn/utils/validation.py:72: DataConversionWarning: A column-vector y was passed when a 1d array was expected. Please change the shape of y to (n_samples, ), for example using ravel().\n",
      "  return f(**kwargs)\n"
     ]
    },
    {
     "name": "stdout",
     "output_type": "stream",
     "text": [
      "[LightGBM] [Warning] boosting_type is set=gbdt, boosting_type=goss will be ignored. Current value: boosting_type=gbdt\n",
      "[LightGBM] [Warning] feature_fraction is set with sub_feature=0.3611947243920232, colsample_bytree=1.0 will be ignored. Current value: feature_fraction=0.3611947243920232\n"
     ]
    },
    {
     "name": "stderr",
     "output_type": "stream",
     "text": [
      "\u001b[32m[I 2022-03-12 08:01:34,498]\u001b[0m Trial 0 finished with value: 0.7260597139517885 and parameters: {'lgbmclassifier__learning_rate': 0.36734285611976747, 'lgbmclassifier__boosting_type': 'goss', 'lgbmclassifier__sub_feature': 0.3611947243920232, 'lgbmclassifier__num_leaves': 10}. Best is trial 0 with value: 0.7260597139517885.\u001b[0m\n",
      "/opt/conda/lib/python3.7/site-packages/sklearn/utils/validation.py:72: DataConversionWarning: A column-vector y was passed when a 1d array was expected. Please change the shape of y to (n_samples, ), for example using ravel().\n",
      "  return f(**kwargs)\n",
      "\u001b[32m[I 2022-03-12 08:01:37,310]\u001b[0m Trial 1 finished with value: 0.7243798259150561 and parameters: {'lgbmclassifier__learning_rate': 0.40524707222597, 'lgbmclassifier__boosting_type': 'goss', 'lgbmclassifier__sub_feature': 0.7795448393151112, 'lgbmclassifier__num_leaves': 16}. Best is trial 0 with value: 0.7260597139517885.\u001b[0m\n",
      "/opt/conda/lib/python3.7/site-packages/sklearn/utils/validation.py:72: DataConversionWarning: A column-vector y was passed when a 1d array was expected. Please change the shape of y to (n_samples, ), for example using ravel().\n",
      "  return f(**kwargs)\n",
      "\u001b[32m[I 2022-03-12 08:01:38,076]\u001b[0m Trial 2 finished with value: 0.4889868344485026 and parameters: {'lgbmclassifier__learning_rate': 0.5926501790241678, 'lgbmclassifier__boosting_type': 'gbdt', 'lgbmclassifier__sub_feature': 0.12220621292027992, 'lgbmclassifier__num_leaves': 12}. Best is trial 0 with value: 0.7260597139517885.\u001b[0m\n",
      "/opt/conda/lib/python3.7/site-packages/sklearn/utils/validation.py:72: DataConversionWarning: A column-vector y was passed when a 1d array was expected. Please change the shape of y to (n_samples, ), for example using ravel().\n",
      "  return f(**kwargs)\n",
      "\u001b[32m[I 2022-03-12 08:01:39,222]\u001b[0m Trial 3 finished with value: 0.7396873888397776 and parameters: {'lgbmclassifier__learning_rate': 0.11765661503351789, 'lgbmclassifier__boosting_type': 'goss', 'lgbmclassifier__sub_feature': 0.7225985574581698, 'lgbmclassifier__num_leaves': 13}. Best is trial 3 with value: 0.7396873888397776.\u001b[0m\n",
      "/opt/conda/lib/python3.7/site-packages/sklearn/utils/validation.py:72: DataConversionWarning: A column-vector y was passed when a 1d array was expected. Please change the shape of y to (n_samples, ), for example using ravel().\n",
      "  return f(**kwargs)\n",
      "\u001b[32m[I 2022-03-12 08:01:40,145]\u001b[0m Trial 4 finished with value: 0.6374840344783143 and parameters: {'lgbmclassifier__learning_rate': 0.9957168893847006, 'lgbmclassifier__boosting_type': 'gbdt', 'lgbmclassifier__sub_feature': 0.18248050885856615, 'lgbmclassifier__num_leaves': 18}. Best is trial 3 with value: 0.7396873888397776.\u001b[0m\n"
     ]
    }
   ],
   "source": [
    "study_rfr = optuna.create_study(direction = \"maximize\")\n",
    "study_rfr.optimize(objective, n_trials = 5)\n"
   ]
  },
  {
   "cell_type": "code",
   "execution_count": 19,
   "id": "e9b0b7a2",
   "metadata": {
    "execution": {
     "iopub.execute_input": "2022-03-12T08:01:40.197665Z",
     "iopub.status.busy": "2022-03-12T08:01:40.197028Z",
     "iopub.status.idle": "2022-03-12T08:01:40.201681Z",
     "shell.execute_reply": "2022-03-12T08:01:40.202141Z",
     "shell.execute_reply.started": "2022-03-12T07:58:25.322970Z"
    },
    "papermill": {
     "duration": 0.029069,
     "end_time": "2022-03-12T08:01:40.202300",
     "exception": false,
     "start_time": "2022-03-12T08:01:40.173231",
     "status": "completed"
    },
    "tags": []
   },
   "outputs": [
    {
     "name": "stdout",
     "output_type": "stream",
     "text": [
      "FrozenTrial(number=3, values=[0.7396873888397776], datetime_start=datetime.datetime(2022, 3, 12, 8, 1, 38, 77509), datetime_complete=datetime.datetime(2022, 3, 12, 8, 1, 39, 222431), params={'lgbmclassifier__learning_rate': 0.11765661503351789, 'lgbmclassifier__boosting_type': 'goss', 'lgbmclassifier__sub_feature': 0.7225985574581698, 'lgbmclassifier__num_leaves': 13}, distributions={'lgbmclassifier__learning_rate': LogUniformDistribution(high=1.0, low=0.1), 'lgbmclassifier__boosting_type': CategoricalDistribution(choices=('gbdt', 'dart', 'goss')), 'lgbmclassifier__sub_feature': LogUniformDistribution(high=1.0, low=0.1), 'lgbmclassifier__num_leaves': IntLogUniformDistribution(high=20, low=10, step=1)}, user_attrs={}, system_attrs={}, intermediate_values={}, trial_id=3, state=TrialState.COMPLETE, value=None)\n"
     ]
    }
   ],
   "source": [
    "print(study_rfr.best_trial)"
   ]
  },
  {
   "cell_type": "code",
   "execution_count": 20,
   "id": "1ee14623",
   "metadata": {
    "execution": {
     "iopub.execute_input": "2022-03-12T08:01:40.248070Z",
     "iopub.status.busy": "2022-03-12T08:01:40.247527Z",
     "iopub.status.idle": "2022-03-12T08:01:40.252830Z",
     "shell.execute_reply": "2022-03-12T08:01:40.252319Z",
     "shell.execute_reply.started": "2022-03-12T07:58:25.331609Z"
    },
    "papermill": {
     "duration": 0.029164,
     "end_time": "2022-03-12T08:01:40.252960",
     "exception": false,
     "start_time": "2022-03-12T08:01:40.223796",
     "status": "completed"
    },
    "tags": []
   },
   "outputs": [
    {
     "name": "stdout",
     "output_type": "stream",
     "text": [
      "{'lgbmclassifier__learning_rate': 0.11765661503351789, 'lgbmclassifier__boosting_type': 'goss', 'lgbmclassifier__sub_feature': 0.7225985574581698, 'lgbmclassifier__num_leaves': 13}\n"
     ]
    }
   ],
   "source": [
    "print(study_rfr.best_params)"
   ]
  },
  {
   "cell_type": "code",
   "execution_count": 21,
   "id": "d0fe2f3e",
   "metadata": {
    "execution": {
     "iopub.execute_input": "2022-03-12T08:01:40.300202Z",
     "iopub.status.busy": "2022-03-12T08:01:40.299611Z",
     "iopub.status.idle": "2022-03-12T08:01:40.304160Z",
     "shell.execute_reply": "2022-03-12T08:01:40.304636Z",
     "shell.execute_reply.started": "2022-03-12T07:58:25.348472Z"
    },
    "papermill": {
     "duration": 0.029709,
     "end_time": "2022-03-12T08:01:40.304799",
     "exception": false,
     "start_time": "2022-03-12T08:01:40.275090",
     "status": "completed"
    },
    "tags": []
   },
   "outputs": [
    {
     "name": "stdout",
     "output_type": "stream",
     "text": [
      "0.7396873888397776\n"
     ]
    }
   ],
   "source": [
    "print(study_rfr.best_value)"
   ]
  },
  {
   "cell_type": "code",
   "execution_count": 22,
   "id": "ef707729",
   "metadata": {
    "execution": {
     "iopub.execute_input": "2022-03-12T08:01:40.353169Z",
     "iopub.status.busy": "2022-03-12T08:01:40.352516Z",
     "iopub.status.idle": "2022-03-12T08:01:40.450396Z",
     "shell.execute_reply": "2022-03-12T08:01:40.449903Z",
     "shell.execute_reply.started": "2022-03-12T07:58:25.362329Z"
    },
    "papermill": {
     "duration": 0.122845,
     "end_time": "2022-03-12T08:01:40.450548",
     "exception": false,
     "start_time": "2022-03-12T08:01:40.327703",
     "status": "completed"
    },
    "tags": []
   },
   "outputs": [
    {
     "data": {
      "text/plain": [
       "Pipeline(steps=[('columntransformer',\n",
       "                 ColumnTransformer(transformers=[('category_transformer',\n",
       "                                                  Pipeline(steps=[('imputer_category',\n",
       "                                                                   SimpleImputer(strategy='most_frequent')),\n",
       "                                                                  ('onehot',\n",
       "                                                                   OneHotEncoder(handle_unknown='ignore'))]),\n",
       "                                                  ['gender']),\n",
       "                                                 ('numeric_transfomer',\n",
       "                                                  Pipeline(steps=[('imputer_numeric',\n",
       "                                                                   SimpleImputer()),\n",
       "                                                                  ('scaler',\n",
       "                                                                   StandardScaler())]),\n",
       "                                                  ['age', 'height_cm',\n",
       "                                                   'weight_kg', 'body fat_%',\n",
       "                                                   'diastolic', 'systolic',\n",
       "                                                   'gripForce',\n",
       "                                                   'sit and bend forward_cm',\n",
       "                                                   'sit-ups counts',\n",
       "                                                   'broad jump_cm'])])),\n",
       "                ('lgbmclassifier',\n",
       "                 LGBMClassifier(boosting_type='goss', boosting_type\"='gbdt',\n",
       "                                learning_rate=0.11765661503351789,\n",
       "                                num_leaves=13,\n",
       "                                sub_feature=0.7225985574581698))])"
      ]
     },
     "execution_count": 22,
     "metadata": {},
     "output_type": "execute_result"
    }
   ],
   "source": [
    "pipeline_rf.set_params(**study_rfr.best_params)"
   ]
  },
  {
   "cell_type": "code",
   "execution_count": 23,
   "id": "a80250cc",
   "metadata": {
    "execution": {
     "iopub.execute_input": "2022-03-12T08:01:40.503834Z",
     "iopub.status.busy": "2022-03-12T08:01:40.503005Z",
     "iopub.status.idle": "2022-03-12T08:01:40.993128Z",
     "shell.execute_reply": "2022-03-12T08:01:40.992567Z",
     "shell.execute_reply.started": "2022-03-12T07:58:25.494282Z"
    },
    "papermill": {
     "duration": 0.520477,
     "end_time": "2022-03-12T08:01:40.993271",
     "exception": false,
     "start_time": "2022-03-12T08:01:40.472794",
     "status": "completed"
    },
    "tags": []
   },
   "outputs": [
    {
     "name": "stderr",
     "output_type": "stream",
     "text": [
      "/opt/conda/lib/python3.7/site-packages/sklearn/utils/validation.py:72: DataConversionWarning: A column-vector y was passed when a 1d array was expected. Please change the shape of y to (n_samples, ), for example using ravel().\n",
      "  return f(**kwargs)\n"
     ]
    },
    {
     "data": {
      "text/plain": [
       "Pipeline(steps=[('columntransformer',\n",
       "                 ColumnTransformer(transformers=[('category_transformer',\n",
       "                                                  Pipeline(steps=[('imputer_category',\n",
       "                                                                   SimpleImputer(strategy='most_frequent')),\n",
       "                                                                  ('onehot',\n",
       "                                                                   OneHotEncoder(handle_unknown='ignore'))]),\n",
       "                                                  ['gender']),\n",
       "                                                 ('numeric_transfomer',\n",
       "                                                  Pipeline(steps=[('imputer_numeric',\n",
       "                                                                   SimpleImputer()),\n",
       "                                                                  ('scaler',\n",
       "                                                                   StandardScaler())]),\n",
       "                                                  ['age', 'height_cm',\n",
       "                                                   'weight_kg', 'body fat_%',\n",
       "                                                   'diastolic', 'systolic',\n",
       "                                                   'gripForce',\n",
       "                                                   'sit and bend forward_cm',\n",
       "                                                   'sit-ups counts',\n",
       "                                                   'broad jump_cm'])])),\n",
       "                ('lgbmclassifier',\n",
       "                 LGBMClassifier(boosting_type='goss', boosting_type\"='gbdt',\n",
       "                                learning_rate=0.11765661503351789,\n",
       "                                num_leaves=13,\n",
       "                                sub_feature=0.7225985574581698))])"
      ]
     },
     "execution_count": 23,
     "metadata": {},
     "output_type": "execute_result"
    }
   ],
   "source": [
    "pipeline_rf.fit(X_train, y_train)"
   ]
  },
  {
   "cell_type": "code",
   "execution_count": 24,
   "id": "a520edbf",
   "metadata": {
    "execution": {
     "iopub.execute_input": "2022-03-12T08:01:41.047355Z",
     "iopub.status.busy": "2022-03-12T08:01:41.046767Z",
     "iopub.status.idle": "2022-03-12T08:01:41.173618Z",
     "shell.execute_reply": "2022-03-12T08:01:41.174172Z",
     "shell.execute_reply.started": "2022-03-12T07:58:26.612558Z"
    },
    "papermill": {
     "duration": 0.158238,
     "end_time": "2022-03-12T08:01:41.174364",
     "exception": false,
     "start_time": "2022-03-12T08:01:41.016126",
     "status": "completed"
    },
    "tags": []
   },
   "outputs": [],
   "source": [
    "y_train_pred = pipeline_rf.predict(X_train)\n",
    "y_test_pred = pipeline_rf.predict(X_test)"
   ]
  },
  {
   "cell_type": "code",
   "execution_count": 25,
   "id": "7b48f6b7",
   "metadata": {
    "execution": {
     "iopub.execute_input": "2022-03-12T08:01:41.223891Z",
     "iopub.status.busy": "2022-03-12T08:01:41.223305Z",
     "iopub.status.idle": "2022-03-12T08:01:41.270427Z",
     "shell.execute_reply": "2022-03-12T08:01:41.270961Z",
     "shell.execute_reply.started": "2022-03-12T07:58:26.778876Z"
    },
    "papermill": {
     "duration": 0.073352,
     "end_time": "2022-03-12T08:01:41.271149",
     "exception": false,
     "start_time": "2022-03-12T08:01:41.197797",
     "status": "completed"
    },
    "tags": []
   },
   "outputs": [
    {
     "name": "stdout",
     "output_type": "stream",
     "text": [
      "[[2442  213   27    7]\n",
      " [ 470 1935  259   36]\n",
      " [ 174  410 1976   88]\n",
      " [  32  123  216 2306]]\n",
      "[[532 102  23   2]\n",
      " [140 380 109  18]\n",
      " [ 64 132 461  44]\n",
      " [ 11  39  73 549]]\n"
     ]
    }
   ],
   "source": [
    "from sklearn.metrics import confusion_matrix\n",
    "print(confusion_matrix(y_train, y_train_pred))\n",
    "print(confusion_matrix(y_test, y_test_pred))"
   ]
  },
  {
   "cell_type": "code",
   "execution_count": 26,
   "id": "65438388",
   "metadata": {
    "execution": {
     "iopub.execute_input": "2022-03-12T08:01:41.495779Z",
     "iopub.status.busy": "2022-03-12T08:01:41.409273Z",
     "iopub.status.idle": "2022-03-12T08:01:41.648403Z",
     "shell.execute_reply": "2022-03-12T08:01:41.647570Z",
     "shell.execute_reply.started": "2022-03-12T07:58:26.866846Z"
    },
    "papermill": {
     "duration": 0.353897,
     "end_time": "2022-03-12T08:01:41.648620",
     "exception": false,
     "start_time": "2022-03-12T08:01:41.294723",
     "status": "completed"
    },
    "tags": []
   },
   "outputs": [
    {
     "name": "stdout",
     "output_type": "stream",
     "text": [
      "              precision    recall  f1-score   support\n",
      "\n",
      "           A       0.78      0.91      0.84      2689\n",
      "           B       0.72      0.72      0.72      2700\n",
      "           C       0.80      0.75      0.77      2648\n",
      "           D       0.95      0.86      0.90      2677\n",
      "\n",
      "    accuracy                           0.81     10714\n",
      "   macro avg       0.81      0.81      0.81     10714\n",
      "weighted avg       0.81      0.81      0.81     10714\n",
      "\n",
      "              precision    recall  f1-score   support\n",
      "\n",
      "           A       0.71      0.81      0.76       659\n",
      "           B       0.58      0.59      0.58       647\n",
      "           C       0.69      0.66      0.67       701\n",
      "           D       0.90      0.82      0.85       672\n",
      "\n",
      "    accuracy                           0.72      2679\n",
      "   macro avg       0.72      0.72      0.72      2679\n",
      "weighted avg       0.72      0.72      0.72      2679\n",
      "\n"
     ]
    }
   ],
   "source": [
    "from sklearn.metrics import classification_report\n",
    "print(classification_report(y_train, y_train_pred))\n",
    "print(classification_report(y_test, y_test_pred))"
   ]
  },
  {
   "cell_type": "code",
   "execution_count": null,
   "id": "11706e61",
   "metadata": {
    "papermill": {
     "duration": 0.023073,
     "end_time": "2022-03-12T08:01:41.696278",
     "exception": false,
     "start_time": "2022-03-12T08:01:41.673205",
     "status": "completed"
    },
    "tags": []
   },
   "outputs": [],
   "source": []
  }
 ],
 "metadata": {
  "kernelspec": {
   "display_name": "Python 3",
   "language": "python",
   "name": "python3"
  },
  "language_info": {
   "codemirror_mode": {
    "name": "ipython",
    "version": 3
   },
   "file_extension": ".py",
   "mimetype": "text/x-python",
   "name": "python",
   "nbconvert_exporter": "python",
   "pygments_lexer": "ipython3",
   "version": "3.8.8"
  },
  "papermill": {
   "default_parameters": {},
   "duration": 24.614093,
   "end_time": "2022-03-12T08:01:42.630701",
   "environment_variables": {},
   "exception": null,
   "input_path": "__notebook__.ipynb",
   "output_path": "__notebook__.ipynb",
   "parameters": {},
   "start_time": "2022-03-12T08:01:18.016608",
   "version": "2.3.3"
  }
 },
 "nbformat": 4,
 "nbformat_minor": 5
}
