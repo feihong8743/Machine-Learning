{
 "cells": [
  {
   "cell_type": "code",
   "execution_count": 104,
   "id": "50a5284f",
   "metadata": {},
   "outputs": [],
   "source": [
    "import optuna"
   ]
  },
  {
   "cell_type": "code",
   "execution_count": 105,
   "id": "4509108d",
   "metadata": {},
   "outputs": [],
   "source": [
    "from sklearn.neighbors import KNeighborsClassifier"
   ]
  },
  {
   "cell_type": "code",
   "execution_count": 106,
   "id": "6ed8b779",
   "metadata": {},
   "outputs": [],
   "source": [
    "from sklearn.model_selection import KFold, cross_val_score"
   ]
  },
  {
   "cell_type": "code",
   "execution_count": 107,
   "id": "92d65071",
   "metadata": {},
   "outputs": [],
   "source": [
    "from sklearn.datasets import load_iris"
   ]
  },
  {
   "cell_type": "code",
   "execution_count": 108,
   "id": "255e3559",
   "metadata": {},
   "outputs": [],
   "source": [
    "iris = load_iris()"
   ]
  },
  {
   "cell_type": "code",
   "execution_count": 109,
   "id": "2b59fb67",
   "metadata": {},
   "outputs": [],
   "source": [
    "X = iris.data"
   ]
  },
  {
   "cell_type": "code",
   "execution_count": 110,
   "id": "c594c297",
   "metadata": {},
   "outputs": [],
   "source": [
    "y = iris.target"
   ]
  },
  {
   "cell_type": "code",
   "execution_count": 111,
   "id": "a1f02f2e",
   "metadata": {},
   "outputs": [
    {
     "data": {
      "text/plain": [
       "array([0, 0, 0, 0, 0, 0, 0, 0, 0, 0, 0, 0, 0, 0, 0, 0, 0, 0, 0, 0, 0, 0,\n",
       "       0, 0, 0, 0, 0, 0, 0, 0, 0, 0, 0, 0, 0, 0, 0, 0, 0, 0, 0, 0, 0, 0,\n",
       "       0, 0, 0, 0, 0, 0, 1, 1, 1, 1, 1, 1, 1, 1, 1, 1, 1, 1, 1, 1, 1, 1,\n",
       "       1, 1, 1, 1, 1, 1, 1, 1, 1, 1, 1, 1, 1, 1, 1, 1, 1, 1, 1, 1, 1, 1,\n",
       "       1, 1, 1, 1, 1, 1, 1, 1, 1, 1, 1, 1, 2, 2, 2, 2, 2, 2, 2, 2, 2, 2,\n",
       "       2, 2, 2, 2, 2, 2, 2, 2, 2, 2, 2, 2, 2, 2, 2, 2, 2, 2, 2, 2, 2, 2,\n",
       "       2, 2, 2, 2, 2, 2, 2, 2, 2, 2, 2, 2, 2, 2, 2, 2, 2, 2])"
      ]
     },
     "execution_count": 111,
     "metadata": {},
     "output_type": "execute_result"
    }
   ],
   "source": [
    "y"
   ]
  },
  {
   "cell_type": "code",
   "execution_count": 112,
   "id": "e2ec37f7",
   "metadata": {},
   "outputs": [],
   "source": [
    "from sklearn.model_selection import train_test_split"
   ]
  },
  {
   "cell_type": "code",
   "execution_count": 113,
   "id": "1756123c",
   "metadata": {},
   "outputs": [],
   "source": [
    "X_train, X_test, y_train, y_test = train_test_split(X, y, test_size = 0.3, random_state = 14)"
   ]
  },
  {
   "cell_type": "code",
   "execution_count": 114,
   "id": "59344fd8",
   "metadata": {},
   "outputs": [],
   "source": [
    "def objective(trail):\n",
    "    optimizer = trail.suggest_categorical('algorithm', ['auto', 'ball_tree', 'kd_tree', 'brute'])\n",
    "    fx_weights = trail.suggest_categorical('weights', ['uniform', 'distance'])\n",
    "    fx_max_depth = trail.suggest_int(\"k_n_neighbors\", 2, 10, log=True)\n",
    "    knn = KNeighborsClassifier(n_neighbors=fx_max_depth, algorithm=optimizer,weights=fx_weights)\n",
    "    \n",
    "    score = cross_val_score(knn, X_train, y_train, n_jobs = -1, cv = 3)\n",
    "    print(score)\n",
    "    accuracy = score.mean()\n",
    "    return accuracy"
   ]
  },
  {
   "cell_type": "code",
   "execution_count": 115,
   "id": "255c69be",
   "metadata": {},
   "outputs": [
    {
     "name": "stderr",
     "output_type": "stream",
     "text": [
      "\u001b[32m[I 2022-02-12 19:18:59,924]\u001b[0m A new study created in memory with name: no-name-3acbc589-f8c3-4018-bdec-8b8a05669596\u001b[0m\n",
      "\u001b[32m[I 2022-02-12 19:19:03,336]\u001b[0m Trial 0 finished with value: 0.9619047619047619 and parameters: {'algorithm': 'auto', 'weights': 'distance', 'k_n_neighbors': 3}. Best is trial 0 with value: 0.9619047619047619.\u001b[0m\n"
     ]
    },
    {
     "name": "stdout",
     "output_type": "stream",
     "text": [
      "[0.97142857 0.94285714 0.97142857]\n"
     ]
    },
    {
     "name": "stderr",
     "output_type": "stream",
     "text": [
      "\u001b[32m[I 2022-02-12 19:19:04,201]\u001b[0m Trial 1 finished with value: 0.9714285714285714 and parameters: {'algorithm': 'kd_tree', 'weights': 'uniform', 'k_n_neighbors': 3}. Best is trial 1 with value: 0.9714285714285714.\u001b[0m\n",
      "\u001b[32m[I 2022-02-12 19:19:04,228]\u001b[0m Trial 2 finished with value: 0.942857142857143 and parameters: {'algorithm': 'auto', 'weights': 'distance', 'k_n_neighbors': 2}. Best is trial 1 with value: 0.9714285714285714.\u001b[0m\n",
      "\u001b[32m[I 2022-02-12 19:19:04,259]\u001b[0m Trial 3 finished with value: 0.9714285714285714 and parameters: {'algorithm': 'ball_tree', 'weights': 'uniform', 'k_n_neighbors': 3}. Best is trial 1 with value: 0.9714285714285714.\u001b[0m\n",
      "\u001b[32m[I 2022-02-12 19:19:04,282]\u001b[0m Trial 4 finished with value: 0.9333333333333332 and parameters: {'algorithm': 'kd_tree', 'weights': 'uniform', 'k_n_neighbors': 2}. Best is trial 1 with value: 0.9714285714285714.\u001b[0m\n",
      "\u001b[32m[I 2022-02-12 19:19:04,305]\u001b[0m Trial 5 finished with value: 0.9619047619047619 and parameters: {'algorithm': 'brute', 'weights': 'distance', 'k_n_neighbors': 7}. Best is trial 1 with value: 0.9714285714285714.\u001b[0m\n",
      "\u001b[32m[I 2022-02-12 19:19:04,334]\u001b[0m Trial 6 finished with value: 0.9714285714285714 and parameters: {'algorithm': 'ball_tree', 'weights': 'uniform', 'k_n_neighbors': 3}. Best is trial 1 with value: 0.9714285714285714.\u001b[0m\n",
      "\u001b[32m[I 2022-02-12 19:19:04,351]\u001b[0m Trial 7 finished with value: 0.942857142857143 and parameters: {'algorithm': 'brute', 'weights': 'distance', 'k_n_neighbors': 2}. Best is trial 1 with value: 0.9714285714285714.\u001b[0m\n",
      "\u001b[32m[I 2022-02-12 19:19:04,379]\u001b[0m Trial 8 finished with value: 0.9523809523809522 and parameters: {'algorithm': 'auto', 'weights': 'uniform', 'k_n_neighbors': 6}. Best is trial 1 with value: 0.9714285714285714.\u001b[0m\n",
      "\u001b[32m[I 2022-02-12 19:19:04,402]\u001b[0m Trial 9 finished with value: 0.9523809523809524 and parameters: {'algorithm': 'brute', 'weights': 'distance', 'k_n_neighbors': 5}. Best is trial 1 with value: 0.9714285714285714.\u001b[0m\n"
     ]
    },
    {
     "name": "stdout",
     "output_type": "stream",
     "text": [
      "[1.         0.94285714 0.97142857]\n",
      "[0.91428571 0.94285714 0.97142857]\n",
      "[1.         0.94285714 0.97142857]\n",
      "[0.91428571 0.94285714 0.94285714]\n",
      "[0.97142857 0.91428571 1.        ]\n",
      "[1.         0.94285714 0.97142857]\n",
      "[0.91428571 0.94285714 0.97142857]\n",
      "[0.97142857 0.94285714 0.94285714]\n",
      "[0.97142857 0.91428571 0.97142857]\n"
     ]
    },
    {
     "name": "stderr",
     "output_type": "stream",
     "text": [
      "\u001b[32m[I 2022-02-12 19:19:04,433]\u001b[0m Trial 10 finished with value: 0.9619047619047619 and parameters: {'algorithm': 'kd_tree', 'weights': 'uniform', 'k_n_neighbors': 9}. Best is trial 1 with value: 0.9714285714285714.\u001b[0m\n",
      "\u001b[32m[I 2022-02-12 19:19:04,460]\u001b[0m Trial 11 finished with value: 0.9714285714285714 and parameters: {'algorithm': 'ball_tree', 'weights': 'uniform', 'k_n_neighbors': 3}. Best is trial 1 with value: 0.9714285714285714.\u001b[0m\n",
      "\u001b[32m[I 2022-02-12 19:19:04,495]\u001b[0m Trial 12 finished with value: 0.9428571428571427 and parameters: {'algorithm': 'kd_tree', 'weights': 'uniform', 'k_n_neighbors': 4}. Best is trial 1 with value: 0.9714285714285714.\u001b[0m\n",
      "\u001b[32m[I 2022-02-12 19:19:04,544]\u001b[0m Trial 13 finished with value: 0.9428571428571427 and parameters: {'algorithm': 'ball_tree', 'weights': 'uniform', 'k_n_neighbors': 4}. Best is trial 1 with value: 0.9714285714285714.\u001b[0m\n",
      "\u001b[32m[I 2022-02-12 19:19:04,568]\u001b[0m Trial 14 finished with value: 0.9714285714285714 and parameters: {'algorithm': 'ball_tree', 'weights': 'uniform', 'k_n_neighbors': 3}. Best is trial 1 with value: 0.9714285714285714.\u001b[0m\n",
      "\u001b[32m[I 2022-02-12 19:19:04,598]\u001b[0m Trial 15 finished with value: 0.9523809523809522 and parameters: {'algorithm': 'kd_tree', 'weights': 'uniform', 'k_n_neighbors': 5}. Best is trial 1 with value: 0.9714285714285714.\u001b[0m\n",
      "\u001b[32m[I 2022-02-12 19:19:04,627]\u001b[0m Trial 16 finished with value: 0.9714285714285714 and parameters: {'algorithm': 'ball_tree', 'weights': 'uniform', 'k_n_neighbors': 3}. Best is trial 1 with value: 0.9714285714285714.\u001b[0m\n"
     ]
    },
    {
     "name": "stdout",
     "output_type": "stream",
     "text": [
      "[1.         0.91428571 0.97142857]\n",
      "[1.         0.94285714 0.97142857]\n",
      "[0.94285714 0.94285714 0.94285714]\n",
      "[0.94285714 0.94285714 0.94285714]\n",
      "[1.         0.94285714 0.97142857]\n",
      "[1.         0.91428571 0.94285714]\n",
      "[1.         0.94285714 0.97142857]\n"
     ]
    },
    {
     "name": "stderr",
     "output_type": "stream",
     "text": [
      "\u001b[32m[I 2022-02-12 19:19:04,664]\u001b[0m Trial 17 finished with value: 0.9428571428571427 and parameters: {'algorithm': 'kd_tree', 'weights': 'uniform', 'k_n_neighbors': 4}. Best is trial 1 with value: 0.9714285714285714.\u001b[0m\n",
      "\u001b[32m[I 2022-02-12 19:19:04,697]\u001b[0m Trial 18 finished with value: 0.9333333333333332 and parameters: {'algorithm': 'ball_tree', 'weights': 'uniform', 'k_n_neighbors': 2}. Best is trial 1 with value: 0.9714285714285714.\u001b[0m\n",
      "\u001b[32m[I 2022-02-12 19:19:04,725]\u001b[0m Trial 19 finished with value: 0.9523809523809522 and parameters: {'algorithm': 'kd_tree', 'weights': 'uniform', 'k_n_neighbors': 5}. Best is trial 1 with value: 0.9714285714285714.\u001b[0m\n"
     ]
    },
    {
     "name": "stdout",
     "output_type": "stream",
     "text": [
      "[0.94285714 0.94285714 0.94285714]\n",
      "[0.91428571 0.94285714 0.94285714]\n",
      "[1.         0.91428571 0.94285714]\n",
      "FrozenTrial(number=1, values=[0.9714285714285714], datetime_start=datetime.datetime(2022, 2, 12, 19, 19, 3, 355724), datetime_complete=datetime.datetime(2022, 2, 12, 19, 19, 4, 200848), params={'algorithm': 'kd_tree', 'weights': 'uniform', 'k_n_neighbors': 3}, distributions={'algorithm': CategoricalDistribution(choices=('auto', 'ball_tree', 'kd_tree', 'brute')), 'weights': CategoricalDistribution(choices=('uniform', 'distance')), 'k_n_neighbors': IntLogUniformDistribution(high=10, low=2, step=1)}, user_attrs={}, system_attrs={}, intermediate_values={}, trial_id=1, state=TrialState.COMPLETE, value=None)\n"
     ]
    }
   ],
   "source": [
    "study = optuna.create_study(direction = \"maximize\")\n",
    "study.optimize(objective, n_trials = 20)\n",
    "print(study.best_trial)"
   ]
  },
  {
   "cell_type": "code",
   "execution_count": 116,
   "id": "a6e7cc7e",
   "metadata": {},
   "outputs": [
    {
     "data": {
      "text/plain": [
       "{'algorithm': 'kd_tree', 'weights': 'uniform', 'k_n_neighbors': 3}"
      ]
     },
     "execution_count": 116,
     "metadata": {},
     "output_type": "execute_result"
    }
   ],
   "source": [
    "study.best_params"
   ]
  },
  {
   "cell_type": "code",
   "execution_count": 117,
   "id": "f7e62f79",
   "metadata": {},
   "outputs": [
    {
     "data": {
      "text/plain": [
       "0.9714285714285714"
      ]
     },
     "execution_count": 117,
     "metadata": {},
     "output_type": "execute_result"
    }
   ],
   "source": [
    "study.best_value"
   ]
  },
  {
   "cell_type": "code",
   "execution_count": null,
   "id": "7f0a754b",
   "metadata": {},
   "outputs": [],
   "source": []
  },
  {
   "cell_type": "code",
   "execution_count": null,
   "id": "3be9b269",
   "metadata": {},
   "outputs": [],
   "source": []
  },
  {
   "cell_type": "code",
   "execution_count": null,
   "id": "4f0e17a8",
   "metadata": {},
   "outputs": [],
   "source": []
  }
 ],
 "metadata": {
  "kernelspec": {
   "display_name": "Python 3",
   "language": "python",
   "name": "python3"
  },
  "language_info": {
   "codemirror_mode": {
    "name": "ipython",
    "version": 3
   },
   "file_extension": ".py",
   "mimetype": "text/x-python",
   "name": "python",
   "nbconvert_exporter": "python",
   "pygments_lexer": "ipython3",
   "version": "3.8.8"
  }
 },
 "nbformat": 4,
 "nbformat_minor": 5
}
